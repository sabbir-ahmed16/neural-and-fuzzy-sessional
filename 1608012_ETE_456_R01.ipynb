{
  "nbformat": 4,
  "nbformat_minor": 5,
  "metadata": {
    "kernelspec": {
      "display_name": "Python 3",
      "language": "python",
      "name": "python3"
    },
    "language_info": {
      "codemirror_mode": {
        "name": "ipython",
        "version": 3
      },
      "file_extension": ".py",
      "mimetype": "text/x-python",
      "name": "python",
      "nbconvert_exporter": "python",
      "pygments_lexer": "ipython3",
      "version": "3.8.5"
    },
    "colab": {
      "name": "1608012_ETE 456_R01.ipynb",
      "provenance": [],
      "include_colab_link": true
    }
  },
  "cells": [
    {
      "cell_type": "markdown",
      "metadata": {
        "id": "view-in-github",
        "colab_type": "text"
      },
      "source": [
        "<a href=\"https://colab.research.google.com/github/sabbir-ahmed16/neural-and-fuzzy-sessional/blob/main/1608012_ETE_456_R01.ipynb\" target=\"_parent\"><img src=\"https://colab.research.google.com/assets/colab-badge.svg\" alt=\"Open In Colab\"/></a>"
      ]
    },
    {
      "cell_type": "markdown",
      "metadata": {
        "id": "ZneLHR_nSFPq"
      },
      "source": [
        "## Objectives:\n",
        "- To apply various regression algorithms on real world dataset."
      ],
      "id": "ZneLHR_nSFPq"
    },
    {
      "cell_type": "markdown",
      "metadata": {
        "id": "QOC7l8s7SFPq"
      },
      "source": [
        "### Importing Libraries"
      ],
      "id": "QOC7l8s7SFPq"
    },
    {
      "cell_type": "code",
      "metadata": {
        "id": "zf_7t1pdSFPr"
      },
      "source": [
        "import numpy as np\n",
        "import pandas as pd\n",
        "import matplotlib.pyplot as plt"
      ],
      "id": "zf_7t1pdSFPr",
      "execution_count": 1,
      "outputs": []
    },
    {
      "cell_type": "markdown",
      "metadata": {
        "id": "ebz_1z1bSFPs"
      },
      "source": [
        "### Downloading and Reading the Dataset\n",
        "\n",
        "<b>Some basic information provided with the dataset are - </b>\n",
        "- The column names are:\n",
        "  - <b>Age:</b> Age of primary beneficiary.\n",
        "  - <b>Sex:</b> Insurance contractor gender.\n",
        "  - <b>BMI:</b> Body Mass Index, providing an understanding of body weight with respect to the body height.\n",
        "  - <b>Children:</b> Number of children covered by health insurance / Number of dependents.\n",
        "  - <b>Smoker:</b> Does the person smoke or not?\n",
        "  - <b>Region:</b> The beneficiary's residential area in the US.\n",
        "  - <b>Charges:</b> Individual medical costs billed by health insurance."
      ],
      "id": "ebz_1z1bSFPs"
    },
    {
      "cell_type": "code",
      "metadata": {
        "id": "5Bv4yabMSFPs"
      },
      "source": [
        "dataset = pd.read_csv(\"https://www.dropbox.com/s/mwgqgjbmfw0xa5p/insurance.csv?dl=1\")"
      ],
      "id": "5Bv4yabMSFPs",
      "execution_count": 2,
      "outputs": []
    },
    {
      "cell_type": "markdown",
      "metadata": {
        "id": "KcMdtOc4SFPt"
      },
      "source": [
        "### Extracting Basic Information from the Dataset\n",
        "- What information are given?\n",
        "- How many columns are there in the dataset?\n",
        "- What type of data each column contains?\n",
        "- What is the size of the dataset?"
      ],
      "id": "KcMdtOc4SFPt"
    },
    {
      "cell_type": "code",
      "metadata": {
        "colab": {
          "base_uri": "https://localhost:8080/",
          "height": 363
        },
        "id": "2Nnhuju0SFPu",
        "outputId": "20a5b8f5-6a29-4e53-9e2a-1a43699808ea"
      },
      "source": [
        "# Displaying first 10 rows\n",
        "dataset.head(10)"
      ],
      "id": "2Nnhuju0SFPu",
      "execution_count": 3,
      "outputs": [
        {
          "output_type": "execute_result",
          "data": {
            "text/html": [
              "<div>\n",
              "<style scoped>\n",
              "    .dataframe tbody tr th:only-of-type {\n",
              "        vertical-align: middle;\n",
              "    }\n",
              "\n",
              "    .dataframe tbody tr th {\n",
              "        vertical-align: top;\n",
              "    }\n",
              "\n",
              "    .dataframe thead th {\n",
              "        text-align: right;\n",
              "    }\n",
              "</style>\n",
              "<table border=\"1\" class=\"dataframe\">\n",
              "  <thead>\n",
              "    <tr style=\"text-align: right;\">\n",
              "      <th></th>\n",
              "      <th>age</th>\n",
              "      <th>sex</th>\n",
              "      <th>bmi</th>\n",
              "      <th>children</th>\n",
              "      <th>smoker</th>\n",
              "      <th>region</th>\n",
              "      <th>charges</th>\n",
              "    </tr>\n",
              "  </thead>\n",
              "  <tbody>\n",
              "    <tr>\n",
              "      <th>0</th>\n",
              "      <td>19</td>\n",
              "      <td>female</td>\n",
              "      <td>27.900</td>\n",
              "      <td>0</td>\n",
              "      <td>yes</td>\n",
              "      <td>southwest</td>\n",
              "      <td>16884.92400</td>\n",
              "    </tr>\n",
              "    <tr>\n",
              "      <th>1</th>\n",
              "      <td>18</td>\n",
              "      <td>male</td>\n",
              "      <td>33.770</td>\n",
              "      <td>1</td>\n",
              "      <td>no</td>\n",
              "      <td>southeast</td>\n",
              "      <td>1725.55230</td>\n",
              "    </tr>\n",
              "    <tr>\n",
              "      <th>2</th>\n",
              "      <td>28</td>\n",
              "      <td>male</td>\n",
              "      <td>33.000</td>\n",
              "      <td>3</td>\n",
              "      <td>no</td>\n",
              "      <td>southeast</td>\n",
              "      <td>4449.46200</td>\n",
              "    </tr>\n",
              "    <tr>\n",
              "      <th>3</th>\n",
              "      <td>33</td>\n",
              "      <td>male</td>\n",
              "      <td>22.705</td>\n",
              "      <td>0</td>\n",
              "      <td>no</td>\n",
              "      <td>northwest</td>\n",
              "      <td>21984.47061</td>\n",
              "    </tr>\n",
              "    <tr>\n",
              "      <th>4</th>\n",
              "      <td>32</td>\n",
              "      <td>male</td>\n",
              "      <td>28.880</td>\n",
              "      <td>0</td>\n",
              "      <td>no</td>\n",
              "      <td>northwest</td>\n",
              "      <td>3866.85520</td>\n",
              "    </tr>\n",
              "    <tr>\n",
              "      <th>5</th>\n",
              "      <td>31</td>\n",
              "      <td>female</td>\n",
              "      <td>25.740</td>\n",
              "      <td>0</td>\n",
              "      <td>no</td>\n",
              "      <td>southeast</td>\n",
              "      <td>3756.62160</td>\n",
              "    </tr>\n",
              "    <tr>\n",
              "      <th>6</th>\n",
              "      <td>46</td>\n",
              "      <td>female</td>\n",
              "      <td>33.440</td>\n",
              "      <td>1</td>\n",
              "      <td>no</td>\n",
              "      <td>southeast</td>\n",
              "      <td>8240.58960</td>\n",
              "    </tr>\n",
              "    <tr>\n",
              "      <th>7</th>\n",
              "      <td>37</td>\n",
              "      <td>female</td>\n",
              "      <td>27.740</td>\n",
              "      <td>3</td>\n",
              "      <td>no</td>\n",
              "      <td>northwest</td>\n",
              "      <td>7281.50560</td>\n",
              "    </tr>\n",
              "    <tr>\n",
              "      <th>8</th>\n",
              "      <td>37</td>\n",
              "      <td>male</td>\n",
              "      <td>29.830</td>\n",
              "      <td>2</td>\n",
              "      <td>no</td>\n",
              "      <td>northeast</td>\n",
              "      <td>6406.41070</td>\n",
              "    </tr>\n",
              "    <tr>\n",
              "      <th>9</th>\n",
              "      <td>60</td>\n",
              "      <td>female</td>\n",
              "      <td>25.840</td>\n",
              "      <td>0</td>\n",
              "      <td>no</td>\n",
              "      <td>northwest</td>\n",
              "      <td>28923.13692</td>\n",
              "    </tr>\n",
              "  </tbody>\n",
              "</table>\n",
              "</div>"
            ],
            "text/plain": [
              "   age     sex     bmi  children smoker     region      charges\n",
              "0   19  female  27.900         0    yes  southwest  16884.92400\n",
              "1   18    male  33.770         1     no  southeast   1725.55230\n",
              "2   28    male  33.000         3     no  southeast   4449.46200\n",
              "3   33    male  22.705         0     no  northwest  21984.47061\n",
              "4   32    male  28.880         0     no  northwest   3866.85520\n",
              "5   31  female  25.740         0     no  southeast   3756.62160\n",
              "6   46  female  33.440         1     no  southeast   8240.58960\n",
              "7   37  female  27.740         3     no  northwest   7281.50560\n",
              "8   37    male  29.830         2     no  northeast   6406.41070\n",
              "9   60  female  25.840         0     no  northwest  28923.13692"
            ]
          },
          "metadata": {},
          "execution_count": 3
        }
      ]
    },
    {
      "cell_type": "code",
      "metadata": {
        "colab": {
          "base_uri": "https://localhost:8080/",
          "height": 300
        },
        "id": "FmAdPJreSFPv",
        "outputId": "b1236edb-e757-4353-850d-a2191cd5ed89"
      },
      "source": [
        "dataset.describe()"
      ],
      "id": "FmAdPJreSFPv",
      "execution_count": 4,
      "outputs": [
        {
          "output_type": "execute_result",
          "data": {
            "text/html": [
              "<div>\n",
              "<style scoped>\n",
              "    .dataframe tbody tr th:only-of-type {\n",
              "        vertical-align: middle;\n",
              "    }\n",
              "\n",
              "    .dataframe tbody tr th {\n",
              "        vertical-align: top;\n",
              "    }\n",
              "\n",
              "    .dataframe thead th {\n",
              "        text-align: right;\n",
              "    }\n",
              "</style>\n",
              "<table border=\"1\" class=\"dataframe\">\n",
              "  <thead>\n",
              "    <tr style=\"text-align: right;\">\n",
              "      <th></th>\n",
              "      <th>age</th>\n",
              "      <th>bmi</th>\n",
              "      <th>children</th>\n",
              "      <th>charges</th>\n",
              "    </tr>\n",
              "  </thead>\n",
              "  <tbody>\n",
              "    <tr>\n",
              "      <th>count</th>\n",
              "      <td>1338.000000</td>\n",
              "      <td>1338.000000</td>\n",
              "      <td>1338.000000</td>\n",
              "      <td>1338.000000</td>\n",
              "    </tr>\n",
              "    <tr>\n",
              "      <th>mean</th>\n",
              "      <td>39.207025</td>\n",
              "      <td>30.663397</td>\n",
              "      <td>1.094918</td>\n",
              "      <td>13270.422265</td>\n",
              "    </tr>\n",
              "    <tr>\n",
              "      <th>std</th>\n",
              "      <td>14.049960</td>\n",
              "      <td>6.098187</td>\n",
              "      <td>1.205493</td>\n",
              "      <td>12110.011237</td>\n",
              "    </tr>\n",
              "    <tr>\n",
              "      <th>min</th>\n",
              "      <td>18.000000</td>\n",
              "      <td>15.960000</td>\n",
              "      <td>0.000000</td>\n",
              "      <td>1121.873900</td>\n",
              "    </tr>\n",
              "    <tr>\n",
              "      <th>25%</th>\n",
              "      <td>27.000000</td>\n",
              "      <td>26.296250</td>\n",
              "      <td>0.000000</td>\n",
              "      <td>4740.287150</td>\n",
              "    </tr>\n",
              "    <tr>\n",
              "      <th>50%</th>\n",
              "      <td>39.000000</td>\n",
              "      <td>30.400000</td>\n",
              "      <td>1.000000</td>\n",
              "      <td>9382.033000</td>\n",
              "    </tr>\n",
              "    <tr>\n",
              "      <th>75%</th>\n",
              "      <td>51.000000</td>\n",
              "      <td>34.693750</td>\n",
              "      <td>2.000000</td>\n",
              "      <td>16639.912515</td>\n",
              "    </tr>\n",
              "    <tr>\n",
              "      <th>max</th>\n",
              "      <td>64.000000</td>\n",
              "      <td>53.130000</td>\n",
              "      <td>5.000000</td>\n",
              "      <td>63770.428010</td>\n",
              "    </tr>\n",
              "  </tbody>\n",
              "</table>\n",
              "</div>"
            ],
            "text/plain": [
              "               age          bmi     children       charges\n",
              "count  1338.000000  1338.000000  1338.000000   1338.000000\n",
              "mean     39.207025    30.663397     1.094918  13270.422265\n",
              "std      14.049960     6.098187     1.205493  12110.011237\n",
              "min      18.000000    15.960000     0.000000   1121.873900\n",
              "25%      27.000000    26.296250     0.000000   4740.287150\n",
              "50%      39.000000    30.400000     1.000000   9382.033000\n",
              "75%      51.000000    34.693750     2.000000  16639.912515\n",
              "max      64.000000    53.130000     5.000000  63770.428010"
            ]
          },
          "metadata": {},
          "execution_count": 4
        }
      ]
    },
    {
      "cell_type": "code",
      "metadata": {
        "colab": {
          "base_uri": "https://localhost:8080/"
        },
        "id": "XQP5mOZNSFPw",
        "outputId": "954986c4-669e-472a-a0bf-d8042742af12"
      },
      "source": [
        "# Size of the dataset\n",
        "dataset.shape"
      ],
      "id": "XQP5mOZNSFPw",
      "execution_count": 5,
      "outputs": [
        {
          "output_type": "execute_result",
          "data": {
            "text/plain": [
              "(1338, 7)"
            ]
          },
          "metadata": {},
          "execution_count": 5
        }
      ]
    },
    {
      "cell_type": "markdown",
      "metadata": {
        "id": "XbQUltADSFPw"
      },
      "source": [
        "### Analyzing the Dataset\n",
        "- Check if there is any `Null`, `NaN`, `NA` or missing values.\n",
        "- Handling the missing values.\n",
        "- To check correlation between the features and the target value.\n",
        "- Extracting feature and target vector for training ML algorithm."
      ],
      "id": "XbQUltADSFPw"
    },
    {
      "cell_type": "markdown",
      "metadata": {
        "id": "7YgoHiK4SFPx"
      },
      "source": [
        "> **Checking if there is any null values in any of the columns** - Required functions - `isnull()` and `isna()`"
      ],
      "id": "7YgoHiK4SFPx"
    },
    {
      "cell_type": "code",
      "metadata": {
        "colab": {
          "base_uri": "https://localhost:8080/"
        },
        "id": "3pvDSHfoSFPx",
        "outputId": "48249cbc-016b-4388-b099-7ac636ac64c1"
      },
      "source": [
        "dataset.isnull().any()"
      ],
      "id": "3pvDSHfoSFPx",
      "execution_count": 6,
      "outputs": [
        {
          "output_type": "execute_result",
          "data": {
            "text/plain": [
              "age         False\n",
              "sex         False\n",
              "bmi         False\n",
              "children    False\n",
              "smoker      False\n",
              "region      False\n",
              "charges     False\n",
              "dtype: bool"
            ]
          },
          "metadata": {},
          "execution_count": 6
        }
      ]
    },
    {
      "cell_type": "code",
      "metadata": {
        "colab": {
          "base_uri": "https://localhost:8080/"
        },
        "id": "xgmlehMxSFPx",
        "outputId": "359408a5-9366-4561-8f0a-29f6f8d25a33"
      },
      "source": [
        "dataset.isnull().sum()"
      ],
      "id": "xgmlehMxSFPx",
      "execution_count": 7,
      "outputs": [
        {
          "output_type": "execute_result",
          "data": {
            "text/plain": [
              "age         0\n",
              "sex         0\n",
              "bmi         0\n",
              "children    0\n",
              "smoker      0\n",
              "region      0\n",
              "charges     0\n",
              "dtype: int64"
            ]
          },
          "metadata": {},
          "execution_count": 7
        }
      ]
    },
    {
      "cell_type": "markdown",
      "metadata": {
        "id": "l__zWmMdSFPy"
      },
      "source": [
        "<div class='alert alert-block alert-success'>\n",
        "    <center><b>Since there is no null values e.g. <code>np.nan</code>, <code>NA</code> or <code>Null</code> in the dataset, there is no need to handle the missing values.</b></center>\n",
        "</div>"
      ],
      "id": "l__zWmMdSFPy"
    },
    {
      "cell_type": "markdown",
      "metadata": {
        "id": "ImHvM7aGSFPy"
      },
      "source": [
        "> **Checking correlation between the target and the various features to extract best features.**"
      ],
      "id": "ImHvM7aGSFPy"
    },
    {
      "cell_type": "code",
      "metadata": {
        "id": "4184QzglSFPz"
      },
      "source": [
        "age = dataset['age']\n",
        "bmi = dataset['bmi']\n",
        "children = dataset['children']\n",
        "target = dataset['charges']"
      ],
      "id": "4184QzglSFPz",
      "execution_count": 8,
      "outputs": []
    },
    {
      "cell_type": "code",
      "metadata": {
        "colab": {
          "base_uri": "https://localhost:8080/",
          "height": 405
        },
        "id": "7RnZYIfuSFPz",
        "outputId": "120634a4-78dd-4125-97ce-a0022d7cd380"
      },
      "source": [
        "%matplotlib inline\n",
        "plt.style.use('seaborn')\n",
        "\n",
        "plt.scatter(age, target, edgecolor='black', c='green', linewidth=1, alpha=0.75)\n",
        "\n",
        "plt.title('Age vs Charges')\n",
        "plt.xlabel('Age')\n",
        "plt.ylabel('Charge')\n",
        "plt.tight_layout()\n",
        "plt.show()"
      ],
      "id": "7RnZYIfuSFPz",
      "execution_count": 9,
      "outputs": [
        {
          "output_type": "display_data",
          "data": {
            "image/png": "[encoded data removed]",
            "text/plain": [
              "<Figure size 576x396 with 1 Axes>"
            ]
          },
          "metadata": {}
        }
      ]
    },
    {
      "cell_type": "code",
      "metadata": {
        "colab": {
          "base_uri": "https://localhost:8080/",
          "height": 405
        },
        "id": "K4Lw-g6HSFPz",
        "outputId": "3eee2b13-2c6c-45bd-a7ae-51d325d39a14"
      },
      "source": [
        "plt.style.use('seaborn')\n",
        "\n",
        "plt.scatter(bmi, target, edgecolor='black', c='red', linewidth=1, alpha=0.75)\n",
        "\n",
        "plt.title('BMI vs Charges')\n",
        "plt.xlabel('BMI')\n",
        "plt.ylabel('Charge')\n",
        "plt.tight_layout()\n",
        "plt.show()"
      ],
      "id": "K4Lw-g6HSFPz",
      "execution_count": 10,
      "outputs": [
        {
          "output_type": "display_data",
          "data": {
            "image/png": "[encoded data removed]",
            "text/plain": [
              "<Figure size 576x396 with 1 Axes>"
            ]
          },
          "metadata": {}
        }
      ]
    },
    {
      "cell_type": "code",
      "metadata": {
        "colab": {
          "base_uri": "https://localhost:8080/",
          "height": 405
        },
        "id": "FRpDpQPUSFP0",
        "outputId": "fc42a692-053f-4dad-aad9-309fd0e84410"
      },
      "source": [
        "plt.style.use('seaborn')\n",
        "\n",
        "plt.scatter(children, target, edgecolor='black', linewidth=1, alpha=0.75)\n",
        "\n",
        "plt.title('Children vs Charges')\n",
        "plt.xlabel('Children')\n",
        "plt.ylabel('Charge')\n",
        "plt.tight_layout()\n",
        "plt.show()"
      ],
      "id": "FRpDpQPUSFP0",
      "execution_count": 11,
      "outputs": [
        {
          "output_type": "display_data",
          "data": {
            "image/png": "[encoded data removed]",
            "text/plain": [
              "<Figure size 576x396 with 1 Axes>"
            ]
          },
          "metadata": {}
        }
      ]
    },
    {
      "cell_type": "code",
      "metadata": {
        "id": "idRAozqgSFP0"
      },
      "source": [
        "sex = dataset['sex']\n",
        "smoker = dataset['smoker']\n",
        "region = dataset['region']"
      ],
      "id": "idRAozqgSFP0",
      "execution_count": 12,
      "outputs": []
    },
    {
      "cell_type": "code",
      "metadata": {
        "id": "ugRMbKBdSFP1"
      },
      "source": [
        "male = sex.value_counts()['male']\n",
        "female = sex.value_counts()['female']"
      ],
      "id": "ugRMbKBdSFP1",
      "execution_count": 13,
      "outputs": []
    },
    {
      "cell_type": "code",
      "metadata": {
        "colab": {
          "base_uri": "https://localhost:8080/",
          "height": 397
        },
        "id": "kSgXWMwwSFP1",
        "outputId": "db2a350f-6c68-45fe-abd0-01371adff067"
      },
      "source": [
        "plt.style.use('fivethirtyeight')\n",
        "\n",
        "slices = [male, female]\n",
        "labels = ['Male', 'Female']\n",
        "\n",
        "plt.pie(slices, labels=labels, shadow=True, autopct='%1.1f%%', wedgeprops={'edgecolor': 'black'})\n",
        "plt.title('Showing Ratio of Male and Female')\n",
        "plt.tight_layout()\n",
        "plt.show()"
      ],
      "id": "kSgXWMwwSFP1",
      "execution_count": 14,
      "outputs": [
        {
          "output_type": "display_data",
          "data": {
            "image/png": "[encoded data removed]",
            "text/plain": [
              "<Figure size 576x396 with 1 Axes>"
            ]
          },
          "metadata": {}
        }
      ]
    },
    {
      "cell_type": "code",
      "metadata": {
        "id": "vXxUVBIuSFP1"
      },
      "source": [
        "yes = smoker.value_counts()['yes']\n",
        "no = smoker.value_counts()['no']"
      ],
      "id": "vXxUVBIuSFP1",
      "execution_count": 15,
      "outputs": []
    },
    {
      "cell_type": "code",
      "metadata": {
        "colab": {
          "base_uri": "https://localhost:8080/",
          "height": 397
        },
        "id": "Np2EY-HCSFP1",
        "outputId": "9b08529a-08b7-4ab8-ec6c-9c1b26471544"
      },
      "source": [
        "plt.style.use('fivethirtyeight')\n",
        "\n",
        "slices = [yes, no]\n",
        "labels = ['Yes', 'No']\n",
        "\n",
        "plt.pie(slices, labels=labels, shadow=True, autopct='%1.1f%%', wedgeprops={'edgecolor': 'black'})\n",
        "plt.title('Showing Ratio of Smoker and Non-smoker')\n",
        "plt.tight_layout()\n",
        "plt.show()"
      ],
      "id": "Np2EY-HCSFP1",
      "execution_count": 16,
      "outputs": [
        {
          "output_type": "display_data",
          "data": {
            "image/png": "[encoded data removed]",
            "text/plain": [
              "<Figure size 576x396 with 1 Axes>"
            ]
          },
          "metadata": {}
        }
      ]
    },
    {
      "cell_type": "code",
      "metadata": {
        "id": "u5zKXKnhSFP2"
      },
      "source": [
        "northeast = region.value_counts()['northeast']\n",
        "northwest = region.value_counts()['northwest']\n",
        "southeast = region.value_counts()['southeast']\n",
        "southwest = region.value_counts()['southwest']"
      ],
      "id": "u5zKXKnhSFP2",
      "execution_count": 17,
      "outputs": []
    },
    {
      "cell_type": "code",
      "metadata": {
        "colab": {
          "base_uri": "https://localhost:8080/",
          "height": 397
        },
        "id": "rhrTBy3oSFP2",
        "outputId": "aca3c868-0660-46af-b0e1-4d6e111e0ce9"
      },
      "source": [
        "plt.style.use('fivethirtyeight')\n",
        "\n",
        "slices = [northeast, northwest, southeast, southwest]\n",
        "labels = ['North East', 'North West', 'South East', 'South West']\n",
        "explode = [0, 0, 0.1, 0]\n",
        "\n",
        "plt.pie(slices, labels=labels, shadow=True, explode=explode, autopct='%1.1f%%', wedgeprops={'edgecolor': 'black'})\n",
        "plt.title('Showing Percentage of Residents from Different Regions')\n",
        "plt.tight_layout()\n",
        "plt.show()"
      ],
      "id": "rhrTBy3oSFP2",
      "execution_count": 18,
      "outputs": [
        {
          "output_type": "display_data",
          "data": {
            "image/png": "[encoded data removed]",
            "text/plain": [
              "<Figure size 576x396 with 1 Axes>"
            ]
          },
          "metadata": {}
        }
      ]
    },
    {
      "cell_type": "markdown",
      "metadata": {
        "id": "1FrlYkmcSFP2"
      },
      "source": [
        "### Splitting the Dataset into Features and Target"
      ],
      "id": "1FrlYkmcSFP2"
    },
    {
      "cell_type": "code",
      "metadata": {
        "id": "kLRvqMiISFP2"
      },
      "source": [
        "features = dataset[['age', 'sex', 'bmi', 'children', 'smoker', 'region']]\n",
        "target = dataset[['charges']]"
      ],
      "id": "kLRvqMiISFP2",
      "execution_count": 19,
      "outputs": []
    },
    {
      "cell_type": "markdown",
      "metadata": {
        "id": "7w7kV1BuSFP3"
      },
      "source": [
        "<div class='alert alert-block alert-info'>\n",
        "    <b>The scatter plots shows that there is weak correlation between the features BMI, AGE and CHILDREN with the MEDICAL CHARGE.</b>\n",
        "</div>"
      ],
      "id": "7w7kV1BuSFP3"
    },
    {
      "cell_type": "markdown",
      "metadata": {
        "id": "BflV2-b-SFP3"
      },
      "source": [
        "### Encoding Textual/Categorical Features\n",
        "- These features are typically stored as text values which represent various traits of the observations.\n",
        "  - The categorical features which do not have any order of precedence are called nominal features. e.g. gender - male, female\n",
        "  - Features which have some order associated with them are called ordinal features. e.g. economic status - low, medium and high.\n",
        "- Categorical features may have a very large number of levels, known as high cardinality. For example - cities.\n",
        "- Two types of encoding will be used -\n",
        "  - <b>Label Encoding</b>\n",
        "    - It encodes the categorical values by numerical values between 0 and no_categories -1. It has one disadvantage that the numerical values can be misinterpreted by the algorithm as larger numerical value will be given more weight by the algorithm.\n",
        "    \n",
        "  - <b>One-Hot Encoding</b>\n",
        "    - The disadvantage of the label encoding has been overcome by one-hot encoding. It converts each category value into a new column and assign a 1 or 0 value to the column."
      ],
      "id": "BflV2-b-SFP3"
    },
    {
      "cell_type": "code",
      "metadata": {
        "id": "7DwUnapQSFP3"
      },
      "source": [
        "from sklearn.preprocessing import LabelEncoder, OneHotEncoder"
      ],
      "id": "7DwUnapQSFP3",
      "execution_count": 20,
      "outputs": []
    },
    {
      "cell_type": "code",
      "metadata": {
        "id": "Cg2ycZufSFP3"
      },
      "source": [
        "# Label Encoding\n",
        "le = LabelEncoder()\n",
        "\n",
        "le_sex = pd.DataFrame(le.fit_transform(features['sex']))\n",
        "le_smoker = pd.DataFrame(le.fit_transform(features['smoker']))\n",
        "le_region = pd.DataFrame(le.fit_transform(features['region']))"
      ],
      "id": "Cg2ycZufSFP3",
      "execution_count": 21,
      "outputs": []
    },
    {
      "cell_type": "code",
      "metadata": {
        "id": "EEnYXvtOSFP3"
      },
      "source": [
        "# Dropping categorical features from the feature vectors\n",
        "numeric_features = features.drop(['sex', 'region', 'smoker'], axis=1)\n",
        "\n",
        "# Concatenating numerical features with encoded features\n",
        "le_features = pd.concat([numeric_features, le_sex, le_smoker, le_region], axis=1)"
      ],
      "id": "EEnYXvtOSFP3",
      "execution_count": 22,
      "outputs": []
    },
    {
      "cell_type": "code",
      "metadata": {
        "colab": {
          "base_uri": "https://localhost:8080/",
          "height": 363
        },
        "id": "mDMimTCQSFP4",
        "outputId": "f39a91d0-057c-44ab-8fe4-92a91131f80a"
      },
      "source": [
        "le_features.columns = ['age', 'bmi', 'children', 'sex', 'smoker', 'region']\n",
        "le_features.head(10)"
      ],
      "id": "mDMimTCQSFP4",
      "execution_count": 23,
      "outputs": [
        {
          "output_type": "execute_result",
          "data": {
            "text/html": [
              "<div>\n",
              "<style scoped>\n",
              "    .dataframe tbody tr th:only-of-type {\n",
              "        vertical-align: middle;\n",
              "    }\n",
              "\n",
              "    .dataframe tbody tr th {\n",
              "        vertical-align: top;\n",
              "    }\n",
              "\n",
              "    .dataframe thead th {\n",
              "        text-align: right;\n",
              "    }\n",
              "</style>\n",
              "<table border=\"1\" class=\"dataframe\">\n",
              "  <thead>\n",
              "    <tr style=\"text-align: right;\">\n",
              "      <th></th>\n",
              "      <th>age</th>\n",
              "      <th>bmi</th>\n",
              "      <th>children</th>\n",
              "      <th>sex</th>\n",
              "      <th>smoker</th>\n",
              "      <th>region</th>\n",
              "    </tr>\n",
              "  </thead>\n",
              "  <tbody>\n",
              "    <tr>\n",
              "      <th>0</th>\n",
              "      <td>19</td>\n",
              "      <td>27.900</td>\n",
              "      <td>0</td>\n",
              "      <td>0</td>\n",
              "      <td>1</td>\n",
              "      <td>3</td>\n",
              "    </tr>\n",
              "    <tr>\n",
              "      <th>1</th>\n",
              "      <td>18</td>\n",
              "      <td>33.770</td>\n",
              "      <td>1</td>\n",
              "      <td>1</td>\n",
              "      <td>0</td>\n",
              "      <td>2</td>\n",
              "    </tr>\n",
              "    <tr>\n",
              "      <th>2</th>\n",
              "      <td>28</td>\n",
              "      <td>33.000</td>\n",
              "      <td>3</td>\n",
              "      <td>1</td>\n",
              "      <td>0</td>\n",
              "      <td>2</td>\n",
              "    </tr>\n",
              "    <tr>\n",
              "      <th>3</th>\n",
              "      <td>33</td>\n",
              "      <td>22.705</td>\n",
              "      <td>0</td>\n",
              "      <td>1</td>\n",
              "      <td>0</td>\n",
              "      <td>1</td>\n",
              "    </tr>\n",
              "    <tr>\n",
              "      <th>4</th>\n",
              "      <td>32</td>\n",
              "      <td>28.880</td>\n",
              "      <td>0</td>\n",
              "      <td>1</td>\n",
              "      <td>0</td>\n",
              "      <td>1</td>\n",
              "    </tr>\n",
              "    <tr>\n",
              "      <th>5</th>\n",
              "      <td>31</td>\n",
              "      <td>25.740</td>\n",
              "      <td>0</td>\n",
              "      <td>0</td>\n",
              "      <td>0</td>\n",
              "      <td>2</td>\n",
              "    </tr>\n",
              "    <tr>\n",
              "      <th>6</th>\n",
              "      <td>46</td>\n",
              "      <td>33.440</td>\n",
              "      <td>1</td>\n",
              "      <td>0</td>\n",
              "      <td>0</td>\n",
              "      <td>2</td>\n",
              "    </tr>\n",
              "    <tr>\n",
              "      <th>7</th>\n",
              "      <td>37</td>\n",
              "      <td>27.740</td>\n",
              "      <td>3</td>\n",
              "      <td>0</td>\n",
              "      <td>0</td>\n",
              "      <td>1</td>\n",
              "    </tr>\n",
              "    <tr>\n",
              "      <th>8</th>\n",
              "      <td>37</td>\n",
              "      <td>29.830</td>\n",
              "      <td>2</td>\n",
              "      <td>1</td>\n",
              "      <td>0</td>\n",
              "      <td>0</td>\n",
              "    </tr>\n",
              "    <tr>\n",
              "      <th>9</th>\n",
              "      <td>60</td>\n",
              "      <td>25.840</td>\n",
              "      <td>0</td>\n",
              "      <td>0</td>\n",
              "      <td>0</td>\n",
              "      <td>1</td>\n",
              "    </tr>\n",
              "  </tbody>\n",
              "</table>\n",
              "</div>"
            ],
            "text/plain": [
              "   age     bmi  children  sex  smoker  region\n",
              "0   19  27.900         0    0       1       3\n",
              "1   18  33.770         1    1       0       2\n",
              "2   28  33.000         3    1       0       2\n",
              "3   33  22.705         0    1       0       1\n",
              "4   32  28.880         0    1       0       1\n",
              "5   31  25.740         0    0       0       2\n",
              "6   46  33.440         1    0       0       2\n",
              "7   37  27.740         3    0       0       1\n",
              "8   37  29.830         2    1       0       0\n",
              "9   60  25.840         0    0       0       1"
            ]
          },
          "metadata": {},
          "execution_count": 23
        }
      ]
    },
    {
      "cell_type": "code",
      "metadata": {
        "id": "dlaafJ4NSFP4"
      },
      "source": [
        "# One-Hot Encoding\n",
        "ohe_features = features\n",
        "cat_columns = ['sex', 'smoker', 'region']\n",
        "ohe = OneHotEncoder(sparse=False)\n",
        "\n",
        "enc_features = ohe.fit_transform(ohe_features[cat_columns])\n",
        "enc_df = pd.DataFrame(enc_features, index=ohe_features.index)\n",
        "ohe_features = pd.concat([numeric_features, enc_df], axis=1)"
      ],
      "id": "dlaafJ4NSFP4",
      "execution_count": 24,
      "outputs": []
    },
    {
      "cell_type": "code",
      "metadata": {
        "colab": {
          "base_uri": "https://localhost:8080/",
          "height": 363
        },
        "id": "gx41_1KGSFP4",
        "outputId": "23d95c61-06f4-484e-a0c1-791d4e44c43b"
      },
      "source": [
        "ohe_features.head(10)"
      ],
      "id": "gx41_1KGSFP4",
      "execution_count": 25,
      "outputs": [
        {
          "output_type": "execute_result",
          "data": {
            "text/html": [
              "<div>\n",
              "<style scoped>\n",
              "    .dataframe tbody tr th:only-of-type {\n",
              "        vertical-align: middle;\n",
              "    }\n",
              "\n",
              "    .dataframe tbody tr th {\n",
              "        vertical-align: top;\n",
              "    }\n",
              "\n",
              "    .dataframe thead th {\n",
              "        text-align: right;\n",
              "    }\n",
              "</style>\n",
              "<table border=\"1\" class=\"dataframe\">\n",
              "  <thead>\n",
              "    <tr style=\"text-align: right;\">\n",
              "      <th></th>\n",
              "      <th>age</th>\n",
              "      <th>bmi</th>\n",
              "      <th>children</th>\n",
              "      <th>0</th>\n",
              "      <th>1</th>\n",
              "      <th>2</th>\n",
              "      <th>3</th>\n",
              "      <th>4</th>\n",
              "      <th>5</th>\n",
              "      <th>6</th>\n",
              "      <th>7</th>\n",
              "    </tr>\n",
              "  </thead>\n",
              "  <tbody>\n",
              "    <tr>\n",
              "      <th>0</th>\n",
              "      <td>19</td>\n",
              "      <td>27.900</td>\n",
              "      <td>0</td>\n",
              "      <td>1.0</td>\n",
              "      <td>0.0</td>\n",
              "      <td>0.0</td>\n",
              "      <td>1.0</td>\n",
              "      <td>0.0</td>\n",
              "      <td>0.0</td>\n",
              "      <td>0.0</td>\n",
              "      <td>1.0</td>\n",
              "    </tr>\n",
              "    <tr>\n",
              "      <th>1</th>\n",
              "      <td>18</td>\n",
              "      <td>33.770</td>\n",
              "      <td>1</td>\n",
              "      <td>0.0</td>\n",
              "      <td>1.0</td>\n",
              "      <td>1.0</td>\n",
              "      <td>0.0</td>\n",
              "      <td>0.0</td>\n",
              "      <td>0.0</td>\n",
              "      <td>1.0</td>\n",
              "      <td>0.0</td>\n",
              "    </tr>\n",
              "    <tr>\n",
              "      <th>2</th>\n",
              "      <td>28</td>\n",
              "      <td>33.000</td>\n",
              "      <td>3</td>\n",
              "      <td>0.0</td>\n",
              "      <td>1.0</td>\n",
              "      <td>1.0</td>\n",
              "      <td>0.0</td>\n",
              "      <td>0.0</td>\n",
              "      <td>0.0</td>\n",
              "      <td>1.0</td>\n",
              "      <td>0.0</td>\n",
              "    </tr>\n",
              "    <tr>\n",
              "      <th>3</th>\n",
              "      <td>33</td>\n",
              "      <td>22.705</td>\n",
              "      <td>0</td>\n",
              "      <td>0.0</td>\n",
              "      <td>1.0</td>\n",
              "      <td>1.0</td>\n",
              "      <td>0.0</td>\n",
              "      <td>0.0</td>\n",
              "      <td>1.0</td>\n",
              "      <td>0.0</td>\n",
              "      <td>0.0</td>\n",
              "    </tr>\n",
              "    <tr>\n",
              "      <th>4</th>\n",
              "      <td>32</td>\n",
              "      <td>28.880</td>\n",
              "      <td>0</td>\n",
              "      <td>0.0</td>\n",
              "      <td>1.0</td>\n",
              "      <td>1.0</td>\n",
              "      <td>0.0</td>\n",
              "      <td>0.0</td>\n",
              "      <td>1.0</td>\n",
              "      <td>0.0</td>\n",
              "      <td>0.0</td>\n",
              "    </tr>\n",
              "    <tr>\n",
              "      <th>5</th>\n",
              "      <td>31</td>\n",
              "      <td>25.740</td>\n",
              "      <td>0</td>\n",
              "      <td>1.0</td>\n",
              "      <td>0.0</td>\n",
              "      <td>1.0</td>\n",
              "      <td>0.0</td>\n",
              "      <td>0.0</td>\n",
              "      <td>0.0</td>\n",
              "      <td>1.0</td>\n",
              "      <td>0.0</td>\n",
              "    </tr>\n",
              "    <tr>\n",
              "      <th>6</th>\n",
              "      <td>46</td>\n",
              "      <td>33.440</td>\n",
              "      <td>1</td>\n",
              "      <td>1.0</td>\n",
              "      <td>0.0</td>\n",
              "      <td>1.0</td>\n",
              "      <td>0.0</td>\n",
              "      <td>0.0</td>\n",
              "      <td>0.0</td>\n",
              "      <td>1.0</td>\n",
              "      <td>0.0</td>\n",
              "    </tr>\n",
              "    <tr>\n",
              "      <th>7</th>\n",
              "      <td>37</td>\n",
              "      <td>27.740</td>\n",
              "      <td>3</td>\n",
              "      <td>1.0</td>\n",
              "      <td>0.0</td>\n",
              "      <td>1.0</td>\n",
              "      <td>0.0</td>\n",
              "      <td>0.0</td>\n",
              "      <td>1.0</td>\n",
              "      <td>0.0</td>\n",
              "      <td>0.0</td>\n",
              "    </tr>\n",
              "    <tr>\n",
              "      <th>8</th>\n",
              "      <td>37</td>\n",
              "      <td>29.830</td>\n",
              "      <td>2</td>\n",
              "      <td>0.0</td>\n",
              "      <td>1.0</td>\n",
              "      <td>1.0</td>\n",
              "      <td>0.0</td>\n",
              "      <td>1.0</td>\n",
              "      <td>0.0</td>\n",
              "      <td>0.0</td>\n",
              "      <td>0.0</td>\n",
              "    </tr>\n",
              "    <tr>\n",
              "      <th>9</th>\n",
              "      <td>60</td>\n",
              "      <td>25.840</td>\n",
              "      <td>0</td>\n",
              "      <td>1.0</td>\n",
              "      <td>0.0</td>\n",
              "      <td>1.0</td>\n",
              "      <td>0.0</td>\n",
              "      <td>0.0</td>\n",
              "      <td>1.0</td>\n",
              "      <td>0.0</td>\n",
              "      <td>0.0</td>\n",
              "    </tr>\n",
              "  </tbody>\n",
              "</table>\n",
              "</div>"
            ],
            "text/plain": [
              "   age     bmi  children    0    1    2    3    4    5    6    7\n",
              "0   19  27.900         0  1.0  0.0  0.0  1.0  0.0  0.0  0.0  1.0\n",
              "1   18  33.770         1  0.0  1.0  1.0  0.0  0.0  0.0  1.0  0.0\n",
              "2   28  33.000         3  0.0  1.0  1.0  0.0  0.0  0.0  1.0  0.0\n",
              "3   33  22.705         0  0.0  1.0  1.0  0.0  0.0  1.0  0.0  0.0\n",
              "4   32  28.880         0  0.0  1.0  1.0  0.0  0.0  1.0  0.0  0.0\n",
              "5   31  25.740         0  1.0  0.0  1.0  0.0  0.0  0.0  1.0  0.0\n",
              "6   46  33.440         1  1.0  0.0  1.0  0.0  0.0  0.0  1.0  0.0\n",
              "7   37  27.740         3  1.0  0.0  1.0  0.0  0.0  1.0  0.0  0.0\n",
              "8   37  29.830         2  0.0  1.0  1.0  0.0  1.0  0.0  0.0  0.0\n",
              "9   60  25.840         0  1.0  0.0  1.0  0.0  0.0  1.0  0.0  0.0"
            ]
          },
          "metadata": {},
          "execution_count": 25
        }
      ]
    },
    {
      "cell_type": "code",
      "metadata": {
        "colab": {
          "base_uri": "https://localhost:8080/"
        },
        "id": "GAiTyXOiSFP4",
        "outputId": "655d1a88-cb26-4f89-dd10-2849bf7e9f2d"
      },
      "source": [
        "ohe.get_feature_names()"
      ],
      "id": "GAiTyXOiSFP4",
      "execution_count": 26,
      "outputs": [
        {
          "output_type": "stream",
          "name": "stderr",
          "text": [
            "/usr/local/lib/python3.7/dist-packages/sklearn/utils/deprecation.py:87: FutureWarning: Function get_feature_names is deprecated; get_feature_names is deprecated in 1.0 and will be removed in 1.2. Please use get_feature_names_out instead.\n",
            "  warnings.warn(msg, category=FutureWarning)\n"
          ]
        },
        {
          "output_type": "execute_result",
          "data": {
            "text/plain": [
              "array(['x0_female', 'x0_male', 'x1_no', 'x1_yes', 'x2_northeast',\n",
              "       'x2_northwest', 'x2_southeast', 'x2_southwest'], dtype=object)"
            ]
          },
          "metadata": {},
          "execution_count": 26
        }
      ]
    },
    {
      "cell_type": "code",
      "metadata": {
        "id": "lMADwtLpSFP5"
      },
      "source": [
        "# Setting the columns names for the new One-Hot Encode dataset\n",
        "ohe_features.columns = ['age', 'bmi', 'children', 'x0_female', 'x0_male', 'x1_no', 'x1_yes', 'x2_northeast',\n",
        "                        'x2_northwest', 'x2_southeast', 'x2_southwest']"
      ],
      "id": "lMADwtLpSFP5",
      "execution_count": 27,
      "outputs": []
    },
    {
      "cell_type": "code",
      "metadata": {
        "colab": {
          "base_uri": "https://localhost:8080/",
          "height": 363
        },
        "id": "COFs-xI7SFP5",
        "outputId": "c9988ca0-3e26-48c4-8ed2-b852f94c7001"
      },
      "source": [
        "ohe_features.head(10)"
      ],
      "id": "COFs-xI7SFP5",
      "execution_count": 28,
      "outputs": [
        {
          "output_type": "execute_result",
          "data": {
            "text/html": [
              "<div>\n",
              "<style scoped>\n",
              "    .dataframe tbody tr th:only-of-type {\n",
              "        vertical-align: middle;\n",
              "    }\n",
              "\n",
              "    .dataframe tbody tr th {\n",
              "        vertical-align: top;\n",
              "    }\n",
              "\n",
              "    .dataframe thead th {\n",
              "        text-align: right;\n",
              "    }\n",
              "</style>\n",
              "<table border=\"1\" class=\"dataframe\">\n",
              "  <thead>\n",
              "    <tr style=\"text-align: right;\">\n",
              "      <th></th>\n",
              "      <th>age</th>\n",
              "      <th>bmi</th>\n",
              "      <th>children</th>\n",
              "      <th>x0_female</th>\n",
              "      <th>x0_male</th>\n",
              "      <th>x1_no</th>\n",
              "      <th>x1_yes</th>\n",
              "      <th>x2_northeast</th>\n",
              "      <th>x2_northwest</th>\n",
              "      <th>x2_southeast</th>\n",
              "      <th>x2_southwest</th>\n",
              "    </tr>\n",
              "  </thead>\n",
              "  <tbody>\n",
              "    <tr>\n",
              "      <th>0</th>\n",
              "      <td>19</td>\n",
              "      <td>27.900</td>\n",
              "      <td>0</td>\n",
              "      <td>1.0</td>\n",
              "      <td>0.0</td>\n",
              "      <td>0.0</td>\n",
              "      <td>1.0</td>\n",
              "      <td>0.0</td>\n",
              "      <td>0.0</td>\n",
              "      <td>0.0</td>\n",
              "      <td>1.0</td>\n",
              "    </tr>\n",
              "    <tr>\n",
              "      <th>1</th>\n",
              "      <td>18</td>\n",
              "      <td>33.770</td>\n",
              "      <td>1</td>\n",
              "      <td>0.0</td>\n",
              "      <td>1.0</td>\n",
              "      <td>1.0</td>\n",
              "      <td>0.0</td>\n",
              "      <td>0.0</td>\n",
              "      <td>0.0</td>\n",
              "      <td>1.0</td>\n",
              "      <td>0.0</td>\n",
              "    </tr>\n",
              "    <tr>\n",
              "      <th>2</th>\n",
              "      <td>28</td>\n",
              "      <td>33.000</td>\n",
              "      <td>3</td>\n",
              "      <td>0.0</td>\n",
              "      <td>1.0</td>\n",
              "      <td>1.0</td>\n",
              "      <td>0.0</td>\n",
              "      <td>0.0</td>\n",
              "      <td>0.0</td>\n",
              "      <td>1.0</td>\n",
              "      <td>0.0</td>\n",
              "    </tr>\n",
              "    <tr>\n",
              "      <th>3</th>\n",
              "      <td>33</td>\n",
              "      <td>22.705</td>\n",
              "      <td>0</td>\n",
              "      <td>0.0</td>\n",
              "      <td>1.0</td>\n",
              "      <td>1.0</td>\n",
              "      <td>0.0</td>\n",
              "      <td>0.0</td>\n",
              "      <td>1.0</td>\n",
              "      <td>0.0</td>\n",
              "      <td>0.0</td>\n",
              "    </tr>\n",
              "    <tr>\n",
              "      <th>4</th>\n",
              "      <td>32</td>\n",
              "      <td>28.880</td>\n",
              "      <td>0</td>\n",
              "      <td>0.0</td>\n",
              "      <td>1.0</td>\n",
              "      <td>1.0</td>\n",
              "      <td>0.0</td>\n",
              "      <td>0.0</td>\n",
              "      <td>1.0</td>\n",
              "      <td>0.0</td>\n",
              "      <td>0.0</td>\n",
              "    </tr>\n",
              "    <tr>\n",
              "      <th>5</th>\n",
              "      <td>31</td>\n",
              "      <td>25.740</td>\n",
              "      <td>0</td>\n",
              "      <td>1.0</td>\n",
              "      <td>0.0</td>\n",
              "      <td>1.0</td>\n",
              "      <td>0.0</td>\n",
              "      <td>0.0</td>\n",
              "      <td>0.0</td>\n",
              "      <td>1.0</td>\n",
              "      <td>0.0</td>\n",
              "    </tr>\n",
              "    <tr>\n",
              "      <th>6</th>\n",
              "      <td>46</td>\n",
              "      <td>33.440</td>\n",
              "      <td>1</td>\n",
              "      <td>1.0</td>\n",
              "      <td>0.0</td>\n",
              "      <td>1.0</td>\n",
              "      <td>0.0</td>\n",
              "      <td>0.0</td>\n",
              "      <td>0.0</td>\n",
              "      <td>1.0</td>\n",
              "      <td>0.0</td>\n",
              "    </tr>\n",
              "    <tr>\n",
              "      <th>7</th>\n",
              "      <td>37</td>\n",
              "      <td>27.740</td>\n",
              "      <td>3</td>\n",
              "      <td>1.0</td>\n",
              "      <td>0.0</td>\n",
              "      <td>1.0</td>\n",
              "      <td>0.0</td>\n",
              "      <td>0.0</td>\n",
              "      <td>1.0</td>\n",
              "      <td>0.0</td>\n",
              "      <td>0.0</td>\n",
              "    </tr>\n",
              "    <tr>\n",
              "      <th>8</th>\n",
              "      <td>37</td>\n",
              "      <td>29.830</td>\n",
              "      <td>2</td>\n",
              "      <td>0.0</td>\n",
              "      <td>1.0</td>\n",
              "      <td>1.0</td>\n",
              "      <td>0.0</td>\n",
              "      <td>1.0</td>\n",
              "      <td>0.0</td>\n",
              "      <td>0.0</td>\n",
              "      <td>0.0</td>\n",
              "    </tr>\n",
              "    <tr>\n",
              "      <th>9</th>\n",
              "      <td>60</td>\n",
              "      <td>25.840</td>\n",
              "      <td>0</td>\n",
              "      <td>1.0</td>\n",
              "      <td>0.0</td>\n",
              "      <td>1.0</td>\n",
              "      <td>0.0</td>\n",
              "      <td>0.0</td>\n",
              "      <td>1.0</td>\n",
              "      <td>0.0</td>\n",
              "      <td>0.0</td>\n",
              "    </tr>\n",
              "  </tbody>\n",
              "</table>\n",
              "</div>"
            ],
            "text/plain": [
              "   age     bmi  children  ...  x2_northwest  x2_southeast  x2_southwest\n",
              "0   19  27.900         0  ...           0.0           0.0           1.0\n",
              "1   18  33.770         1  ...           0.0           1.0           0.0\n",
              "2   28  33.000         3  ...           0.0           1.0           0.0\n",
              "3   33  22.705         0  ...           1.0           0.0           0.0\n",
              "4   32  28.880         0  ...           1.0           0.0           0.0\n",
              "5   31  25.740         0  ...           0.0           1.0           0.0\n",
              "6   46  33.440         1  ...           0.0           1.0           0.0\n",
              "7   37  27.740         3  ...           1.0           0.0           0.0\n",
              "8   37  29.830         2  ...           0.0           0.0           0.0\n",
              "9   60  25.840         0  ...           1.0           0.0           0.0\n",
              "\n",
              "[10 rows x 11 columns]"
            ]
          },
          "metadata": {},
          "execution_count": 28
        }
      ]
    },
    {
      "cell_type": "code",
      "metadata": {
        "id": "tLKMEvYlSFP5"
      },
      "source": [
        "from sklearn.model_selection import train_test_split"
      ],
      "id": "tLKMEvYlSFP5",
      "execution_count": 29,
      "outputs": []
    },
    {
      "cell_type": "markdown",
      "metadata": {
        "id": "y6bijLNgSFP5"
      },
      "source": [
        "### Splitting the dataset into train and test set\n",
        "- The dataset will be splitted into two for training and testing the model. $20\\%$ of the data will be used for testing and the rest for training."
      ],
      "id": "y6bijLNgSFP5"
    },
    {
      "cell_type": "code",
      "metadata": {
        "id": "80K8taQeSFP5"
      },
      "source": [
        "leX_train, leX_test, y_train, y_test = train_test_split(le_features, target, test_size = 0.2, random_state = 12)\n",
        "oheX_train, oheX_test, y_train, y_test = train_test_split(le_features, target, test_size = 0.2, random_state = 12)"
      ],
      "id": "80K8taQeSFP5",
      "execution_count": 30,
      "outputs": []
    },
    {
      "cell_type": "code",
      "metadata": {
        "colab": {
          "base_uri": "https://localhost:8080/"
        },
        "id": "_Z_OzakuSFP5",
        "outputId": "42315a79-8e4d-4a98-cd67-727795753eac"
      },
      "source": [
        "print(leX_train.shape)\n",
        "print(leX_test.shape)"
      ],
      "id": "_Z_OzakuSFP5",
      "execution_count": 31,
      "outputs": [
        {
          "output_type": "stream",
          "name": "stdout",
          "text": [
            "(1070, 6)\n",
            "(268, 6)\n"
          ]
        }
      ]
    },
    {
      "cell_type": "markdown",
      "metadata": {
        "id": "WBUBGjKNSFP5"
      },
      "source": [
        "### Feature Scaling"
      ],
      "id": "WBUBGjKNSFP5"
    },
    {
      "cell_type": "code",
      "metadata": {
        "id": "32klh9uVSFP6"
      },
      "source": [
        "from sklearn.preprocessing import StandardScaler"
      ],
      "id": "32klh9uVSFP6",
      "execution_count": 32,
      "outputs": []
    },
    {
      "cell_type": "code",
      "metadata": {
        "id": "FKXl5zq8SFP6"
      },
      "source": [
        "X_sc = StandardScaler()\n",
        "y_sc = StandardScaler()\n",
        "\n",
        "# Scaling label encoded data\n",
        "lenX_train = X_sc.fit_transform(leX_train[['age', 'bmi', 'children']])\n",
        "lenX_test = X_sc.transform(leX_test[['age', 'bmi', 'children']])\n",
        "ny_train = y_sc.fit_transform(y_train[['charges']])\n",
        "ny_test = y_sc.transform(y_test[['charges']])"
      ],
      "id": "FKXl5zq8SFP6",
      "execution_count": 33,
      "outputs": []
    },
    {
      "cell_type": "code",
      "metadata": {
        "id": "i32DNFAZSFP6"
      },
      "source": [
        "X_sc = StandardScaler()\n",
        "y_sc = StandardScaler()\n",
        "\n",
        "# Scaling one-hot encoded data\n",
        "ohenX_train = X_sc.fit_transform(oheX_train[['age', 'bmi', 'children']])\n",
        "ohenX_test = X_sc.transform(oheX_test[['age', 'bmi', 'children']])"
      ],
      "id": "i32DNFAZSFP6",
      "execution_count": 34,
      "outputs": []
    },
    {
      "cell_type": "markdown",
      "metadata": {
        "id": "kONm5y_jSFP6"
      },
      "source": [
        "###  Importing evaluation metrices\n",
        "- **Mean Absolute Error**\n",
        "  - A risk metric corresponding to the expected value of the absolute error loss or $l1$-norm loss.\n",
        "  - If $\\hat{y_i}$ is the predicted value of the $i$-th sample, and $y_i$ is the corresponding true value, then the mean absolute error (MAE) over $n_samples$ is defined as -\n",
        "\n",
        "    $$MAE(y, \\hat{y}) = \\frac{1}{n_samples} \\sum_{i=0}^{n_{samples} - 1} \\left| y_i - \\hat{y_i} \\right|$$\n",
        "  \n",
        "- **Mean Squared Error**\n",
        "  - A risk metric corresponding to the expected value of the squared (quadratic) error or loss\n",
        "  - If $\\hat{y_i}$ is the predicted value of the $i$-th sample, and $y_i$ is the corresponding true value, then the mean squared error (MSE) over $n_samples$ is defined as -\n",
        "  \n",
        "    $$MSE(y, \\hat{y}) = \\frac{1}{n_samples} \\sum_{i=0}^{n_{samples} - 1}(y_i - \\hat{y_i})^2$$\n",
        "- **R2 Score**\n",
        "  - It provides an indication of goodness of fit and therefore a measure of how well unseen samples are likely to be predicted by the model. Best possible score is $1.0$ and it can be negative because the model can be arbitrarily worse. A constant model that always predicts the expected value of y, disregarding the input features, would get a $R^2$ score of $0.0$\n",
        "  - If $\\hat{y_i}$ is the predicted value of the $i$-th sample and $y_i$ is the corresponding true value for total $n$ samples, the estimated $R^2$ is defined as - \n",
        "  $$R_2(y, \\hat{y}) = 1 - \\frac{\\sum_{i=1}^{n} (y_i - \\hat{y_i})^2}{\\sum_{i=1}^{n} (y_i - \\bar{y_i})^2}$$\n",
        "    \n",
        "    where $\\bar{y} = \\frac{1}{n}\\sum_{i=1}{n} y_i$ and $\\sum_{i=1}^{n} (y_i - \\hat{y_i})^2 = \\sum_{i=1}^{n} \\epsilon_i^2$"
      ],
      "id": "kONm5y_jSFP6"
    },
    {
      "cell_type": "code",
      "metadata": {
        "id": "r-t5H8VsSFP6"
      },
      "source": [
        "from sklearn.metrics import mean_absolute_error\n",
        "from sklearn.metrics import mean_squared_error\n",
        "from sklearn.metrics import r2_score"
      ],
      "id": "r-t5H8VsSFP6",
      "execution_count": 35,
      "outputs": []
    },
    {
      "cell_type": "markdown",
      "metadata": {
        "id": "1MoQJWyJSFP6"
      },
      "source": [
        "### Linear Regression\n",
        "- **For label encoded features (Denormalized)**"
      ],
      "id": "1MoQJWyJSFP6"
    },
    {
      "cell_type": "code",
      "metadata": {
        "id": "QIzZBB1TSFP6"
      },
      "source": [
        "from sklearn.linear_model import LinearRegression"
      ],
      "id": "QIzZBB1TSFP6",
      "execution_count": 36,
      "outputs": []
    },
    {
      "cell_type": "code",
      "metadata": {
        "colab": {
          "base_uri": "https://localhost:8080/"
        },
        "id": "c24lBEX8SFP7",
        "outputId": "10cd60dc-3d47-4c5a-bd8c-35bd118f195e"
      },
      "source": [
        "# Training the model\n",
        "lin_regressor = LinearRegression()\n",
        "lin_regressor.fit(leX_train, y_train)"
      ],
      "id": "c24lBEX8SFP7",
      "execution_count": 37,
      "outputs": [
        {
          "output_type": "execute_result",
          "data": {
            "text/plain": [
              "LinearRegression()"
            ]
          },
          "metadata": {},
          "execution_count": 37
        }
      ]
    },
    {
      "cell_type": "code",
      "metadata": {
        "id": "EULMUX51SFP7"
      },
      "source": [
        "# Predicting on test set\n",
        "led_lin_pred = lin_regressor.predict(leX_test)"
      ],
      "id": "EULMUX51SFP7",
      "execution_count": 38,
      "outputs": []
    },
    {
      "cell_type": "code",
      "metadata": {
        "colab": {
          "base_uri": "https://localhost:8080/"
        },
        "id": "7HcJVqf-SFP7",
        "outputId": "e3b23887-2a4c-4359-91ec-ca1ded024c8e"
      },
      "source": [
        "print(f'Mean Absolute Error: {mean_absolute_error(y_test, led_lin_pred)}')\n",
        "print(f'Mean Squared Error: {mean_squared_error(y_test, led_lin_pred)}')\n",
        "print(f'R2 Score: {r2_score(y_test, led_lin_pred)}')"
      ],
      "id": "7HcJVqf-SFP7",
      "execution_count": 39,
      "outputs": [
        {
          "output_type": "stream",
          "name": "stdout",
          "text": [
            "Mean Absolute Error: 4318.311308833639\n",
            "Mean Squared Error: 41815438.3426143\n",
            "R2 Score: 0.709638040527346\n"
          ]
        }
      ]
    },
    {
      "cell_type": "markdown",
      "metadata": {
        "id": "rz04sinpSFP7"
      },
      "source": [
        "- **For label encoded features (Normalized)**"
      ],
      "id": "rz04sinpSFP7"
    },
    {
      "cell_type": "code",
      "metadata": {
        "colab": {
          "base_uri": "https://localhost:8080/"
        },
        "id": "QeVdcALUSFP7",
        "outputId": "6587a14c-e139-43bc-dc3f-31a609fd4b73"
      },
      "source": [
        "lin_regressor = LinearRegression()\n",
        "lin_regressor.fit(lenX_train, ny_train)"
      ],
      "id": "QeVdcALUSFP7",
      "execution_count": 40,
      "outputs": [
        {
          "output_type": "execute_result",
          "data": {
            "text/plain": [
              "LinearRegression()"
            ]
          },
          "metadata": {},
          "execution_count": 40
        }
      ]
    },
    {
      "cell_type": "code",
      "metadata": {
        "id": "SUFuP0g6SFP7"
      },
      "source": [
        "len_lin_pred = lin_regressor.predict(lenX_test)"
      ],
      "id": "SUFuP0g6SFP7",
      "execution_count": 41,
      "outputs": []
    },
    {
      "cell_type": "code",
      "metadata": {
        "colab": {
          "base_uri": "https://localhost:8080/"
        },
        "id": "6qAO4-iiSFP8",
        "outputId": "3329ceff-17bd-46ad-942f-f635433d93ef"
      },
      "source": [
        "print(f'Mean Absolute Error: {mean_absolute_error(ny_test, len_lin_pred)}')\n",
        "print(f'Mean Squared Error: {mean_squared_error(ny_test, len_lin_pred)}')\n",
        "print(f'R2 Score: {r2_score(ny_test, len_lin_pred)}')"
      ],
      "id": "6qAO4-iiSFP8",
      "execution_count": 42,
      "outputs": [
        {
          "output_type": "stream",
          "name": "stdout",
          "text": [
            "Mean Absolute Error: 0.7230570557344004\n",
            "Mean Squared Error: 0.867437212048931\n",
            "R2 Score: 0.11355350694927335\n"
          ]
        }
      ]
    },
    {
      "cell_type": "markdown",
      "metadata": {
        "id": "96tv5PWnSFP8"
      },
      "source": [
        "- **For one-hot encoded features (Denormalized)**"
      ],
      "id": "96tv5PWnSFP8"
    },
    {
      "cell_type": "code",
      "metadata": {
        "colab": {
          "base_uri": "https://localhost:8080/"
        },
        "id": "HSeUZKH3SFP8",
        "outputId": "5ac268ae-2e12-4475-e8dc-721920d8de1e"
      },
      "source": [
        "lin_regressor = LinearRegression()\n",
        "lin_regressor.fit(oheX_train, y_train)"
      ],
      "id": "HSeUZKH3SFP8",
      "execution_count": 43,
      "outputs": [
        {
          "output_type": "execute_result",
          "data": {
            "text/plain": [
              "LinearRegression()"
            ]
          },
          "metadata": {},
          "execution_count": 43
        }
      ]
    },
    {
      "cell_type": "code",
      "metadata": {
        "id": "gROAY3DvSFP8"
      },
      "source": [
        "ohed_lin_pred = lin_regressor.predict(oheX_test)"
      ],
      "id": "gROAY3DvSFP8",
      "execution_count": 44,
      "outputs": []
    },
    {
      "cell_type": "code",
      "metadata": {
        "colab": {
          "base_uri": "https://localhost:8080/"
        },
        "id": "41z6LJXJSFP8",
        "outputId": "5f7242d7-0961-47ae-8f80-1dc6be5381de"
      },
      "source": [
        "print(f'Mean Absolute Error: {mean_absolute_error(y_test, ohed_lin_pred)}')\n",
        "print(f'Mean Squared Error: {mean_squared_error(y_test, ohed_lin_pred)}')\n",
        "print(f'R2 Score: {r2_score(y_test, ohed_lin_pred)}')"
      ],
      "id": "41z6LJXJSFP8",
      "execution_count": 45,
      "outputs": [
        {
          "output_type": "stream",
          "name": "stdout",
          "text": [
            "Mean Absolute Error: 4318.311308833639\n",
            "Mean Squared Error: 41815438.3426143\n",
            "R2 Score: 0.709638040527346\n"
          ]
        }
      ]
    },
    {
      "cell_type": "markdown",
      "metadata": {
        "id": "uh0BiUEOSFP9"
      },
      "source": [
        "- **For one-hot encoded features (Normalized)**"
      ],
      "id": "uh0BiUEOSFP9"
    },
    {
      "cell_type": "code",
      "metadata": {
        "colab": {
          "base_uri": "https://localhost:8080/"
        },
        "id": "oxaEULUlSFP9",
        "outputId": "0c5d4496-66ec-4d64-807d-423d4e0c45e0"
      },
      "source": [
        "lin_regressor = LinearRegression()\n",
        "lin_regressor.fit(ohenX_train, ny_train)"
      ],
      "id": "oxaEULUlSFP9",
      "execution_count": 46,
      "outputs": [
        {
          "output_type": "execute_result",
          "data": {
            "text/plain": [
              "LinearRegression()"
            ]
          },
          "metadata": {},
          "execution_count": 46
        }
      ]
    },
    {
      "cell_type": "code",
      "metadata": {
        "id": "bUgo2aVxSFP9"
      },
      "source": [
        "ohen_lin_pred = lin_regressor.predict(ohenX_test)"
      ],
      "id": "bUgo2aVxSFP9",
      "execution_count": 47,
      "outputs": []
    },
    {
      "cell_type": "code",
      "metadata": {
        "colab": {
          "base_uri": "https://localhost:8080/"
        },
        "id": "Q00SKkLjSFP9",
        "outputId": "faf85678-b07a-47ff-9137-3b15524c779f"
      },
      "source": [
        "print(f'Mean Absolute Error: {mean_absolute_error(ny_test, ohen_lin_pred)}')\n",
        "print(f'Mean Squared Error: {mean_squared_error(ny_test, ohen_lin_pred)}')\n",
        "print(f'R2 Score: {r2_score(ny_test, ohen_lin_pred)}')"
      ],
      "id": "Q00SKkLjSFP9",
      "execution_count": 48,
      "outputs": [
        {
          "output_type": "stream",
          "name": "stdout",
          "text": [
            "Mean Absolute Error: 0.7230570557344004\n",
            "Mean Squared Error: 0.867437212048931\n",
            "R2 Score: 0.11355350694927335\n"
          ]
        }
      ]
    },
    {
      "cell_type": "markdown",
      "metadata": {
        "id": "iHki4S0nSFP9"
      },
      "source": [
        "### Support Vector Regression\n",
        "- **For label encoded features (Denormalized)**"
      ],
      "id": "iHki4S0nSFP9"
    },
    {
      "cell_type": "code",
      "metadata": {
        "id": "Nc6K_BAGSFP9"
      },
      "source": [
        "from sklearn.svm import SVR"
      ],
      "id": "Nc6K_BAGSFP9",
      "execution_count": 49,
      "outputs": []
    },
    {
      "cell_type": "code",
      "metadata": {
        "colab": {
          "base_uri": "https://localhost:8080/"
        },
        "id": "sJT1eARjSFP9",
        "outputId": "0e6fd351-abd4-4f56-de91-c6ae970e80f6"
      },
      "source": [
        "svr_regressor = SVR(kernel='linear')\n",
        "svr_regressor.fit(leX_train, np.ravel(y_train))"
      ],
      "id": "sJT1eARjSFP9",
      "execution_count": 50,
      "outputs": [
        {
          "output_type": "execute_result",
          "data": {
            "text/plain": [
              "SVR(kernel='linear')"
            ]
          },
          "metadata": {},
          "execution_count": 50
        }
      ]
    },
    {
      "cell_type": "code",
      "metadata": {
        "id": "VY5sohgqSFP-"
      },
      "source": [
        "led_svr_pred = svr_regressor.predict(leX_test)"
      ],
      "id": "VY5sohgqSFP-",
      "execution_count": 51,
      "outputs": []
    },
    {
      "cell_type": "code",
      "metadata": {
        "colab": {
          "base_uri": "https://localhost:8080/"
        },
        "id": "9dbK1GcYSFP-",
        "outputId": "b566aba3-f4c8-467a-c7d5-3ce9194459c6"
      },
      "source": [
        "print(f'Mean Absolute Error: {mean_absolute_error(y_test, led_svr_pred)}')\n",
        "print(f'Mean Squared Error: {mean_squared_error(y_test, led_svr_pred)}')\n",
        "print(f'R2 Score: {r2_score(y_test, led_svr_pred)}')"
      ],
      "id": "9dbK1GcYSFP-",
      "execution_count": 52,
      "outputs": [
        {
          "output_type": "stream",
          "name": "stdout",
          "text": [
            "Mean Absolute Error: 6183.655063230833\n",
            "Mean Squared Error: 158640380.022373\n",
            "R2 Score: -0.10158193768925661\n"
          ]
        }
      ]
    },
    {
      "cell_type": "markdown",
      "metadata": {
        "id": "aft-sRRYSFP-"
      },
      "source": [
        "- **For label encoded features (Normalized)**"
      ],
      "id": "aft-sRRYSFP-"
    },
    {
      "cell_type": "code",
      "metadata": {
        "colab": {
          "base_uri": "https://localhost:8080/"
        },
        "id": "0pwvAi8GSFP-",
        "outputId": "bce95005-3164-461e-9ea5-b119e7f39b49"
      },
      "source": [
        "svr_regressor = SVR(kernel='linear')\n",
        "svr_regressor.fit(lenX_train, np.ravel(ny_train))"
      ],
      "id": "0pwvAi8GSFP-",
      "execution_count": 53,
      "outputs": [
        {
          "output_type": "execute_result",
          "data": {
            "text/plain": [
              "SVR(kernel='linear')"
            ]
          },
          "metadata": {},
          "execution_count": 53
        }
      ]
    },
    {
      "cell_type": "code",
      "metadata": {
        "id": "ZEsW9Is2SFP-"
      },
      "source": [
        "len_svr_pred = svr_regressor.predict(lenX_test)"
      ],
      "id": "ZEsW9Is2SFP-",
      "execution_count": 54,
      "outputs": []
    },
    {
      "cell_type": "code",
      "metadata": {
        "colab": {
          "base_uri": "https://localhost:8080/"
        },
        "id": "VZYjEkO7SFP-",
        "outputId": "19939cd3-f963-49bc-c8bc-767943ff685d"
      },
      "source": [
        "print(f'Mean Absolute Error: {mean_absolute_error(ny_test, len_svr_pred)}')\n",
        "print(f'Mean Squared Error: {mean_squared_error(ny_test, len_svr_pred)}')\n",
        "print(f'R2 Score: {r2_score(ny_test, len_svr_pred)}')"
      ],
      "id": "VZYjEkO7SFP-",
      "execution_count": 55,
      "outputs": [
        {
          "output_type": "stream",
          "name": "stdout",
          "text": [
            "Mean Absolute Error: 0.5238927542778696\n",
            "Mean Squared Error: 1.0461480539320822\n",
            "R2 Score: -0.06907365828758771\n"
          ]
        }
      ]
    },
    {
      "cell_type": "markdown",
      "metadata": {
        "id": "p-NHWiEXSFP_"
      },
      "source": [
        "- **For one-hot encoded features (Denormalized)**"
      ],
      "id": "p-NHWiEXSFP_"
    },
    {
      "cell_type": "code",
      "metadata": {
        "colab": {
          "base_uri": "https://localhost:8080/"
        },
        "id": "Bt5OPLwUSFP_",
        "outputId": "c3bbd19b-7ee1-4011-c658-7cb3f8328114"
      },
      "source": [
        "svr_regressor = SVR(kernel='linear')\n",
        "svr_regressor.fit(oheX_train, np.ravel(y_train))"
      ],
      "id": "Bt5OPLwUSFP_",
      "execution_count": 56,
      "outputs": [
        {
          "output_type": "execute_result",
          "data": {
            "text/plain": [
              "SVR(kernel='linear')"
            ]
          },
          "metadata": {},
          "execution_count": 56
        }
      ]
    },
    {
      "cell_type": "code",
      "metadata": {
        "id": "JT5vGCmWSFP_"
      },
      "source": [
        "ohed_svr_pred = svr_regressor.predict(oheX_test)"
      ],
      "id": "JT5vGCmWSFP_",
      "execution_count": 57,
      "outputs": []
    },
    {
      "cell_type": "code",
      "metadata": {
        "colab": {
          "base_uri": "https://localhost:8080/"
        },
        "id": "V0QpOsYUSFP_",
        "outputId": "ec99e638-33ba-4a39-a957-4151b9572ce1"
      },
      "source": [
        "print(f'Mean Absolute Error: {mean_absolute_error(y_test, ohed_svr_pred)}')\n",
        "print(f'Mean Squared Error: {mean_squared_error(y_test, ohed_svr_pred)}')\n",
        "print(f'R2 Score: {r2_score(y_test, ohed_svr_pred)}')"
      ],
      "id": "V0QpOsYUSFP_",
      "execution_count": 58,
      "outputs": [
        {
          "output_type": "stream",
          "name": "stdout",
          "text": [
            "Mean Absolute Error: 6183.655063230833\n",
            "Mean Squared Error: 158640380.022373\n",
            "R2 Score: -0.10158193768925661\n"
          ]
        }
      ]
    },
    {
      "cell_type": "markdown",
      "metadata": {
        "id": "EgdqfJr_SFP_"
      },
      "source": [
        "- **For one-hot encoded features (Normalized)**"
      ],
      "id": "EgdqfJr_SFP_"
    },
    {
      "cell_type": "code",
      "metadata": {
        "colab": {
          "base_uri": "https://localhost:8080/"
        },
        "id": "xp8O50tQSFQA",
        "outputId": "bb0f207b-8e7d-4a51-8d47-d96352f349e6"
      },
      "source": [
        "svr_regressor = SVR(kernel='linear')\n",
        "svr_regressor.fit(ohenX_train, np.ravel(ny_train))"
      ],
      "id": "xp8O50tQSFQA",
      "execution_count": 59,
      "outputs": [
        {
          "output_type": "execute_result",
          "data": {
            "text/plain": [
              "SVR(kernel='linear')"
            ]
          },
          "metadata": {},
          "execution_count": 59
        }
      ]
    },
    {
      "cell_type": "code",
      "metadata": {
        "id": "yMruX2HRSFQA"
      },
      "source": [
        "ohen_svr_pred = svr_regressor.predict(ohenX_test)"
      ],
      "id": "yMruX2HRSFQA",
      "execution_count": 60,
      "outputs": []
    },
    {
      "cell_type": "code",
      "metadata": {
        "colab": {
          "base_uri": "https://localhost:8080/"
        },
        "id": "Bp-Xo4wASFQA",
        "outputId": "16d9391e-aa13-452c-cd81-88840add0f2f"
      },
      "source": [
        "print(f'Mean Absolute Error: {mean_absolute_error(ny_test, ohen_svr_pred)}')\n",
        "print(f'Mean Squared Error: {mean_squared_error(ny_test, ohen_svr_pred)}')\n",
        "print(f'R2 Score: {r2_score(ny_test, ohen_svr_pred)}')"
      ],
      "id": "Bp-Xo4wASFQA",
      "execution_count": 61,
      "outputs": [
        {
          "output_type": "stream",
          "name": "stdout",
          "text": [
            "Mean Absolute Error: 0.5238927542778696\n",
            "Mean Squared Error: 1.0461480539320822\n",
            "R2 Score: -0.06907365828758771\n"
          ]
        }
      ]
    },
    {
      "cell_type": "markdown",
      "metadata": {
        "id": "xjp5vMEtSFQA"
      },
      "source": [
        "### Decision Tree Regression\n",
        "- **For label encoded features (Denormalized)**"
      ],
      "id": "xjp5vMEtSFQA"
    },
    {
      "cell_type": "code",
      "metadata": {
        "id": "vorpYH_8SFQA"
      },
      "source": [
        "from sklearn.tree import DecisionTreeRegressor"
      ],
      "id": "vorpYH_8SFQA",
      "execution_count": 62,
      "outputs": []
    },
    {
      "cell_type": "code",
      "metadata": {
        "colab": {
          "base_uri": "https://localhost:8080/"
        },
        "id": "6exk1a92SFQA",
        "outputId": "4c6e0773-8425-427f-bdf6-0857991bc63d"
      },
      "source": [
        "dtr_regressor = DecisionTreeRegressor(random_state=12)\n",
        "dtr_regressor.fit(leX_train, y_train)"
      ],
      "id": "6exk1a92SFQA",
      "execution_count": 63,
      "outputs": [
        {
          "output_type": "execute_result",
          "data": {
            "text/plain": [
              "DecisionTreeRegressor(random_state=12)"
            ]
          },
          "metadata": {},
          "execution_count": 63
        }
      ]
    },
    {
      "cell_type": "code",
      "metadata": {
        "id": "pp7wjoe6SFQB"
      },
      "source": [
        "led_dtr_pred = dtr_regressor.predict(leX_test)"
      ],
      "id": "pp7wjoe6SFQB",
      "execution_count": 64,
      "outputs": []
    },
    {
      "cell_type": "code",
      "metadata": {
        "colab": {
          "base_uri": "https://localhost:8080/"
        },
        "id": "u5S6lPxSSFQB",
        "outputId": "f6e387cf-6321-487e-8ec7-e88d53cf3d5a"
      },
      "source": [
        "print(f'Mean Absolute Error: {mean_absolute_error(y_test, led_dtr_pred)}')\n",
        "print(f'Mean Squared Error: {mean_squared_error(y_test, led_dtr_pred)}')\n",
        "print(f'R2 Score: {r2_score(y_test, led_dtr_pred)}')"
      ],
      "id": "u5S6lPxSSFQB",
      "execution_count": 65,
      "outputs": [
        {
          "output_type": "stream",
          "name": "stdout",
          "text": [
            "Mean Absolute Error: 2856.473809738806\n",
            "Mean Squared Error: 37333851.97040611\n",
            "R2 Score: 0.7407576999679162\n"
          ]
        }
      ]
    },
    {
      "cell_type": "markdown",
      "metadata": {
        "id": "ZHL0y0FiSFQB"
      },
      "source": [
        "- **For label encoded features (Normalized)**"
      ],
      "id": "ZHL0y0FiSFQB"
    },
    {
      "cell_type": "code",
      "metadata": {
        "colab": {
          "base_uri": "https://localhost:8080/"
        },
        "id": "rd0_dI5iSFQB",
        "outputId": "7a76cc34-d729-4925-cc58-35c7d2579bd9"
      },
      "source": [
        "dtr_regressor = DecisionTreeRegressor(random_state=12)\n",
        "dtr_regressor.fit(lenX_train, ny_train)"
      ],
      "id": "rd0_dI5iSFQB",
      "execution_count": 66,
      "outputs": [
        {
          "output_type": "execute_result",
          "data": {
            "text/plain": [
              "DecisionTreeRegressor(random_state=12)"
            ]
          },
          "metadata": {},
          "execution_count": 66
        }
      ]
    },
    {
      "cell_type": "code",
      "metadata": {
        "id": "zVAZ7n2eSFQB"
      },
      "source": [
        "len_dtr_pred = dtr_regressor.predict(lenX_test)"
      ],
      "id": "zVAZ7n2eSFQB",
      "execution_count": 67,
      "outputs": []
    },
    {
      "cell_type": "code",
      "metadata": {
        "colab": {
          "base_uri": "https://localhost:8080/"
        },
        "id": "gTlDcWjQSFQB",
        "outputId": "c2d68725-3d7c-486c-ca3b-ad831654dd0a"
      },
      "source": [
        "print(f'Mean Absolute Error: {mean_absolute_error(ny_test, len_dtr_pred)}')\n",
        "print(f'Mean Squared Error: {mean_squared_error(ny_test, len_dtr_pred)}')\n",
        "print(f'R2 Score: {r2_score(ny_test, len_dtr_pred)}')"
      ],
      "id": "gTlDcWjQSFQB",
      "execution_count": 68,
      "outputs": [
        {
          "output_type": "stream",
          "name": "stdout",
          "text": [
            "Mean Absolute Error: 0.8092550612281405\n",
            "Mean Squared Error: 1.759958058740924\n",
            "R2 Score: -0.7985263110885001\n"
          ]
        }
      ]
    },
    {
      "cell_type": "markdown",
      "metadata": {
        "id": "vNA974NySFQC"
      },
      "source": [
        "- **For one-hot encoded features (Denormalized)**"
      ],
      "id": "vNA974NySFQC"
    },
    {
      "cell_type": "code",
      "metadata": {
        "colab": {
          "base_uri": "https://localhost:8080/"
        },
        "id": "hGXXwfb7SFQC",
        "outputId": "c24051cd-9a1a-4ee6-d2a1-b45d1909345b"
      },
      "source": [
        "dtr_regressor = DecisionTreeRegressor(random_state=12)\n",
        "dtr_regressor.fit(oheX_train, y_train)"
      ],
      "id": "hGXXwfb7SFQC",
      "execution_count": 69,
      "outputs": [
        {
          "output_type": "execute_result",
          "data": {
            "text/plain": [
              "DecisionTreeRegressor(random_state=12)"
            ]
          },
          "metadata": {},
          "execution_count": 69
        }
      ]
    },
    {
      "cell_type": "code",
      "metadata": {
        "id": "d--zyvUSSFQC"
      },
      "source": [
        "ohed_dtr_pred = dtr_regressor.predict(oheX_test)"
      ],
      "id": "d--zyvUSSFQC",
      "execution_count": 70,
      "outputs": []
    },
    {
      "cell_type": "code",
      "metadata": {
        "colab": {
          "base_uri": "https://localhost:8080/"
        },
        "id": "CbD0DHAtSFQC",
        "outputId": "68e91a46-e939-4cfd-a8c3-3d3d663cd51a"
      },
      "source": [
        "print(f'Mean Absolute Error: {mean_absolute_error(y_test, ohed_dtr_pred)}')\n",
        "print(f'Mean Squared Error: {mean_squared_error(y_test, ohed_dtr_pred)}')\n",
        "print(f'R2 Score: {r2_score(y_test, ohed_dtr_pred)}')"
      ],
      "id": "CbD0DHAtSFQC",
      "execution_count": 71,
      "outputs": [
        {
          "output_type": "stream",
          "name": "stdout",
          "text": [
            "Mean Absolute Error: 2856.473809738806\n",
            "Mean Squared Error: 37333851.97040611\n",
            "R2 Score: 0.7407576999679162\n"
          ]
        }
      ]
    },
    {
      "cell_type": "markdown",
      "metadata": {
        "id": "2prCsXiZSFQC"
      },
      "source": [
        "- **For one-hot encoded features (Normalized)**"
      ],
      "id": "2prCsXiZSFQC"
    },
    {
      "cell_type": "code",
      "metadata": {
        "colab": {
          "base_uri": "https://localhost:8080/"
        },
        "id": "zitNOAYOSFQC",
        "outputId": "ffefb3df-5dab-46fb-dff0-5893cb403d92"
      },
      "source": [
        "dtr_regressor = DecisionTreeRegressor(random_state=12)\n",
        "dtr_regressor.fit(ohenX_train, ny_train)"
      ],
      "id": "zitNOAYOSFQC",
      "execution_count": 72,
      "outputs": [
        {
          "output_type": "execute_result",
          "data": {
            "text/plain": [
              "DecisionTreeRegressor(random_state=12)"
            ]
          },
          "metadata": {},
          "execution_count": 72
        }
      ]
    },
    {
      "cell_type": "code",
      "metadata": {
        "id": "CLIVhdmCSFQC"
      },
      "source": [
        "ohen_dtr_pred = dtr_regressor.predict(ohenX_test)"
      ],
      "id": "CLIVhdmCSFQC",
      "execution_count": 73,
      "outputs": []
    },
    {
      "cell_type": "code",
      "metadata": {
        "colab": {
          "base_uri": "https://localhost:8080/"
        },
        "id": "Kj3fYy2iSFQD",
        "outputId": "d6f52e47-fae8-496c-b1bc-58ff13672171"
      },
      "source": [
        "print(f'Mean Absolute Error: {mean_absolute_error(ny_test, ohen_dtr_pred)}')\n",
        "print(f'Mean Squared Error: {mean_squared_error(ny_test, ohen_dtr_pred)}')\n",
        "print(f'R2 Score: {r2_score(ny_test, ohen_dtr_pred)}')"
      ],
      "id": "Kj3fYy2iSFQD",
      "execution_count": 74,
      "outputs": [
        {
          "output_type": "stream",
          "name": "stdout",
          "text": [
            "Mean Absolute Error: 0.8092550612281405\n",
            "Mean Squared Error: 1.759958058740924\n",
            "R2 Score: -0.7985263110885001\n"
          ]
        }
      ]
    },
    {
      "cell_type": "markdown",
      "metadata": {
        "id": "Ny-77MdPSFQD"
      },
      "source": [
        "### Random Forest Regression\n",
        "- **For label encoded features (Denormalized)**"
      ],
      "id": "Ny-77MdPSFQD"
    },
    {
      "cell_type": "code",
      "metadata": {
        "id": "oFrK9uAjSFQD"
      },
      "source": [
        "from sklearn.ensemble import RandomForestRegressor"
      ],
      "id": "oFrK9uAjSFQD",
      "execution_count": 75,
      "outputs": []
    },
    {
      "cell_type": "code",
      "metadata": {
        "colab": {
          "base_uri": "https://localhost:8080/"
        },
        "id": "bcjLKRbBSFQD",
        "outputId": "bd0a04aa-7c88-4c0c-8a38-d63bdd82c9b7"
      },
      "source": [
        "rfr_regressor = RandomForestRegressor(n_estimators=12, random_state=12)\n",
        "rfr_regressor.fit(leX_train, np.ravel(y_train))"
      ],
      "id": "bcjLKRbBSFQD",
      "execution_count": 76,
      "outputs": [
        {
          "output_type": "execute_result",
          "data": {
            "text/plain": [
              "RandomForestRegressor(n_estimators=12, random_state=12)"
            ]
          },
          "metadata": {},
          "execution_count": 76
        }
      ]
    },
    {
      "cell_type": "code",
      "metadata": {
        "id": "CTPRevYnSFQD"
      },
      "source": [
        "led_rfr_pred = rfr_regressor.predict(leX_test)"
      ],
      "id": "CTPRevYnSFQD",
      "execution_count": 77,
      "outputs": []
    },
    {
      "cell_type": "code",
      "metadata": {
        "colab": {
          "base_uri": "https://localhost:8080/"
        },
        "id": "rvv07fvvSFQD",
        "outputId": "eb425ac3-7446-47f7-d736-af665fbc4f8d"
      },
      "source": [
        "print(f'Mean Absolute Error: {mean_absolute_error(y_test, led_rfr_pred)}')\n",
        "print(f'Mean Squared Error: {mean_squared_error(y_test, led_rfr_pred)}')\n",
        "print(f'R2 Score: {r2_score(y_test, led_rfr_pred)}')"
      ],
      "id": "rvv07fvvSFQD",
      "execution_count": 78,
      "outputs": [
        {
          "output_type": "stream",
          "name": "stdout",
          "text": [
            "Mean Absolute Error: 2773.735629736733\n",
            "Mean Squared Error: 24830377.546016894\n",
            "R2 Score: 0.8275804974317411\n"
          ]
        }
      ]
    },
    {
      "cell_type": "markdown",
      "metadata": {
        "id": "8Ja9XpFsSFQE"
      },
      "source": [
        "- **For label encoded features (Normalized)**"
      ],
      "id": "8Ja9XpFsSFQE"
    },
    {
      "cell_type": "code",
      "metadata": {
        "colab": {
          "base_uri": "https://localhost:8080/"
        },
        "id": "_knigLi-SFQE",
        "outputId": "829cfc08-1fd5-4ac0-cf6f-68ad70f2d111"
      },
      "source": [
        "rfr_regressor = RandomForestRegressor(n_estimators=12, random_state=12)\n",
        "rfr_regressor.fit(lenX_train, np.ravel(ny_train))"
      ],
      "id": "_knigLi-SFQE",
      "execution_count": 79,
      "outputs": [
        {
          "output_type": "execute_result",
          "data": {
            "text/plain": [
              "RandomForestRegressor(n_estimators=12, random_state=12)"
            ]
          },
          "metadata": {},
          "execution_count": 79
        }
      ]
    },
    {
      "cell_type": "code",
      "metadata": {
        "id": "RjTEO8QlSFQE"
      },
      "source": [
        "len_rfr_pred = rfr_regressor.predict(lenX_test)"
      ],
      "id": "RjTEO8QlSFQE",
      "execution_count": 80,
      "outputs": []
    },
    {
      "cell_type": "code",
      "metadata": {
        "colab": {
          "base_uri": "https://localhost:8080/"
        },
        "id": "-vj_VOZBSFQE",
        "outputId": "68b16515-068c-4e0e-b0c7-a520d9e314f3"
      },
      "source": [
        "print(f'Mean Absolute Error: {mean_absolute_error(ny_test, len_rfr_pred)}')\n",
        "print(f'Mean Squared Error: {mean_squared_error(ny_test, len_rfr_pred)}')\n",
        "print(f'R2 Score: {r2_score(ny_test, len_rfr_pred)}')"
      ],
      "id": "-vj_VOZBSFQE",
      "execution_count": 81,
      "outputs": [
        {
          "output_type": "stream",
          "name": "stdout",
          "text": [
            "Mean Absolute Error: 0.7554939820178432\n",
            "Mean Squared Error: 1.1313757596987306\n",
            "R2 Score: -0.15616906973431632\n"
          ]
        }
      ]
    },
    {
      "cell_type": "markdown",
      "metadata": {
        "id": "NB8lKfJhSFQE"
      },
      "source": [
        "- **For one-hot encoded features (Denormalized)**"
      ],
      "id": "NB8lKfJhSFQE"
    },
    {
      "cell_type": "code",
      "metadata": {
        "colab": {
          "base_uri": "https://localhost:8080/"
        },
        "id": "0KA1vLvTSFQE",
        "outputId": "e3ece242-f303-4e8e-c57e-c0cce60fd37b"
      },
      "source": [
        "rfr_regressor = RandomForestRegressor(n_estimators=12, random_state=12)\n",
        "rfr_regressor.fit(oheX_train, np.ravel(y_train))"
      ],
      "id": "0KA1vLvTSFQE",
      "execution_count": 82,
      "outputs": [
        {
          "output_type": "execute_result",
          "data": {
            "text/plain": [
              "RandomForestRegressor(n_estimators=12, random_state=12)"
            ]
          },
          "metadata": {},
          "execution_count": 82
        }
      ]
    },
    {
      "cell_type": "code",
      "metadata": {
        "id": "fCSy4jhUSFQE"
      },
      "source": [
        "ohed_rfr_pred = rfr_regressor.predict(oheX_test)"
      ],
      "id": "fCSy4jhUSFQE",
      "execution_count": 83,
      "outputs": []
    },
    {
      "cell_type": "code",
      "metadata": {
        "colab": {
          "base_uri": "https://localhost:8080/"
        },
        "id": "01N2Nw7OSFQF",
        "outputId": "e3838cda-a01d-413e-85a1-8c2a44d82853"
      },
      "source": [
        "print(f'Mean Absolute Error: {mean_absolute_error(y_test, ohed_rfr_pred)}')\n",
        "print(f'Mean Squared Error: {mean_squared_error(y_test, ohed_rfr_pred)}')\n",
        "print(f'R2 Score: {r2_score(y_test, ohed_rfr_pred)}')"
      ],
      "id": "01N2Nw7OSFQF",
      "execution_count": 84,
      "outputs": [
        {
          "output_type": "stream",
          "name": "stdout",
          "text": [
            "Mean Absolute Error: 2773.735629736733\n",
            "Mean Squared Error: 24830377.546016894\n",
            "R2 Score: 0.8275804974317411\n"
          ]
        }
      ]
    },
    {
      "cell_type": "markdown",
      "metadata": {
        "id": "abnumShmSFQF"
      },
      "source": [
        "- **For one-hot encoded features (Normalized)**"
      ],
      "id": "abnumShmSFQF"
    },
    {
      "cell_type": "code",
      "metadata": {
        "colab": {
          "base_uri": "https://localhost:8080/"
        },
        "id": "l7rhiNbGSFQF",
        "outputId": "75381938-8599-4234-847a-98ee4473a125"
      },
      "source": [
        "rfr_regressor = RandomForestRegressor(n_estimators=12, random_state=12)\n",
        "rfr_regressor.fit(ohenX_train, np.ravel(ny_train))"
      ],
      "id": "l7rhiNbGSFQF",
      "execution_count": 85,
      "outputs": [
        {
          "output_type": "execute_result",
          "data": {
            "text/plain": [
              "RandomForestRegressor(n_estimators=12, random_state=12)"
            ]
          },
          "metadata": {},
          "execution_count": 85
        }
      ]
    },
    {
      "cell_type": "code",
      "metadata": {
        "id": "zZcwbqmXSFQF"
      },
      "source": [
        "ohen_rfr_pred = rfr_regressor.predict(ohenX_test)"
      ],
      "id": "zZcwbqmXSFQF",
      "execution_count": 86,
      "outputs": []
    },
    {
      "cell_type": "code",
      "metadata": {
        "colab": {
          "base_uri": "https://localhost:8080/"
        },
        "id": "UzcozwgxSFQF",
        "outputId": "d034b516-86ca-4c36-efed-92ddb80abd06"
      },
      "source": [
        "print(f'Mean Absolute Error: {mean_absolute_error(ny_test, ohen_rfr_pred)}')\n",
        "print(f'Mean Squared Error: {mean_squared_error(ny_test, ohen_rfr_pred)}')\n",
        "print(f'R2 Score: {r2_score(ny_test, ohen_rfr_pred)}')"
      ],
      "id": "UzcozwgxSFQF",
      "execution_count": 87,
      "outputs": [
        {
          "output_type": "stream",
          "name": "stdout",
          "text": [
            "Mean Absolute Error: 0.7554939820178432\n",
            "Mean Squared Error: 1.1313757596987306\n",
            "R2 Score: -0.15616906973431632\n"
          ]
        }
      ]
    },
    {
      "cell_type": "markdown",
      "metadata": {
        "id": "EuwboZpTSFQF"
      },
      "source": [
        "### Result Analysis"
      ],
      "id": "EuwboZpTSFQF"
    },
    {
      "cell_type": "markdown",
      "metadata": {
        "id": "YpsOHqM-SFQG"
      },
      "source": [
        "- **Performance Comparison Among Four Regression Algorithms on Denormalized Label Encoded Data**"
      ],
      "id": "YpsOHqM-SFQG"
    },
    {
      "cell_type": "code",
      "metadata": {
        "id": "9bPRBqDSSFQG"
      },
      "source": [
        "led_lin_r2 = r2_score(y_test, led_lin_pred)\n",
        "led_svr_r2 = r2_score(y_test, led_svr_pred)\n",
        "led_dtr_r2 = r2_score(y_test, led_dtr_pred)\n",
        "led_rfr_r2 = r2_score(y_test, led_rfr_pred)"
      ],
      "id": "9bPRBqDSSFQG",
      "execution_count": 88,
      "outputs": []
    },
    {
      "cell_type": "code",
      "metadata": {
        "colab": {
          "base_uri": "https://localhost:8080/",
          "height": 405
        },
        "id": "yH4jfdftSFQG",
        "outputId": "ac1abd0e-b1b0-4edf-d997-7b34bffc2ece"
      },
      "source": [
        "plt.style.use('ggplot')\n",
        "models = ['LR', 'SVR', 'DTR', 'RFR']\n",
        "r2_scores = [led_lin_r2, led_svr_r2, led_dtr_r2, led_rfr_r2]\n",
        "\n",
        "# Automatical sets the range if number of bins are defined\n",
        "plt.bar(models, r2_scores, color='#adad3b')\n",
        "\n",
        "plt.title('R2 Scores of All Models on Denormalized Data')\n",
        "plt.xlabel('Models')\n",
        "plt.ylabel('R2 Scores')\n",
        "plt.tight_layout()\n",
        "plt.show()"
      ],
      "id": "yH4jfdftSFQG",
      "execution_count": 89,
      "outputs": [
        {
          "output_type": "display_data",
          "data": {
            "image/png": "[encoded data removed]",
            "text/plain": [
              "<Figure size 576x396 with 1 Axes>"
            ]
          },
          "metadata": {}
        }
      ]
    },
    {
      "cell_type": "markdown",
      "metadata": {
        "id": "tbEjzxC5SFQG"
      },
      "source": [
        "- **Performance Comparison Among Four Regression Algorithms on Normalized Label Encoded Data**"
      ],
      "id": "tbEjzxC5SFQG"
    },
    {
      "cell_type": "code",
      "metadata": {
        "id": "BfkUydnbSFQG"
      },
      "source": [
        "len_lin_r2 = r2_score(ny_test, len_lin_pred)\n",
        "len_svr_r2 = r2_score(ny_test, len_svr_pred)\n",
        "len_dtr_r2 = r2_score(ny_test, len_dtr_pred)\n",
        "len_rfr_r2 = r2_score(ny_test, len_rfr_pred)"
      ],
      "id": "BfkUydnbSFQG",
      "execution_count": 90,
      "outputs": []
    },
    {
      "cell_type": "code",
      "metadata": {
        "colab": {
          "base_uri": "https://localhost:8080/",
          "height": 405
        },
        "id": "yhrcPgdmSFQH",
        "outputId": "3c23c1cb-0ba4-4b28-952e-889bfd443da9"
      },
      "source": [
        "plt.style.use('ggplot')\n",
        "models = ['LR', 'SVR', 'DTR', 'RFR']\n",
        "r2_scores = [len_lin_r2, len_svr_r2, len_dtr_r2, len_rfr_r2]\n",
        "\n",
        "# Automatical sets the range if number of bins are defined\n",
        "plt.bar(models, r2_scores, color='#AA0C6B')\n",
        "\n",
        "plt.title('R2 Scores of All Models on Normalized Data')\n",
        "plt.xlabel('Models')\n",
        "plt.ylabel('R2 Scores')\n",
        "plt.tight_layout()\n",
        "plt.show()"
      ],
      "id": "yhrcPgdmSFQH",
      "execution_count": 91,
      "outputs": [
        {
          "output_type": "display_data",
          "data": {
            "image/png": "[encoded data removed]",
            "text/plain": [
              "<Figure size 576x396 with 1 Axes>"
            ]
          },
          "metadata": {}
        }
      ]
    },
    {
      "cell_type": "markdown",
      "metadata": {
        "id": "HFPfk-btSFQH"
      },
      "source": [
        "- **Performance Comparison Among Four Regression Algorithms on Denormalized One-Hot Encoded Data**"
      ],
      "id": "HFPfk-btSFQH"
    },
    {
      "cell_type": "code",
      "metadata": {
        "id": "zxxOo_DJSFQH"
      },
      "source": [
        "ohed_lin_r2 = r2_score(y_test, ohed_lin_pred)\n",
        "ohed_svr_r2 = r2_score(y_test, ohed_svr_pred)\n",
        "ohed_dtr_r2 = r2_score(y_test, ohed_dtr_pred)\n",
        "ohed_rfr_r2 = r2_score(y_test, ohed_rfr_pred)"
      ],
      "id": "zxxOo_DJSFQH",
      "execution_count": 92,
      "outputs": []
    },
    {
      "cell_type": "code",
      "metadata": {
        "colab": {
          "base_uri": "https://localhost:8080/",
          "height": 405
        },
        "id": "HbDjP9LtSFQH",
        "outputId": "54949191-73bb-4d86-94c9-c86851b362e6"
      },
      "source": [
        "plt.style.use('ggplot')\n",
        "models = ['LR', 'SVR', 'DTR', 'RFR']\n",
        "r2_scores = [ohed_lin_r2, ohed_svr_r2, ohed_dtr_r2, ohed_rfr_r2]\n",
        "\n",
        "# Automatical sets the range if number of bins are defined\n",
        "plt.bar(models, r2_scores, color='#5a7d9a')\n",
        "\n",
        "plt.title('R2 Scores of All Models on Denormalized One-Hot Encoded Data')\n",
        "plt.xlabel('Models')\n",
        "plt.ylabel('R2 Scores')\n",
        "plt.tight_layout()\n",
        "plt.show()"
      ],
      "id": "HbDjP9LtSFQH",
      "execution_count": 93,
      "outputs": [
        {
          "output_type": "display_data",
          "data": {
            "image/png": "[encoded data removed]",
            "text/plain": [
              "<Figure size 576x396 with 1 Axes>"
            ]
          },
          "metadata": {}
        }
      ]
    },
    {
      "cell_type": "markdown",
      "metadata": {
        "id": "SM1wNbaBSFQH"
      },
      "source": [
        "- **Performance Comparison Among Four Regression Algorithms on Normalized One-Hot Encoded Data**"
      ],
      "id": "SM1wNbaBSFQH"
    },
    {
      "cell_type": "code",
      "metadata": {
        "id": "hN7TP9rJSFQH"
      },
      "source": [
        "ohen_lin_r2 = r2_score(ny_test, ohen_lin_pred)\n",
        "ohen_svr_r2 = r2_score(ny_test, ohen_svr_pred)\n",
        "ohen_dtr_r2 = r2_score(ny_test, ohen_dtr_pred)\n",
        "ohen_rfr_r2 = r2_score(ny_test, ohen_rfr_pred)"
      ],
      "id": "hN7TP9rJSFQH",
      "execution_count": 94,
      "outputs": []
    },
    {
      "cell_type": "code",
      "metadata": {
        "colab": {
          "base_uri": "https://localhost:8080/",
          "height": 405
        },
        "id": "Be6oQxyASFQI",
        "outputId": "5fb3dfa2-c375-458c-abdb-044f450781ae"
      },
      "source": [
        "plt.style.use('ggplot')\n",
        "models = ['LR', 'SVR', 'DTR', 'RFR']\n",
        "r2_scores = [ohen_lin_r2, ohen_svr_r2, ohen_dtr_r2, ohen_rfr_r2]\n",
        "\n",
        "# Automatical sets the range if number of bins are defined\n",
        "plt.bar(models, r2_scores, color='#900C3F')\n",
        "\n",
        "plt.title('R2 Scores of All Models on Denormalized One-Hot Encoded Data')\n",
        "plt.xlabel('Models')\n",
        "plt.ylabel('R2 Scores')\n",
        "plt.tight_layout()\n",
        "plt.show()"
      ],
      "id": "Be6oQxyASFQI",
      "execution_count": 95,
      "outputs": [
        {
          "output_type": "display_data",
          "data": {
            "image/png": "[encoded data removed]",
            "text/plain": [
              "<Figure size 576x396 with 1 Axes>"
            ]
          },
          "metadata": {}
        }
      ]
    },
    {
      "cell_type": "markdown",
      "metadata": {
        "id": "ve7NJiYGSFQI"
      },
      "source": [
        "- **Performance Comparison Among Four Regression Algorithms on Denormalized Label Encoded vs One-Hot Encoded Data**"
      ],
      "id": "ve7NJiYGSFQI"
    },
    {
      "cell_type": "code",
      "metadata": {
        "colab": {
          "base_uri": "https://localhost:8080/",
          "height": 402
        },
        "id": "AlBtShXkSFQI",
        "outputId": "08d5bb61-4989-4880-9f1a-74000833a6b2"
      },
      "source": [
        "plt.style.use('ggplot')\n",
        "width = 0.35\n",
        "\n",
        "models = ['LR', 'SVR', 'DTR', 'RFR']\n",
        "x_indices = np.arange(len(models))\n",
        "\n",
        "led_r2_scores = [led_lin_r2, led_svr_r2, led_dtr_r2, led_rfr_r2]\n",
        "plt.bar(x_indices, led_r2_scores, width=width, color='#3498DB', label='Label Encoded')\n",
        "\n",
        "ohed_r2_scores = [ohed_lin_r2, ohed_svr_r2, ohed_dtr_r2, ohed_rfr_r2]\n",
        "plt.bar(x_indices+width, led_r2_scores, width=width, color='#C70039', label='Label Encoded')\n",
        "\n",
        "plt.legend()\n",
        "plt.xticks(ticks=x_indices+((width)/2), labels=models)\n",
        "plt.title('Label Encoded vs One-Hot Encoded (Denormalized)')\n",
        "plt.xlabel('Models')\n",
        "plt.ylabel('R2 Scores')\n",
        "plt.show()"
      ],
      "id": "AlBtShXkSFQI",
      "execution_count": 96,
      "outputs": [
        {
          "output_type": "display_data",
          "data": {
            "image/png": "[encoded data removed]",
            "text/plain": [
              "<Figure size 576x396 with 1 Axes>"
            ]
          },
          "metadata": {}
        }
      ]
    },
    {
      "cell_type": "markdown",
      "metadata": {
        "id": "zKrODXm3SFQI"
      },
      "source": [
        "- **Performance Comparison Among Four Regression Algorithms on Normalized Label Encoded vs One-Hot Encoded Data**"
      ],
      "id": "zKrODXm3SFQI"
    },
    {
      "cell_type": "code",
      "metadata": {
        "colab": {
          "base_uri": "https://localhost:8080/",
          "height": 402
        },
        "id": "tBYkTsYmSFQI",
        "outputId": "0d1fa209-5b6a-4b74-d88f-d78ab81d9ce4"
      },
      "source": [
        "plt.style.use('ggplot')\n",
        "width = 0.35\n",
        "\n",
        "models = ['LR', 'SVR', 'DTR', 'RFR']\n",
        "x_indices = np.arange(len(models))\n",
        "\n",
        "len_r2_scores = [len_lin_r2, len_svr_r2, len_dtr_r2, len_rfr_r2]\n",
        "plt.bar(x_indices, len_r2_scores, width=width, color='#1B4F72', label='Label Encoded')\n",
        "\n",
        "ohen_r2_scores = [ohen_lin_r2, ohen_svr_r2, ohen_dtr_r2, ohen_rfr_r2]\n",
        "plt.bar(x_indices+width, led_r2_scores, width=width, color='#900C3F', label='Label Encoded')\n",
        "\n",
        "plt.legend()\n",
        "plt.xticks(ticks=x_indices+((width)/2), labels=models)\n",
        "plt.title('Label Encoded vs One-Hot Encoded (Normalized)')\n",
        "plt.xlabel('Models')\n",
        "plt.ylabel('R2 Scores')\n",
        "plt.show()"
      ],
      "id": "tBYkTsYmSFQI",
      "execution_count": 97,
      "outputs": [
        {
          "output_type": "display_data",
          "data": {
            "image/png": "[encoded data removed]",
            "text/plain": [
              "<Figure size 576x396 with 1 Axes>"
            ]
          },
          "metadata": {}
        }
      ]
    },
    {
      "cell_type": "markdown",
      "metadata": {
        "id": "td9TnQt3SFQJ"
      },
      "source": [
        "### Findings:\n",
        "- Performance of the **Random Forest Regression** model was better for label encoded & one-hot encoded denormalized data.\n",
        "- For normalized data **Linear Regression** model performed better for label encoded and one-hot encoded data.\n",
        "- The overall performance of all the models based on the loss are not quite satisfactory as the target value has a very weak correlation with the features. However, a better performance might be obtained if polynomial regression could be used as there are multiple features in the dataset."
      ],
      "id": "td9TnQt3SFQJ"
    },
    {
      "cell_type": "code",
      "metadata": {
        "id": "Dr1fA4wXSFQJ"
      },
      "source": [
        ""
      ],
      "id": "Dr1fA4wXSFQJ",
      "execution_count": 97,
      "outputs": []
    },
    {
      "cell_type": "code",
      "metadata": {
        "id": "hWLnOq3YTCxy"
      },
      "source": [
        ""
      ],
      "id": "hWLnOq3YTCxy",
      "execution_count": 97,
      "outputs": []
    }
  ]
}