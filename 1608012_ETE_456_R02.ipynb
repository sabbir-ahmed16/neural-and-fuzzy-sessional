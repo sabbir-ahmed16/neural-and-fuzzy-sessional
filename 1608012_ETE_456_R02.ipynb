{
  "cells": [
    {
      "cell_type": "markdown",
      "metadata": {
        "id": "view-in-github",
        "colab_type": "text"
      },
      "source": [
        "<a href=\"https://colab.research.google.com/github/sabbir-ahmed16/neural-and-fuzzy-sessional/blob/main/1608012_ETE_456_R02.ipynb\" target=\"_parent\"><img src=\"https://colab.research.google.com/assets/colab-badge.svg\" alt=\"Open In Colab\"/></a>"
      ]
    },
    {
      "cell_type": "markdown",
      "metadata": {
        "id": "rNYqszVPKb0b"
      },
      "source": [
        "# Problem Statement\n",
        "- **To predict whether a person will suffer stroke or not.**"
      ]
    },
    {
      "cell_type": "markdown",
      "metadata": {
        "id": "rg4lR9c4Kb0e"
      },
      "source": [
        "## Objectives\n",
        "- To get familiar with exploratory data analysis using various packages.\n",
        "- To get familiar with various classification algorithms.\n",
        "- To learn about different performance metrics for classification algorithms."
      ]
    },
    {
      "cell_type": "markdown",
      "metadata": {
        "id": "GkpHtRckKb0e"
      },
      "source": [
        "## Importing Libraries"
      ]
    },
    {
      "cell_type": "code",
      "execution_count": null,
      "metadata": {
        "id": "1HGDGPYKKb0f"
      },
      "outputs": [],
      "source": [
        "import numpy as np\n",
        "import pandas as pd\n",
        "import matplotlib.pyplot as plt"
      ]
    },
    {
      "cell_type": "markdown",
      "metadata": {
        "id": "dV0q5giPKb0f"
      },
      "source": [
        "## Importing and Reading the Dataset"
      ]
    },
    {
      "cell_type": "code",
      "execution_count": null,
      "metadata": {
        "id": "EG-3_glDKb0g"
      },
      "outputs": [],
      "source": [
        "dataset = pd.read_csv(https://www.dropbox.com/s/zgburk3yces5tee/healthcare-dataset-stroke-data.csv?dl=1)"
      ]
    },
    {
      "cell_type": "code",
      "execution_count": null,
      "metadata": {
        "id": "iwdaOhOLKb0g",
        "outputId": "4257845b-68a9-4f21-fde1-1824379ced47"
      },
      "outputs": [
        {
          "data": {
            "text/html": [
              "<div>\n",
              "<style scoped>\n",
              "    .dataframe tbody tr th:only-of-type {\n",
              "        vertical-align: middle;\n",
              "    }\n",
              "\n",
              "    .dataframe tbody tr th {\n",
              "        vertical-align: top;\n",
              "    }\n",
              "\n",
              "    .dataframe thead th {\n",
              "        text-align: right;\n",
              "    }\n",
              "</style>\n",
              "<table border=\"1\" class=\"dataframe\">\n",
              "  <thead>\n",
              "    <tr style=\"text-align: right;\">\n",
              "      <th></th>\n",
              "      <th>id</th>\n",
              "      <th>gender</th>\n",
              "      <th>age</th>\n",
              "      <th>hypertension</th>\n",
              "      <th>heart_disease</th>\n",
              "      <th>ever_married</th>\n",
              "      <th>work_type</th>\n",
              "      <th>Residence_type</th>\n",
              "      <th>avg_glucose_level</th>\n",
              "      <th>bmi</th>\n",
              "      <th>smoking_status</th>\n",
              "      <th>stroke</th>\n",
              "    </tr>\n",
              "  </thead>\n",
              "  <tbody>\n",
              "    <tr>\n",
              "      <th>0</th>\n",
              "      <td>9046</td>\n",
              "      <td>Male</td>\n",
              "      <td>67.0</td>\n",
              "      <td>0</td>\n",
              "      <td>1</td>\n",
              "      <td>Yes</td>\n",
              "      <td>Private</td>\n",
              "      <td>Urban</td>\n",
              "      <td>228.69</td>\n",
              "      <td>36.6</td>\n",
              "      <td>formerly smoked</td>\n",
              "      <td>1</td>\n",
              "    </tr>\n",
              "    <tr>\n",
              "      <th>1</th>\n",
              "      <td>51676</td>\n",
              "      <td>Female</td>\n",
              "      <td>61.0</td>\n",
              "      <td>0</td>\n",
              "      <td>0</td>\n",
              "      <td>Yes</td>\n",
              "      <td>Self-employed</td>\n",
              "      <td>Rural</td>\n",
              "      <td>202.21</td>\n",
              "      <td>NaN</td>\n",
              "      <td>never smoked</td>\n",
              "      <td>1</td>\n",
              "    </tr>\n",
              "    <tr>\n",
              "      <th>2</th>\n",
              "      <td>31112</td>\n",
              "      <td>Male</td>\n",
              "      <td>80.0</td>\n",
              "      <td>0</td>\n",
              "      <td>1</td>\n",
              "      <td>Yes</td>\n",
              "      <td>Private</td>\n",
              "      <td>Rural</td>\n",
              "      <td>105.92</td>\n",
              "      <td>32.5</td>\n",
              "      <td>never smoked</td>\n",
              "      <td>1</td>\n",
              "    </tr>\n",
              "    <tr>\n",
              "      <th>3</th>\n",
              "      <td>60182</td>\n",
              "      <td>Female</td>\n",
              "      <td>49.0</td>\n",
              "      <td>0</td>\n",
              "      <td>0</td>\n",
              "      <td>Yes</td>\n",
              "      <td>Private</td>\n",
              "      <td>Urban</td>\n",
              "      <td>171.23</td>\n",
              "      <td>34.4</td>\n",
              "      <td>smokes</td>\n",
              "      <td>1</td>\n",
              "    </tr>\n",
              "    <tr>\n",
              "      <th>4</th>\n",
              "      <td>1665</td>\n",
              "      <td>Female</td>\n",
              "      <td>79.0</td>\n",
              "      <td>1</td>\n",
              "      <td>0</td>\n",
              "      <td>Yes</td>\n",
              "      <td>Self-employed</td>\n",
              "      <td>Rural</td>\n",
              "      <td>174.12</td>\n",
              "      <td>24.0</td>\n",
              "      <td>never smoked</td>\n",
              "      <td>1</td>\n",
              "    </tr>\n",
              "    <tr>\n",
              "      <th>5</th>\n",
              "      <td>56669</td>\n",
              "      <td>Male</td>\n",
              "      <td>81.0</td>\n",
              "      <td>0</td>\n",
              "      <td>0</td>\n",
              "      <td>Yes</td>\n",
              "      <td>Private</td>\n",
              "      <td>Urban</td>\n",
              "      <td>186.21</td>\n",
              "      <td>29.0</td>\n",
              "      <td>formerly smoked</td>\n",
              "      <td>1</td>\n",
              "    </tr>\n",
              "    <tr>\n",
              "      <th>6</th>\n",
              "      <td>53882</td>\n",
              "      <td>Male</td>\n",
              "      <td>74.0</td>\n",
              "      <td>1</td>\n",
              "      <td>1</td>\n",
              "      <td>Yes</td>\n",
              "      <td>Private</td>\n",
              "      <td>Rural</td>\n",
              "      <td>70.09</td>\n",
              "      <td>27.4</td>\n",
              "      <td>never smoked</td>\n",
              "      <td>1</td>\n",
              "    </tr>\n",
              "    <tr>\n",
              "      <th>7</th>\n",
              "      <td>10434</td>\n",
              "      <td>Female</td>\n",
              "      <td>69.0</td>\n",
              "      <td>0</td>\n",
              "      <td>0</td>\n",
              "      <td>No</td>\n",
              "      <td>Private</td>\n",
              "      <td>Urban</td>\n",
              "      <td>94.39</td>\n",
              "      <td>22.8</td>\n",
              "      <td>never smoked</td>\n",
              "      <td>1</td>\n",
              "    </tr>\n",
              "    <tr>\n",
              "      <th>8</th>\n",
              "      <td>27419</td>\n",
              "      <td>Female</td>\n",
              "      <td>59.0</td>\n",
              "      <td>0</td>\n",
              "      <td>0</td>\n",
              "      <td>Yes</td>\n",
              "      <td>Private</td>\n",
              "      <td>Rural</td>\n",
              "      <td>76.15</td>\n",
              "      <td>NaN</td>\n",
              "      <td>Unknown</td>\n",
              "      <td>1</td>\n",
              "    </tr>\n",
              "    <tr>\n",
              "      <th>9</th>\n",
              "      <td>60491</td>\n",
              "      <td>Female</td>\n",
              "      <td>78.0</td>\n",
              "      <td>0</td>\n",
              "      <td>0</td>\n",
              "      <td>Yes</td>\n",
              "      <td>Private</td>\n",
              "      <td>Urban</td>\n",
              "      <td>58.57</td>\n",
              "      <td>24.2</td>\n",
              "      <td>Unknown</td>\n",
              "      <td>1</td>\n",
              "    </tr>\n",
              "  </tbody>\n",
              "</table>\n",
              "</div>"
            ],
            "text/plain": [
              "      id  gender   age  hypertension  heart_disease ever_married  \\\n",
              "0   9046    Male  67.0             0              1          Yes   \n",
              "1  51676  Female  61.0             0              0          Yes   \n",
              "2  31112    Male  80.0             0              1          Yes   \n",
              "3  60182  Female  49.0             0              0          Yes   \n",
              "4   1665  Female  79.0             1              0          Yes   \n",
              "5  56669    Male  81.0             0              0          Yes   \n",
              "6  53882    Male  74.0             1              1          Yes   \n",
              "7  10434  Female  69.0             0              0           No   \n",
              "8  27419  Female  59.0             0              0          Yes   \n",
              "9  60491  Female  78.0             0              0          Yes   \n",
              "\n",
              "       work_type Residence_type  avg_glucose_level   bmi   smoking_status  \\\n",
              "0        Private          Urban             228.69  36.6  formerly smoked   \n",
              "1  Self-employed          Rural             202.21   NaN     never smoked   \n",
              "2        Private          Rural             105.92  32.5     never smoked   \n",
              "3        Private          Urban             171.23  34.4           smokes   \n",
              "4  Self-employed          Rural             174.12  24.0     never smoked   \n",
              "5        Private          Urban             186.21  29.0  formerly smoked   \n",
              "6        Private          Rural              70.09  27.4     never smoked   \n",
              "7        Private          Urban              94.39  22.8     never smoked   \n",
              "8        Private          Rural              76.15   NaN          Unknown   \n",
              "9        Private          Urban              58.57  24.2          Unknown   \n",
              "\n",
              "   stroke  \n",
              "0       1  \n",
              "1       1  \n",
              "2       1  \n",
              "3       1  \n",
              "4       1  \n",
              "5       1  \n",
              "6       1  \n",
              "7       1  \n",
              "8       1  \n",
              "9       1  "
            ]
          },
          "execution_count": 3,
          "metadata": {},
          "output_type": "execute_result"
        }
      ],
      "source": [
        "dataset.head(10)"
      ]
    },
    {
      "cell_type": "code",
      "execution_count": null,
      "metadata": {
        "id": "Avyd3btsKb0h",
        "outputId": "8294c205-0c5e-4ecd-e8cf-6316b2895313"
      },
      "outputs": [
        {
          "data": {
            "text/html": [
              "<div>\n",
              "<style scoped>\n",
              "    .dataframe tbody tr th:only-of-type {\n",
              "        vertical-align: middle;\n",
              "    }\n",
              "\n",
              "    .dataframe tbody tr th {\n",
              "        vertical-align: top;\n",
              "    }\n",
              "\n",
              "    .dataframe thead th {\n",
              "        text-align: right;\n",
              "    }\n",
              "</style>\n",
              "<table border=\"1\" class=\"dataframe\">\n",
              "  <thead>\n",
              "    <tr style=\"text-align: right;\">\n",
              "      <th></th>\n",
              "      <th>id</th>\n",
              "      <th>age</th>\n",
              "      <th>hypertension</th>\n",
              "      <th>heart_disease</th>\n",
              "      <th>avg_glucose_level</th>\n",
              "      <th>bmi</th>\n",
              "      <th>stroke</th>\n",
              "    </tr>\n",
              "  </thead>\n",
              "  <tbody>\n",
              "    <tr>\n",
              "      <th>count</th>\n",
              "      <td>5110.000000</td>\n",
              "      <td>5110.000000</td>\n",
              "      <td>5110.000000</td>\n",
              "      <td>5110.000000</td>\n",
              "      <td>5110.000000</td>\n",
              "      <td>4909.000000</td>\n",
              "      <td>5110.000000</td>\n",
              "    </tr>\n",
              "    <tr>\n",
              "      <th>mean</th>\n",
              "      <td>36517.829354</td>\n",
              "      <td>43.226614</td>\n",
              "      <td>0.097456</td>\n",
              "      <td>0.054012</td>\n",
              "      <td>106.147677</td>\n",
              "      <td>28.893237</td>\n",
              "      <td>0.048728</td>\n",
              "    </tr>\n",
              "    <tr>\n",
              "      <th>std</th>\n",
              "      <td>21161.721625</td>\n",
              "      <td>22.612647</td>\n",
              "      <td>0.296607</td>\n",
              "      <td>0.226063</td>\n",
              "      <td>45.283560</td>\n",
              "      <td>7.854067</td>\n",
              "      <td>0.215320</td>\n",
              "    </tr>\n",
              "    <tr>\n",
              "      <th>min</th>\n",
              "      <td>67.000000</td>\n",
              "      <td>0.080000</td>\n",
              "      <td>0.000000</td>\n",
              "      <td>0.000000</td>\n",
              "      <td>55.120000</td>\n",
              "      <td>10.300000</td>\n",
              "      <td>0.000000</td>\n",
              "    </tr>\n",
              "    <tr>\n",
              "      <th>25%</th>\n",
              "      <td>17741.250000</td>\n",
              "      <td>25.000000</td>\n",
              "      <td>0.000000</td>\n",
              "      <td>0.000000</td>\n",
              "      <td>77.245000</td>\n",
              "      <td>23.500000</td>\n",
              "      <td>0.000000</td>\n",
              "    </tr>\n",
              "    <tr>\n",
              "      <th>50%</th>\n",
              "      <td>36932.000000</td>\n",
              "      <td>45.000000</td>\n",
              "      <td>0.000000</td>\n",
              "      <td>0.000000</td>\n",
              "      <td>91.885000</td>\n",
              "      <td>28.100000</td>\n",
              "      <td>0.000000</td>\n",
              "    </tr>\n",
              "    <tr>\n",
              "      <th>75%</th>\n",
              "      <td>54682.000000</td>\n",
              "      <td>61.000000</td>\n",
              "      <td>0.000000</td>\n",
              "      <td>0.000000</td>\n",
              "      <td>114.090000</td>\n",
              "      <td>33.100000</td>\n",
              "      <td>0.000000</td>\n",
              "    </tr>\n",
              "    <tr>\n",
              "      <th>max</th>\n",
              "      <td>72940.000000</td>\n",
              "      <td>82.000000</td>\n",
              "      <td>1.000000</td>\n",
              "      <td>1.000000</td>\n",
              "      <td>271.740000</td>\n",
              "      <td>97.600000</td>\n",
              "      <td>1.000000</td>\n",
              "    </tr>\n",
              "  </tbody>\n",
              "</table>\n",
              "</div>"
            ],
            "text/plain": [
              "                 id          age  hypertension  heart_disease  \\\n",
              "count   5110.000000  5110.000000   5110.000000    5110.000000   \n",
              "mean   36517.829354    43.226614      0.097456       0.054012   \n",
              "std    21161.721625    22.612647      0.296607       0.226063   \n",
              "min       67.000000     0.080000      0.000000       0.000000   \n",
              "25%    17741.250000    25.000000      0.000000       0.000000   \n",
              "50%    36932.000000    45.000000      0.000000       0.000000   \n",
              "75%    54682.000000    61.000000      0.000000       0.000000   \n",
              "max    72940.000000    82.000000      1.000000       1.000000   \n",
              "\n",
              "       avg_glucose_level          bmi       stroke  \n",
              "count        5110.000000  4909.000000  5110.000000  \n",
              "mean          106.147677    28.893237     0.048728  \n",
              "std            45.283560     7.854067     0.215320  \n",
              "min            55.120000    10.300000     0.000000  \n",
              "25%            77.245000    23.500000     0.000000  \n",
              "50%            91.885000    28.100000     0.000000  \n",
              "75%           114.090000    33.100000     0.000000  \n",
              "max           271.740000    97.600000     1.000000  "
            ]
          },
          "execution_count": 4,
          "metadata": {},
          "output_type": "execute_result"
        }
      ],
      "source": [
        "dataset.describe()"
      ]
    },
    {
      "cell_type": "code",
      "execution_count": null,
      "metadata": {
        "id": "1i0QEQQpKb0h",
        "outputId": "78e21c20-a1de-4d97-fdb8-45d8806e146c"
      },
      "outputs": [
        {
          "data": {
            "text/plain": [
              "(5110, 12)"
            ]
          },
          "execution_count": 5,
          "metadata": {},
          "output_type": "execute_result"
        }
      ],
      "source": [
        "dataset.shape"
      ]
    },
    {
      "cell_type": "code",
      "execution_count": null,
      "metadata": {
        "id": "9t_hlWLIKb0h",
        "outputId": "de5705c8-d945-4287-a8a0-43f0b70b4944"
      },
      "outputs": [
        {
          "data": {
            "text/plain": [
              "id                   False\n",
              "gender               False\n",
              "age                  False\n",
              "hypertension         False\n",
              "heart_disease        False\n",
              "ever_married         False\n",
              "work_type            False\n",
              "Residence_type       False\n",
              "avg_glucose_level    False\n",
              "bmi                   True\n",
              "smoking_status       False\n",
              "stroke               False\n",
              "dtype: bool"
            ]
          },
          "execution_count": 6,
          "metadata": {},
          "output_type": "execute_result"
        }
      ],
      "source": [
        "dataset.isnull().any()"
      ]
    },
    {
      "cell_type": "code",
      "execution_count": null,
      "metadata": {
        "id": "9P_JjXIlKb0i",
        "outputId": "cd635fa9-a635-4547-fa76-dce009af05f5"
      },
      "outputs": [
        {
          "data": {
            "text/plain": [
              "id                     0\n",
              "gender                 0\n",
              "age                    0\n",
              "hypertension           0\n",
              "heart_disease          0\n",
              "ever_married           0\n",
              "work_type              0\n",
              "Residence_type         0\n",
              "avg_glucose_level      0\n",
              "bmi                  201\n",
              "smoking_status         0\n",
              "stroke                 0\n",
              "dtype: int64"
            ]
          },
          "execution_count": 7,
          "metadata": {},
          "output_type": "execute_result"
        }
      ],
      "source": [
        "dataset.isnull().sum()"
      ]
    },
    {
      "cell_type": "code",
      "execution_count": null,
      "metadata": {
        "id": "Up4tSUjrKb0i",
        "outputId": "fce5760d-ce29-4040-c74b-397a7f9613d9"
      },
      "outputs": [
        {
          "data": {
            "text/plain": [
              "id                   0\n",
              "gender               0\n",
              "age                  0\n",
              "hypertension         0\n",
              "heart_disease        0\n",
              "ever_married         0\n",
              "work_type            0\n",
              "Residence_type       0\n",
              "avg_glucose_level    0\n",
              "bmi                  0\n",
              "smoking_status       0\n",
              "stroke               0\n",
              "dtype: int64"
            ]
          },
          "execution_count": 8,
          "metadata": {},
          "output_type": "execute_result"
        }
      ],
      "source": [
        "dataset_clean = dataset.dropna()\n",
        "dataset_clean.reset_index(drop=True, inplace=True)\n",
        "dataset_clean.isnull().sum()"
      ]
    },
    {
      "cell_type": "code",
      "execution_count": null,
      "metadata": {
        "id": "MUN6EQMZKb0i",
        "outputId": "4574d0d9-c049-4e22-83da-15248a552529"
      },
      "outputs": [
        {
          "name": "stdout",
          "output_type": "stream",
          "text": [
            "Gender: ['Male' 'Female' 'Other']\n",
            "Marital status: ['Yes' 'No']\n",
            "Work type: ['Private' 'Self-employed' 'Govt_job' 'children' 'Never_worked']\n",
            "Residence type: ['Urban' 'Rural']\n",
            "Smoking status: ['formerly smoked' 'never smoked' 'smokes' 'Unknown']\n"
          ]
        }
      ],
      "source": [
        "print(f'Gender: {dataset_clean[\"gender\"].unique()}')\n",
        "print(f'Marital status: {dataset_clean[\"ever_married\"].unique()}')\n",
        "print(f'Work type: {dataset_clean[\"work_type\"].unique()}')\n",
        "print(f'Residence type: {dataset_clean[\"Residence_type\"].unique()}')\n",
        "print(f'Smoking status: {dataset_clean[\"smoking_status\"].unique()}')"
      ]
    },
    {
      "cell_type": "code",
      "execution_count": null,
      "metadata": {
        "id": "WpwQwCIQKb0i"
      },
      "outputs": [],
      "source": [
        "all_features = dataset_clean.drop(['id', 'stroke'], axis=1)\n",
        "numeric_features = all_features.drop(['gender', 'ever_married', 'work_type', 'Residence_type', 'smoking_status'], axis=1)\n",
        "target = dataset_clean['stroke']"
      ]
    },
    {
      "cell_type": "markdown",
      "metadata": {
        "id": "0kObQrjZKb0j"
      },
      "source": [
        "## Encoding the Categorical Columns"
      ]
    },
    {
      "cell_type": "code",
      "execution_count": null,
      "metadata": {
        "id": "nNj8RPXEKb0j"
      },
      "outputs": [],
      "source": [
        "from sklearn.preprocessing import LabelEncoder, OneHotEncoder"
      ]
    },
    {
      "cell_type": "code",
      "execution_count": null,
      "metadata": {
        "id": "54gShLlNKb0j"
      },
      "outputs": [],
      "source": [
        "le = LabelEncoder()\n",
        "ohe = OneHotEncoder(sparse=False)"
      ]
    },
    {
      "cell_type": "code",
      "execution_count": null,
      "metadata": {
        "id": "MmbWqHsxKb0j"
      },
      "outputs": [],
      "source": [
        "le_gender = pd.DataFrame(le.fit_transform(all_features['gender']))\n",
        "le_maritalStatus = pd.DataFrame(le.fit_transform(all_features['ever_married']))\n",
        "le_workType = pd.DataFrame(le.fit_transform(all_features['work_type']))\n",
        "le_residenceType = pd.DataFrame(le.fit_transform(all_features['Residence_type']))\n",
        "le_smokingStatus = pd.DataFrame(le.fit_transform(all_features['smoking_status']))"
      ]
    },
    {
      "cell_type": "code",
      "execution_count": null,
      "metadata": {
        "id": "kPf05kr6Kb0j"
      },
      "outputs": [],
      "source": [
        "le_features = pd.concat([numeric_features,le_gender,le_maritalStatus,le_workType,le_residenceType,le_smokingStatus], axis=1)"
      ]
    },
    {
      "cell_type": "code",
      "execution_count": null,
      "metadata": {
        "id": "lwcfgCSLKb0k",
        "outputId": "729bdcc1-795f-4e03-f06e-5937c2607b45"
      },
      "outputs": [
        {
          "data": {
            "text/html": [
              "<div>\n",
              "<style scoped>\n",
              "    .dataframe tbody tr th:only-of-type {\n",
              "        vertical-align: middle;\n",
              "    }\n",
              "\n",
              "    .dataframe tbody tr th {\n",
              "        vertical-align: top;\n",
              "    }\n",
              "\n",
              "    .dataframe thead th {\n",
              "        text-align: right;\n",
              "    }\n",
              "</style>\n",
              "<table border=\"1\" class=\"dataframe\">\n",
              "  <thead>\n",
              "    <tr style=\"text-align: right;\">\n",
              "      <th></th>\n",
              "      <th>age</th>\n",
              "      <th>hypertension</th>\n",
              "      <th>heart_disease</th>\n",
              "      <th>avg_glucose_level</th>\n",
              "      <th>bmi</th>\n",
              "      <th>gender</th>\n",
              "      <th>ever_married</th>\n",
              "      <th>work_type</th>\n",
              "      <th>Residence_type</th>\n",
              "      <th>smoking_status</th>\n",
              "    </tr>\n",
              "  </thead>\n",
              "  <tbody>\n",
              "    <tr>\n",
              "      <th>0</th>\n",
              "      <td>67.0</td>\n",
              "      <td>0</td>\n",
              "      <td>1</td>\n",
              "      <td>228.69</td>\n",
              "      <td>36.6</td>\n",
              "      <td>1</td>\n",
              "      <td>1</td>\n",
              "      <td>2</td>\n",
              "      <td>1</td>\n",
              "      <td>1</td>\n",
              "    </tr>\n",
              "    <tr>\n",
              "      <th>1</th>\n",
              "      <td>80.0</td>\n",
              "      <td>0</td>\n",
              "      <td>1</td>\n",
              "      <td>105.92</td>\n",
              "      <td>32.5</td>\n",
              "      <td>1</td>\n",
              "      <td>1</td>\n",
              "      <td>2</td>\n",
              "      <td>0</td>\n",
              "      <td>2</td>\n",
              "    </tr>\n",
              "    <tr>\n",
              "      <th>2</th>\n",
              "      <td>49.0</td>\n",
              "      <td>0</td>\n",
              "      <td>0</td>\n",
              "      <td>171.23</td>\n",
              "      <td>34.4</td>\n",
              "      <td>0</td>\n",
              "      <td>1</td>\n",
              "      <td>2</td>\n",
              "      <td>1</td>\n",
              "      <td>3</td>\n",
              "    </tr>\n",
              "    <tr>\n",
              "      <th>3</th>\n",
              "      <td>79.0</td>\n",
              "      <td>1</td>\n",
              "      <td>0</td>\n",
              "      <td>174.12</td>\n",
              "      <td>24.0</td>\n",
              "      <td>0</td>\n",
              "      <td>1</td>\n",
              "      <td>3</td>\n",
              "      <td>0</td>\n",
              "      <td>2</td>\n",
              "    </tr>\n",
              "    <tr>\n",
              "      <th>4</th>\n",
              "      <td>81.0</td>\n",
              "      <td>0</td>\n",
              "      <td>0</td>\n",
              "      <td>186.21</td>\n",
              "      <td>29.0</td>\n",
              "      <td>1</td>\n",
              "      <td>1</td>\n",
              "      <td>2</td>\n",
              "      <td>1</td>\n",
              "      <td>1</td>\n",
              "    </tr>\n",
              "  </tbody>\n",
              "</table>\n",
              "</div>"
            ],
            "text/plain": [
              "    age  hypertension  heart_disease  avg_glucose_level   bmi  gender  \\\n",
              "0  67.0             0              1             228.69  36.6       1   \n",
              "1  80.0             0              1             105.92  32.5       1   \n",
              "2  49.0             0              0             171.23  34.4       0   \n",
              "3  79.0             1              0             174.12  24.0       0   \n",
              "4  81.0             0              0             186.21  29.0       1   \n",
              "\n",
              "   ever_married  work_type  Residence_type  smoking_status  \n",
              "0             1          2               1               1  \n",
              "1             1          2               0               2  \n",
              "2             1          2               1               3  \n",
              "3             1          3               0               2  \n",
              "4             1          2               1               1  "
            ]
          },
          "execution_count": 15,
          "metadata": {},
          "output_type": "execute_result"
        }
      ],
      "source": [
        "le_features.columns = ['age', 'hypertension', 'heart_disease', 'avg_glucose_level', 'bmi', 'gender', 'ever_married',\n",
        "                       'work_type', 'Residence_type', 'smoking_status']          \n",
        "le_features.head()"
      ]
    },
    {
      "cell_type": "code",
      "execution_count": null,
      "metadata": {
        "id": "OdokwYeQKb0k"
      },
      "outputs": [],
      "source": [
        "import klib"
      ]
    },
    {
      "cell_type": "code",
      "execution_count": null,
      "metadata": {
        "id": "VnhG-mo8Kb0k",
        "outputId": "34dbd695-e2ff-4236-bac4-ec2f3dce97e6"
      },
      "outputs": [
        {
          "data": {
            "text/plain": [
              "<AxesSubplot:title={'center':'Feature-correlation (pearson)'}>"
            ]
          },
          "execution_count": 17,
          "metadata": {},
          "output_type": "execute_result"
        },
        {
          "data": {
            "image/png": "[encoded data removed]",
            "text/plain": [
              "<Figure size 864x720 with 2 Axes>"
            ]
          },
          "metadata": {
            "needs_background": "light"
          },
          "output_type": "display_data"
        }
      ],
      "source": [
        "klib.corr_plot(pd.concat([le_features, target], axis=1))"
      ]
    },
    {
      "cell_type": "code",
      "execution_count": null,
      "metadata": {
        "id": "n7Q5iQPFKb0k",
        "outputId": "6830b099-e01b-4a2f-d09b-0347164adb1a"
      },
      "outputs": [
        {
          "data": {
            "image/png": "[encoded data removed]",
            "text/plain": [
              "<Figure size 720x576 with 12 Axes>"
            ]
          },
          "metadata": {
            "needs_background": "light"
          },
          "output_type": "display_data"
        }
      ],
      "source": [
        "# Displaying feature histogram\n",
        "fig = le_features.hist(figsize=(10, 8))\n",
        "plt.tight_layout()\n",
        "plt.show()"
      ]
    },
    {
      "cell_type": "code",
      "execution_count": null,
      "metadata": {
        "id": "7MHTI52EKb0l"
      },
      "outputs": [],
      "source": [
        "enc = pd.DataFrame(ohe.fit_transform(all_features[['gender', 'ever_married', 'work_type', 'Residence_type', \n",
        "                                                            'smoking_status']]))\n",
        "enc.columns = ohe.get_feature_names_out(['gender','ever_married','work_type','Residence_type','smoking_status'])\n",
        "ohe_features = pd.concat([numeric_features, enc], axis=1)"
      ]
    },
    {
      "cell_type": "code",
      "execution_count": null,
      "metadata": {
        "id": "NGL7zNxxKb0l",
        "outputId": "8c0c5319-9075-48e6-e3f0-a06428616d7d"
      },
      "outputs": [
        {
          "data": {
            "text/html": [
              "<div>\n",
              "<style scoped>\n",
              "    .dataframe tbody tr th:only-of-type {\n",
              "        vertical-align: middle;\n",
              "    }\n",
              "\n",
              "    .dataframe tbody tr th {\n",
              "        vertical-align: top;\n",
              "    }\n",
              "\n",
              "    .dataframe thead th {\n",
              "        text-align: right;\n",
              "    }\n",
              "</style>\n",
              "<table border=\"1\" class=\"dataframe\">\n",
              "  <thead>\n",
              "    <tr style=\"text-align: right;\">\n",
              "      <th></th>\n",
              "      <th>age</th>\n",
              "      <th>hypertension</th>\n",
              "      <th>heart_disease</th>\n",
              "      <th>avg_glucose_level</th>\n",
              "      <th>bmi</th>\n",
              "      <th>gender_Female</th>\n",
              "      <th>gender_Male</th>\n",
              "      <th>gender_Other</th>\n",
              "      <th>ever_married_No</th>\n",
              "      <th>ever_married_Yes</th>\n",
              "      <th>...</th>\n",
              "      <th>work_type_Never_worked</th>\n",
              "      <th>work_type_Private</th>\n",
              "      <th>work_type_Self-employed</th>\n",
              "      <th>work_type_children</th>\n",
              "      <th>Residence_type_Rural</th>\n",
              "      <th>Residence_type_Urban</th>\n",
              "      <th>smoking_status_Unknown</th>\n",
              "      <th>smoking_status_formerly smoked</th>\n",
              "      <th>smoking_status_never smoked</th>\n",
              "      <th>smoking_status_smokes</th>\n",
              "    </tr>\n",
              "  </thead>\n",
              "  <tbody>\n",
              "    <tr>\n",
              "      <th>0</th>\n",
              "      <td>67.0</td>\n",
              "      <td>0</td>\n",
              "      <td>1</td>\n",
              "      <td>228.69</td>\n",
              "      <td>36.6</td>\n",
              "      <td>0.0</td>\n",
              "      <td>1.0</td>\n",
              "      <td>0.0</td>\n",
              "      <td>0.0</td>\n",
              "      <td>1.0</td>\n",
              "      <td>...</td>\n",
              "      <td>0.0</td>\n",
              "      <td>1.0</td>\n",
              "      <td>0.0</td>\n",
              "      <td>0.0</td>\n",
              "      <td>0.0</td>\n",
              "      <td>1.0</td>\n",
              "      <td>0.0</td>\n",
              "      <td>1.0</td>\n",
              "      <td>0.0</td>\n",
              "      <td>0.0</td>\n",
              "    </tr>\n",
              "    <tr>\n",
              "      <th>1</th>\n",
              "      <td>80.0</td>\n",
              "      <td>0</td>\n",
              "      <td>1</td>\n",
              "      <td>105.92</td>\n",
              "      <td>32.5</td>\n",
              "      <td>0.0</td>\n",
              "      <td>1.0</td>\n",
              "      <td>0.0</td>\n",
              "      <td>0.0</td>\n",
              "      <td>1.0</td>\n",
              "      <td>...</td>\n",
              "      <td>0.0</td>\n",
              "      <td>1.0</td>\n",
              "      <td>0.0</td>\n",
              "      <td>0.0</td>\n",
              "      <td>1.0</td>\n",
              "      <td>0.0</td>\n",
              "      <td>0.0</td>\n",
              "      <td>0.0</td>\n",
              "      <td>1.0</td>\n",
              "      <td>0.0</td>\n",
              "    </tr>\n",
              "    <tr>\n",
              "      <th>2</th>\n",
              "      <td>49.0</td>\n",
              "      <td>0</td>\n",
              "      <td>0</td>\n",
              "      <td>171.23</td>\n",
              "      <td>34.4</td>\n",
              "      <td>1.0</td>\n",
              "      <td>0.0</td>\n",
              "      <td>0.0</td>\n",
              "      <td>0.0</td>\n",
              "      <td>1.0</td>\n",
              "      <td>...</td>\n",
              "      <td>0.0</td>\n",
              "      <td>1.0</td>\n",
              "      <td>0.0</td>\n",
              "      <td>0.0</td>\n",
              "      <td>0.0</td>\n",
              "      <td>1.0</td>\n",
              "      <td>0.0</td>\n",
              "      <td>0.0</td>\n",
              "      <td>0.0</td>\n",
              "      <td>1.0</td>\n",
              "    </tr>\n",
              "    <tr>\n",
              "      <th>3</th>\n",
              "      <td>79.0</td>\n",
              "      <td>1</td>\n",
              "      <td>0</td>\n",
              "      <td>174.12</td>\n",
              "      <td>24.0</td>\n",
              "      <td>1.0</td>\n",
              "      <td>0.0</td>\n",
              "      <td>0.0</td>\n",
              "      <td>0.0</td>\n",
              "      <td>1.0</td>\n",
              "      <td>...</td>\n",
              "      <td>0.0</td>\n",
              "      <td>0.0</td>\n",
              "      <td>1.0</td>\n",
              "      <td>0.0</td>\n",
              "      <td>1.0</td>\n",
              "      <td>0.0</td>\n",
              "      <td>0.0</td>\n",
              "      <td>0.0</td>\n",
              "      <td>1.0</td>\n",
              "      <td>0.0</td>\n",
              "    </tr>\n",
              "    <tr>\n",
              "      <th>4</th>\n",
              "      <td>81.0</td>\n",
              "      <td>0</td>\n",
              "      <td>0</td>\n",
              "      <td>186.21</td>\n",
              "      <td>29.0</td>\n",
              "      <td>0.0</td>\n",
              "      <td>1.0</td>\n",
              "      <td>0.0</td>\n",
              "      <td>0.0</td>\n",
              "      <td>1.0</td>\n",
              "      <td>...</td>\n",
              "      <td>0.0</td>\n",
              "      <td>1.0</td>\n",
              "      <td>0.0</td>\n",
              "      <td>0.0</td>\n",
              "      <td>0.0</td>\n",
              "      <td>1.0</td>\n",
              "      <td>0.0</td>\n",
              "      <td>1.0</td>\n",
              "      <td>0.0</td>\n",
              "      <td>0.0</td>\n",
              "    </tr>\n",
              "  </tbody>\n",
              "</table>\n",
              "<p>5 rows × 21 columns</p>\n",
              "</div>"
            ],
            "text/plain": [
              "    age  hypertension  heart_disease  avg_glucose_level   bmi  gender_Female  \\\n",
              "0  67.0             0              1             228.69  36.6            0.0   \n",
              "1  80.0             0              1             105.92  32.5            0.0   \n",
              "2  49.0             0              0             171.23  34.4            1.0   \n",
              "3  79.0             1              0             174.12  24.0            1.0   \n",
              "4  81.0             0              0             186.21  29.0            0.0   \n",
              "\n",
              "   gender_Male  gender_Other  ever_married_No  ever_married_Yes  ...  \\\n",
              "0          1.0           0.0              0.0               1.0  ...   \n",
              "1          1.0           0.0              0.0               1.0  ...   \n",
              "2          0.0           0.0              0.0               1.0  ...   \n",
              "3          0.0           0.0              0.0               1.0  ...   \n",
              "4          1.0           0.0              0.0               1.0  ...   \n",
              "\n",
              "   work_type_Never_worked  work_type_Private  work_type_Self-employed  \\\n",
              "0                     0.0                1.0                      0.0   \n",
              "1                     0.0                1.0                      0.0   \n",
              "2                     0.0                1.0                      0.0   \n",
              "3                     0.0                0.0                      1.0   \n",
              "4                     0.0                1.0                      0.0   \n",
              "\n",
              "   work_type_children  Residence_type_Rural  Residence_type_Urban  \\\n",
              "0                 0.0                   0.0                   1.0   \n",
              "1                 0.0                   1.0                   0.0   \n",
              "2                 0.0                   0.0                   1.0   \n",
              "3                 0.0                   1.0                   0.0   \n",
              "4                 0.0                   0.0                   1.0   \n",
              "\n",
              "   smoking_status_Unknown  smoking_status_formerly smoked  \\\n",
              "0                     0.0                             1.0   \n",
              "1                     0.0                             0.0   \n",
              "2                     0.0                             0.0   \n",
              "3                     0.0                             0.0   \n",
              "4                     0.0                             1.0   \n",
              "\n",
              "   smoking_status_never smoked  smoking_status_smokes  \n",
              "0                          0.0                    0.0  \n",
              "1                          1.0                    0.0  \n",
              "2                          0.0                    1.0  \n",
              "3                          1.0                    0.0  \n",
              "4                          0.0                    0.0  \n",
              "\n",
              "[5 rows x 21 columns]"
            ]
          },
          "execution_count": 20,
          "metadata": {},
          "output_type": "execute_result"
        }
      ],
      "source": [
        "ohe_features.head()"
      ]
    },
    {
      "cell_type": "code",
      "execution_count": null,
      "metadata": {
        "id": "Yfg1XbSeKb0m",
        "outputId": "287ebd09-ebb8-4118-c5a6-5cf39269f437"
      },
      "outputs": [
        {
          "data": {
            "image/png": "[encoded data removed]",
            "text/plain": [
              "<Figure size 432x288 with 1 Axes>"
            ]
          },
          "metadata": {},
          "output_type": "display_data"
        },
        {
          "name": "stdout",
          "output_type": "stream",
          "text": [
            "Number of no stroke cases: 4700\n",
            "Number of stroke cases: 209\n"
          ]
        }
      ],
      "source": [
        "# Target Class Distribution\n",
        "classes = dataset_clean['stroke'].value_counts()\n",
        "class_labels = ['No Stroke', 'Stroke']\n",
        "\n",
        "plt.pie(classes, labels=class_labels, shadow=True, autopct='%1.1f%%', startangle=0)\n",
        "plt.plot('Class Distribution')\n",
        "plt.show()\n",
        "\n",
        "print(f'Number of no stroke cases: {classes[0]}')\n",
        "print(f'Number of stroke cases: {classes[1]}')"
      ]
    },
    {
      "cell_type": "markdown",
      "metadata": {
        "id": "6zju-QwCKb0m"
      },
      "source": [
        "<i>**<font color=\"red\">The class distribution plot shows that dataset is imbalanced. That means, number `Stroke` of cases are very neglible compared to that of the `No Stroke` cases.</font>**</i><br>\n",
        "- There are a number of ways for handling imbalanced data [Link](https://heartbeat.comet.ml/resampling-to-properly-handle-imbalanced-datasets-in-machine-learning-64d82c16ceaa) e.g. \n",
        "  - Collecting more data\n",
        "  - Changing the performance metric\n",
        "  - Using penalized model\n",
        "  - Resampling\n",
        "    - Oversampling\n",
        "      - Random Oversampling\n",
        "      - SMOTE Oversampling\n",
        "      - ADASYN Oversampling etc.\n",
        "    - Undersampling\n",
        "      - Random Undersampling\n",
        "      - NearMiss Undersampling\n",
        "      - Undersampling with Tomek Links\n",
        "      - Undersampling with Cluster Centroids\n",
        "      - Undersampling with Edited Nearest Neighbor Rule\n",
        "      - Undersampling with Neighborhood Cleaning Rule\n",
        "- In this exercise, oversampling has been used to increase the number of samples for stroke cases."
      ]
    },
    {
      "cell_type": "code",
      "execution_count": null,
      "metadata": {
        "id": "_Pf6Rw4dKb0m"
      },
      "outputs": [],
      "source": [
        "from imblearn.over_sampling import SMOTE"
      ]
    },
    {
      "cell_type": "code",
      "execution_count": null,
      "metadata": {
        "id": "SvegpnJLKb0m",
        "outputId": "84c1aed2-d426-4b7c-de6d-087c34c4b8c7"
      },
      "outputs": [
        {
          "name": "stdout",
          "output_type": "stream",
          "text": [
            "(9400, 10)\n",
            "(9400,)\n",
            "(9400, 21)\n",
            "(9400,)\n"
          ]
        }
      ],
      "source": [
        "smote = SMOTE(sampling_strategy='minority')\n",
        "leX, ley = smote.fit_resample(le_features, target)\n",
        "oheX, ohey = smote.fit_resample(ohe_features, target)\n",
        "\n",
        "print(leX.shape)\n",
        "print(ley.shape)\n",
        "\n",
        "print(oheX.shape)\n",
        "print(ohey.shape)"
      ]
    },
    {
      "cell_type": "markdown",
      "metadata": {
        "id": "K7L9DoZ0Kb0n"
      },
      "source": [
        "## Splitting the Dataset"
      ]
    },
    {
      "cell_type": "code",
      "execution_count": null,
      "metadata": {
        "id": "694R0pzhKb0n"
      },
      "outputs": [],
      "source": [
        "from sklearn.model_selection import train_test_split"
      ]
    },
    {
      "cell_type": "code",
      "execution_count": null,
      "metadata": {
        "id": "x2JawmXQKb0n",
        "outputId": "4a24d6e6-7433-4345-8785-8d91147eda92"
      },
      "outputs": [
        {
          "name": "stdout",
          "output_type": "stream",
          "text": [
            "(7520, 10)\n",
            "(1880, 10)\n",
            "(7520, 21)\n",
            "(1880, 21)\n"
          ]
        }
      ],
      "source": [
        "leX_train, leX_test, ley_train, ley_test = train_test_split(leX, ley, test_size=0.2, random_state=4)\n",
        "oheX_train, oheX_test, ohey_train, ohey_test = train_test_split(oheX, ohey, test_size=0.2, random_state=4)\n",
        "\n",
        "print(leX_train.shape)\n",
        "print(leX_test.shape)\n",
        "\n",
        "print(oheX_train.shape)\n",
        "print(oheX_test.shape)"
      ]
    },
    {
      "cell_type": "markdown",
      "metadata": {
        "id": "DfRDEtHjKb0n"
      },
      "source": [
        "## Feature Scaling"
      ]
    },
    {
      "cell_type": "code",
      "execution_count": null,
      "metadata": {
        "id": "ik9drjs8Kb0n"
      },
      "outputs": [],
      "source": [
        "from sklearn.preprocessing import StandardScaler"
      ]
    },
    {
      "cell_type": "code",
      "execution_count": null,
      "metadata": {
        "id": "_zGGCvgIKb0n"
      },
      "outputs": [],
      "source": [
        "le_scaler = StandardScaler()\n",
        "ohe_scaler = StandardScaler()\n",
        "\n",
        "lenX_train = le_scaler.fit_transform(leX_train)\n",
        "lenX_test = le_scaler.transform(leX_test)\n",
        "\n",
        "ohenX_train = ohe_scaler.fit_transform(oheX_train)\n",
        "ohenX_test = ohe_scaler.transform(oheX_test)"
      ]
    },
    {
      "cell_type": "markdown",
      "metadata": {
        "id": "LpWa6hxEKb0o"
      },
      "source": [
        "## Performance Metrics\n",
        "- Performance metrics provide a measure of how well a trained model performs on unknown data\n",
        "- There are a number of performance metrics. e.g.\n",
        "  - Sensitivity, specificity and area under curve (AUC)\n",
        "  - Precision, recall and f1-score"
      ]
    },
    {
      "cell_type": "code",
      "execution_count": null,
      "metadata": {
        "id": "QWfMuKBzKb0o"
      },
      "outputs": [],
      "source": [
        "from sklearn.metrics import classification_report, accuracy_score, confusion_matrix, precision_score, recall_score, f1_score"
      ]
    },
    {
      "cell_type": "markdown",
      "metadata": {
        "id": "jYRE-THHKb0o"
      },
      "source": [
        "## Training Models"
      ]
    },
    {
      "cell_type": "markdown",
      "metadata": {
        "id": "wRbhBA9sKb0o"
      },
      "source": [
        "### Logistic Regresssion"
      ]
    },
    {
      "cell_type": "code",
      "execution_count": null,
      "metadata": {
        "id": "Mo2ythQcKb0o"
      },
      "outputs": [],
      "source": [
        "from sklearn.linear_model import LogisticRegression"
      ]
    },
    {
      "cell_type": "code",
      "execution_count": null,
      "metadata": {
        "id": "tZZmA7OYKb0o"
      },
      "outputs": [],
      "source": [
        "# FOR LABEL ENCODED DATA\n",
        "le_logistic_model = LogisticRegression(solver='lbfgs', random_state=4)\n",
        "le_logistic_model.fit(lenX_train, ley_train)\n",
        "le_log_pred = le_logistic_model.predict(lenX_test)"
      ]
    },
    {
      "cell_type": "code",
      "execution_count": null,
      "metadata": {
        "id": "SvlT9TmbKb0o"
      },
      "outputs": [],
      "source": [
        "# FOR ONE-HOT ENCODED DATA\n",
        "ohe_logistic_model = LogisticRegression(solver='lbfgs', random_state=4)\n",
        "ohe_logistic_model.fit(ohenX_train, ohey_train)\n",
        "ohe_log_pred = ohe_logistic_model.predict(ohenX_test)"
      ]
    },
    {
      "cell_type": "code",
      "execution_count": null,
      "metadata": {
        "id": "z-t3ZHqTKb0p",
        "outputId": "a4e61a9f-3fe3-4684-b36c-910c8227afbd"
      },
      "outputs": [
        {
          "name": "stdout",
          "output_type": "stream",
          "text": [
            "Classification Report: \n",
            "              precision    recall  f1-score   support\n",
            "\n",
            "           0       0.78      0.77      0.78       921\n",
            "           1       0.78      0.80      0.79       959\n",
            "\n",
            "    accuracy                           0.78      1880\n",
            "   macro avg       0.78      0.78      0.78      1880\n",
            "weighted avg       0.78      0.78      0.78      1880\n",
            "\n",
            "Confusion Matrix: \n",
            "[[706 215]\n",
            " [194 765]]\n",
            "Accuracy of Logistic Regression Model: 0.78\n",
            "Precision score: 0.78\n",
            "Recall score: 0.80\n",
            "F1-score: 0.79\n"
          ]
        }
      ],
      "source": [
        "# FOR LABEL ENCODED DATA\n",
        "print(f'Classification Report: \\n{classification_report(ley_test, le_log_pred)}')\n",
        "print(f'Confusion Matrix: \\n{confusion_matrix(ley_test, le_log_pred)}')\n",
        "\n",
        "le_acc_log = accuracy_score(ley_test, le_log_pred)\n",
        "\n",
        "print(f'Accuracy of Logistic Regression Model: {le_acc_log:.2f}')\n",
        "\n",
        "le_prec_log = precision_score(ley_test, le_log_pred)\n",
        "le_rec_log = recall_score(ley_test, le_log_pred)\n",
        "le_f1_log = f1_score(ley_test, le_log_pred)\n",
        "\n",
        "print(f'Precision score: {le_prec_log:.2f}')\n",
        "print(f'Recall score: {le_rec_log:.2f}')\n",
        "print(f'F1-score: {le_f1_log:.2f}')"
      ]
    },
    {
      "cell_type": "code",
      "execution_count": null,
      "metadata": {
        "id": "-Fm9jMulKb0p",
        "outputId": "7292a7c3-49be-4efd-b6ac-a15244234f09"
      },
      "outputs": [
        {
          "name": "stdout",
          "output_type": "stream",
          "text": [
            "Classification Report: \n",
            "              precision    recall  f1-score   support\n",
            "\n",
            "           0       0.79      0.73      0.76       921\n",
            "           1       0.76      0.81      0.78       959\n",
            "\n",
            "    accuracy                           0.77      1880\n",
            "   macro avg       0.77      0.77      0.77      1880\n",
            "weighted avg       0.77      0.77      0.77      1880\n",
            "\n",
            "Confusion Matrix: \n",
            "[[676 245]\n",
            " [185 774]]\n",
            "Accuracy of Logistic Regression Model: 0.77\n",
            "Precision score: 0.76\n",
            "Recall score: 0.81\n",
            "F1-score: 0.78\n"
          ]
        }
      ],
      "source": [
        "# FOR ONE-HOT ENCODED DATA\n",
        "print(f'Classification Report: \\n{classification_report(ohey_test, ohe_log_pred)}')\n",
        "print(f'Confusion Matrix: \\n{confusion_matrix(ohey_test, ohe_log_pred)}')\n",
        "\n",
        "ohe_acc_log = accuracy_score(ohey_test, ohe_log_pred)\n",
        "\n",
        "print(f'Accuracy of Logistic Regression Model: {ohe_acc_log:.2f}')\n",
        "\n",
        "ohe_prec_log = precision_score(ohey_test, ohe_log_pred)\n",
        "ohe_rec_log = recall_score(ohey_test, ohe_log_pred)\n",
        "ohe_f1_log = f1_score(ohey_test, ohe_log_pred)\n",
        "\n",
        "print(f'Precision score: {ohe_prec_log:.2f}')\n",
        "print(f'Recall score: {ohe_rec_log:.2f}')\n",
        "print(f'F1-score: {ohe_f1_log:.2f}')"
      ]
    },
    {
      "cell_type": "markdown",
      "metadata": {
        "id": "wyDJVKEWKb0p"
      },
      "source": [
        "### Support Vector Machine"
      ]
    },
    {
      "cell_type": "code",
      "execution_count": null,
      "metadata": {
        "id": "sirFoK6KKb0p"
      },
      "outputs": [],
      "source": [
        "from sklearn.svm import SVC"
      ]
    },
    {
      "cell_type": "code",
      "execution_count": null,
      "metadata": {
        "id": "i4MNCnECKb0p"
      },
      "outputs": [],
      "source": [
        "# FOR LABEL ENCODED DATA\n",
        "le_svm_model = SVC(kernel = 'linear', random_state=4, C=1)\n",
        "le_svm_model.fit(lenX_train, ley_train)\n",
        "le_svm_pred = le_svm_model.predict(lenX_test)"
      ]
    },
    {
      "cell_type": "code",
      "execution_count": null,
      "metadata": {
        "id": "z7CgeqjpKb0q"
      },
      "outputs": [],
      "source": [
        "# FOR OHE-HOT ENCODED DATA\n",
        "ohe_svm_model = SVC(kernel = 'linear', random_state=4, C=1)\n",
        "ohe_svm_model.fit(ohenX_train, ohey_train)\n",
        "ohe_svm_pred = ohe_svm_model.predict(ohenX_test)"
      ]
    },
    {
      "cell_type": "code",
      "execution_count": null,
      "metadata": {
        "id": "zffMWH59Kb0q",
        "outputId": "5fe86574-079f-44c5-acb9-5e1b998eac05"
      },
      "outputs": [
        {
          "name": "stdout",
          "output_type": "stream",
          "text": [
            "Classification Report: \n",
            "              precision    recall  f1-score   support\n",
            "\n",
            "           0       0.79      0.77      0.78       921\n",
            "           1       0.78      0.80      0.79       959\n",
            "\n",
            "    accuracy                           0.79      1880\n",
            "   macro avg       0.79      0.79      0.79      1880\n",
            "weighted avg       0.79      0.79      0.79      1880\n",
            "\n",
            "Confusion Matrix: \n",
            "[[708 213]\n",
            " [188 771]]\n",
            "Accuracy of Logistic Regression Model: 0.79\n",
            "Precision score: 0.78\n",
            "Recall score: 0.80\n",
            "F1-score: 0.79\n"
          ]
        }
      ],
      "source": [
        "print(f'Classification Report: \\n{classification_report(ley_test, le_svm_pred)}')\n",
        "print(f'Confusion Matrix: \\n{confusion_matrix(ley_test, le_svm_pred)}')\n",
        "\n",
        "le_acc_svm = accuracy_score(ley_test, le_svm_pred)\n",
        "\n",
        "print(f'Accuracy of Logistic Regression Model: {le_acc_svm:.2f}')\n",
        "\n",
        "le_prec_svm = precision_score(ley_test, le_svm_pred)\n",
        "le_rec_svm = recall_score(ley_test, le_svm_pred)\n",
        "le_f1_svm = f1_score(ley_test, le_svm_pred)\n",
        "\n",
        "\n",
        "print(f'Precision score: {le_prec_svm:.2f}')\n",
        "print(f'Recall score: {le_rec_svm:.2f}')\n",
        "print(f'F1-score: {le_f1_svm:.2f}')"
      ]
    },
    {
      "cell_type": "code",
      "execution_count": null,
      "metadata": {
        "id": "kQckTnY2Kb0q",
        "outputId": "8d5d9c3b-b54c-4677-f9b1-480d45ebe02f"
      },
      "outputs": [
        {
          "name": "stdout",
          "output_type": "stream",
          "text": [
            "Classification Report: \n",
            "              precision    recall  f1-score   support\n",
            "\n",
            "           0       0.80      0.73      0.76       921\n",
            "           1       0.76      0.82      0.79       959\n",
            "\n",
            "    accuracy                           0.78      1880\n",
            "   macro avg       0.78      0.77      0.77      1880\n",
            "weighted avg       0.78      0.78      0.77      1880\n",
            "\n",
            "Confusion Matrix: \n",
            "[[668 253]\n",
            " [170 789]]\n",
            "Accuracy of Logistic Regression Model: 0.78\n",
            "Precision score: 0.76\n",
            "Recall score: 0.82\n",
            "F1-score: 0.79\n"
          ]
        }
      ],
      "source": [
        "print(f'Classification Report: \\n{classification_report(ohey_test, ohe_svm_pred)}')\n",
        "print(f'Confusion Matrix: \\n{confusion_matrix(ohey_test, ohe_svm_pred)}')\n",
        "\n",
        "ohe_acc_svm = accuracy_score(ohey_test, ohe_svm_pred)\n",
        "\n",
        "print(f'Accuracy of Logistic Regression Model: {ohe_acc_svm:.2f}')\n",
        "\n",
        "ohe_prec_svm = precision_score(ohey_test, ohe_svm_pred)\n",
        "ohe_rec_svm = recall_score(ohey_test, ohe_svm_pred)\n",
        "ohe_f1_svm = f1_score(ohey_test, ohe_svm_pred)\n",
        "\n",
        "\n",
        "print(f'Precision score: {ohe_prec_svm:.2f}')\n",
        "print(f'Recall score: {ohe_rec_svm:.2f}')\n",
        "print(f'F1-score: {ohe_f1_svm:.2f}')"
      ]
    },
    {
      "cell_type": "markdown",
      "metadata": {
        "id": "hm9PXEYmKb0q"
      },
      "source": [
        "### K-Nearest Neighbor"
      ]
    },
    {
      "cell_type": "code",
      "execution_count": null,
      "metadata": {
        "id": "oAvrQ7s3Kb0q"
      },
      "outputs": [],
      "source": [
        "from sklearn.neighbors import KNeighborsClassifier"
      ]
    },
    {
      "cell_type": "code",
      "execution_count": null,
      "metadata": {
        "id": "XPNy6ysaKb0q"
      },
      "outputs": [],
      "source": [
        "# FOR LABEL ENCODED DATA\n",
        "le_knn_model = KNeighborsClassifier(n_neighbors=7)\n",
        "le_knn_model.fit(lenX_train, ley_train)\n",
        "le_knn_pred = le_knn_model.predict(lenX_test)"
      ]
    },
    {
      "cell_type": "code",
      "execution_count": null,
      "metadata": {
        "id": "9KztBk74Kb0r"
      },
      "outputs": [],
      "source": [
        "# FOR ONE-HOT ENCODED DATA\n",
        "ohe_knn_model = KNeighborsClassifier(n_neighbors=7)\n",
        "ohe_knn_model.fit(ohenX_train, ohey_train)\n",
        "ohe_knn_pred = ohe_knn_model.predict(ohenX_test)"
      ]
    },
    {
      "cell_type": "code",
      "execution_count": null,
      "metadata": {
        "id": "s1u-1W0GKb0r",
        "outputId": "9812f2f4-7f8f-460b-847e-6595ad92b382"
      },
      "outputs": [
        {
          "name": "stdout",
          "output_type": "stream",
          "text": [
            "Classification Report: \n",
            "              precision    recall  f1-score   support\n",
            "\n",
            "           0       0.92      0.81      0.86       921\n",
            "           1       0.84      0.94      0.88       959\n",
            "\n",
            "    accuracy                           0.87      1880\n",
            "   macro avg       0.88      0.87      0.87      1880\n",
            "weighted avg       0.88      0.87      0.87      1880\n",
            "\n",
            "Confusion Matrix: \n",
            "[[744 177]\n",
            " [ 61 898]]\n",
            "Accuracy of Logistic Regression Model: 0.87\n",
            "Precision score: 0.84\n",
            "Recall score: 0.94\n",
            "F1-score: 0.88\n"
          ]
        }
      ],
      "source": [
        "# FOR LABEL ENCODED DATA\n",
        "print(f'Classification Report: \\n{classification_report(ley_test, le_knn_pred)}')\n",
        "print(f'Confusion Matrix: \\n{confusion_matrix(ley_test, le_knn_pred)}')\n",
        "\n",
        "le_acc_knn = accuracy_score(ley_test, le_knn_pred)\n",
        "\n",
        "print(f'Accuracy of Logistic Regression Model: {le_acc_knn:.2f}')\n",
        "\n",
        "le_prec_knn = precision_score(ley_test, le_knn_pred)\n",
        "le_rec_knn = recall_score(ley_test, le_knn_pred)\n",
        "le_f1_knn = f1_score(ley_test, le_knn_pred)\n",
        "\n",
        "\n",
        "print(f'Precision score: {le_prec_knn:.2f}')\n",
        "print(f'Recall score: {le_rec_knn:.2f}')\n",
        "print(f'F1-score: {le_f1_knn:.2f}')"
      ]
    },
    {
      "cell_type": "code",
      "execution_count": null,
      "metadata": {
        "id": "fpbbgPc_Kb0r",
        "outputId": "a6ea1cf8-7b35-43c4-ebbb-a20b31780073"
      },
      "outputs": [
        {
          "name": "stdout",
          "output_type": "stream",
          "text": [
            "Classification Report: \n",
            "              precision    recall  f1-score   support\n",
            "\n",
            "           0       0.96      0.86      0.91       921\n",
            "           1       0.88      0.96      0.92       959\n",
            "\n",
            "    accuracy                           0.91      1880\n",
            "   macro avg       0.92      0.91      0.91      1880\n",
            "weighted avg       0.92      0.91      0.91      1880\n",
            "\n",
            "Confusion Matrix: \n",
            "[[792 129]\n",
            " [ 35 924]]\n",
            "Accuracy of Logistic Regression Model: 0.91\n",
            "Precision score: 0.88\n",
            "Recall score: 0.96\n",
            "F1-score: 0.92\n"
          ]
        }
      ],
      "source": [
        "# FOR ONE-HOT ENCODED DATA\n",
        "print(f'Classification Report: \\n{classification_report(ohey_test, ohe_knn_pred)}')\n",
        "print(f'Confusion Matrix: \\n{confusion_matrix(ohey_test, ohe_knn_pred)}')\n",
        "\n",
        "ohe_acc_knn = accuracy_score(ohey_test, ohe_knn_pred)\n",
        "\n",
        "print(f'Accuracy of Logistic Regression Model: {ohe_acc_knn:.2f}')\n",
        "\n",
        "ohe_prec_knn = precision_score(ohey_test, ohe_knn_pred)\n",
        "ohe_rec_knn = recall_score(ohey_test, ohe_knn_pred)\n",
        "ohe_f1_knn = f1_score(ohey_test, ohe_knn_pred)\n",
        "\n",
        "\n",
        "print(f'Precision score: {ohe_prec_knn:.2f}')\n",
        "print(f'Recall score: {ohe_rec_knn:.2f}')\n",
        "print(f'F1-score: {ohe_f1_knn:.2f}')"
      ]
    },
    {
      "cell_type": "markdown",
      "metadata": {
        "id": "9h7UZC3MKb0r"
      },
      "source": [
        "### Gaussian Naive Bayes"
      ]
    },
    {
      "cell_type": "code",
      "execution_count": null,
      "metadata": {
        "id": "m-TcQb0qKb0r"
      },
      "outputs": [],
      "source": [
        "from sklearn.naive_bayes import GaussianNB"
      ]
    },
    {
      "cell_type": "code",
      "execution_count": null,
      "metadata": {
        "id": "PHCijFN-Kb0s"
      },
      "outputs": [],
      "source": [
        "# FOR LABEL ENCODED DATA\n",
        "le_gnb_model = GaussianNB()\n",
        "le_gnb_model.fit(lenX_train, ley_train)\n",
        "le_gnb_pred = le_gnb_model.predict(lenX_test)"
      ]
    },
    {
      "cell_type": "code",
      "execution_count": null,
      "metadata": {
        "id": "aUolyX0mKb0s"
      },
      "outputs": [],
      "source": [
        "# FOR ONE-HOT ENCODED DATA\n",
        "ohe_gnb_model = GaussianNB()\n",
        "ohe_gnb_model.fit(ohenX_train, ohey_train)\n",
        "ohe_gnb_pred = ohe_gnb_model.predict(ohenX_test)"
      ]
    },
    {
      "cell_type": "code",
      "execution_count": null,
      "metadata": {
        "id": "qEInyZeuKb0s",
        "outputId": "cb4a8579-8870-4d71-9bf5-252fb7dc90d6"
      },
      "outputs": [
        {
          "name": "stdout",
          "output_type": "stream",
          "text": [
            "Classification Report: \n",
            "              precision    recall  f1-score   support\n",
            "\n",
            "           0       0.80      0.72      0.76       921\n",
            "           1       0.75      0.82      0.79       959\n",
            "\n",
            "    accuracy                           0.77      1880\n",
            "   macro avg       0.78      0.77      0.77      1880\n",
            "weighted avg       0.78      0.77      0.77      1880\n",
            "\n",
            "Confusion Matrix: \n",
            "[[662 259]\n",
            " [168 791]]\n",
            "Accuracy of Logistic Regression Model: 0.77\n",
            "Precision score: 0.75\n",
            "Recall score: 0.82\n",
            "F1-score: 0.79\n"
          ]
        }
      ],
      "source": [
        "# FOR LABEL ENCODED DATA\n",
        "print(f'Classification Report: \\n{classification_report(ley_test, le_gnb_pred)}')\n",
        "print(f'Confusion Matrix: \\n{confusion_matrix(ley_test, le_gnb_pred)}')\n",
        "\n",
        "le_acc_gnb = accuracy_score(ley_test, le_gnb_pred)\n",
        "\n",
        "print(f'Accuracy of Logistic Regression Model: {le_acc_gnb:.2f}')\n",
        "\n",
        "le_prec_gnb = precision_score(ley_test, le_gnb_pred)\n",
        "le_rec_gnb = recall_score(ley_test, le_gnb_pred)\n",
        "le_f1_gnb = f1_score(ley_test, le_gnb_pred)\n",
        "\n",
        "print(f'Precision score: {le_prec_gnb:.2f}')\n",
        "print(f'Recall score: {le_rec_gnb:.2f}')\n",
        "print(f'F1-score: {le_f1_gnb:.2f}')"
      ]
    },
    {
      "cell_type": "code",
      "execution_count": null,
      "metadata": {
        "id": "9DVTXUp3Kb0s",
        "outputId": "213c1c3c-f78e-45af-9225-a3b57e567c5f"
      },
      "outputs": [
        {
          "name": "stdout",
          "output_type": "stream",
          "text": [
            "Classification Report: \n",
            "              precision    recall  f1-score   support\n",
            "\n",
            "           0       0.98      0.29      0.44       921\n",
            "           1       0.59      0.99      0.74       959\n",
            "\n",
            "    accuracy                           0.65      1880\n",
            "   macro avg       0.79      0.64      0.59      1880\n",
            "weighted avg       0.78      0.65      0.60      1880\n",
            "\n",
            "Confusion Matrix: \n",
            "[[265 656]\n",
            " [  6 953]]\n",
            "Accuracy of Logistic Regression Model: 0.65\n",
            "Precision score: 0.59\n",
            "Recall score: 0.99\n",
            "F1-score: 0.74\n"
          ]
        }
      ],
      "source": [
        "# FOR ONE-HOT ENCODED DATA\n",
        "print(f'Classification Report: \\n{classification_report(ohey_test, ohe_gnb_pred)}')\n",
        "print(f'Confusion Matrix: \\n{confusion_matrix(ohey_test, ohe_gnb_pred)}')\n",
        "\n",
        "ohe_acc_gnb = accuracy_score(ohey_test, ohe_gnb_pred)\n",
        "\n",
        "print(f'Accuracy of Logistic Regression Model: {ohe_acc_gnb:.2f}')\n",
        "\n",
        "ohe_prec_gnb = precision_score(ohey_test, ohe_gnb_pred)\n",
        "ohe_rec_gnb = recall_score(ohey_test, ohe_gnb_pred)\n",
        "ohe_f1_gnb = f1_score(ohey_test, ohe_gnb_pred)\n",
        "\n",
        "print(f'Precision score: {ohe_prec_gnb:.2f}')\n",
        "print(f'Recall score: {ohe_rec_gnb:.2f}')\n",
        "print(f'F1-score: {ohe_f1_gnb:.2f}')"
      ]
    },
    {
      "cell_type": "markdown",
      "metadata": {
        "id": "ZlVrLxeGKb0s"
      },
      "source": [
        "### Decision Tree"
      ]
    },
    {
      "cell_type": "code",
      "execution_count": null,
      "metadata": {
        "id": "GMxiBWlUKb0s"
      },
      "outputs": [],
      "source": [
        "from sklearn.tree import DecisionTreeClassifier"
      ]
    },
    {
      "cell_type": "code",
      "execution_count": null,
      "metadata": {
        "id": "4f9ImohYKb0t"
      },
      "outputs": [],
      "source": [
        "# FOR LABEL ENCODED DATA\n",
        "le_dt_model = DecisionTreeClassifier(criterion = 'entropy', random_state=12)\n",
        "le_dt_model.fit(lenX_train, ley_train)\n",
        "le_dt_pred = le_dt_model.predict(lenX_test)"
      ]
    },
    {
      "cell_type": "code",
      "execution_count": null,
      "metadata": {
        "id": "2imJds6EKb0t"
      },
      "outputs": [],
      "source": [
        "# FOR ONE-HOT ENCODED DATA\n",
        "ohe_dt_model = DecisionTreeClassifier(criterion = 'entropy', random_state=12)\n",
        "ohe_dt_model.fit(ohenX_train, ohey_train)\n",
        "ohe_dt_pred = ohe_dt_model.predict(ohenX_test)"
      ]
    },
    {
      "cell_type": "code",
      "execution_count": null,
      "metadata": {
        "id": "eouHqu0fKb0t",
        "outputId": "0ad1d01a-f5f7-4e70-b733-d91e830f0f7f"
      },
      "outputs": [
        {
          "name": "stdout",
          "output_type": "stream",
          "text": [
            "Classification Report: \n",
            "              precision    recall  f1-score   support\n",
            "\n",
            "           0       0.94      0.90      0.92       921\n",
            "           1       0.90      0.94      0.92       959\n",
            "\n",
            "    accuracy                           0.92      1880\n",
            "   macro avg       0.92      0.92      0.92      1880\n",
            "weighted avg       0.92      0.92      0.92      1880\n",
            "\n",
            "Confusion Matrix: \n",
            "[[825  96]\n",
            " [ 55 904]]\n",
            "Accuracy of Logistic Regression Model: 0.92\n",
            "Precision score: 0.90\n",
            "Recall score: 0.94\n",
            "F1-score: 0.92\n"
          ]
        }
      ],
      "source": [
        "# FOR LABEL ENCODED DATA\n",
        "print(f'Classification Report: \\n{classification_report(ley_test, le_dt_pred)}')\n",
        "print(f'Confusion Matrix: \\n{confusion_matrix(ley_test, le_dt_pred)}')\n",
        "\n",
        "le_acc_dt = accuracy_score(ley_test, le_dt_pred)\n",
        "\n",
        "print(f'Accuracy of Logistic Regression Model: {le_acc_dt:.2f}')\n",
        "\n",
        "le_prec_dt = precision_score(ley_test, le_dt_pred)\n",
        "le_rec_dt = recall_score(ley_test, le_dt_pred)\n",
        "le_f1_dt = f1_score(ley_test, le_dt_pred)\n",
        "\n",
        "print(f'Precision score: {le_prec_dt:.2f}')\n",
        "print(f'Recall score: {le_rec_dt:.2f}')\n",
        "print(f'F1-score: {le_f1_dt:.2f}')"
      ]
    },
    {
      "cell_type": "code",
      "execution_count": null,
      "metadata": {
        "id": "_hBabxWDKb0t",
        "outputId": "cf8fa79c-c123-46cf-cebc-a589aa0435fd"
      },
      "outputs": [
        {
          "name": "stdout",
          "output_type": "stream",
          "text": [
            "Classification Report: \n",
            "              precision    recall  f1-score   support\n",
            "\n",
            "           0       0.95      0.94      0.95       921\n",
            "           1       0.94      0.95      0.95       959\n",
            "\n",
            "    accuracy                           0.95      1880\n",
            "   macro avg       0.95      0.95      0.95      1880\n",
            "weighted avg       0.95      0.95      0.95      1880\n",
            "\n",
            "Confusion Matrix: \n",
            "[[866  55]\n",
            " [ 45 914]]\n",
            "Accuracy of Logistic Regression Model: 0.95\n",
            "Precision score: 0.94\n",
            "Recall score: 0.95\n",
            "F1-score: 0.95\n"
          ]
        }
      ],
      "source": [
        "# FOR ONE-HOT ENCODED DATA\n",
        "print(f'Classification Report: \\n{classification_report(ohey_test, ohe_dt_pred)}')\n",
        "print(f'Confusion Matrix: \\n{confusion_matrix(ohey_test, ohe_dt_pred)}')\n",
        "\n",
        "ohe_acc_dt = accuracy_score(ohey_test, ohe_dt_pred)\n",
        "\n",
        "print(f'Accuracy of Logistic Regression Model: {ohe_acc_dt:.2f}')\n",
        "\n",
        "ohe_prec_dt = precision_score(ohey_test, ohe_dt_pred)\n",
        "ohe_rec_dt = recall_score(ohey_test, ohe_dt_pred)\n",
        "ohe_f1_dt = f1_score(ohey_test, ohe_dt_pred)\n",
        "\n",
        "print(f'Precision score: {ohe_prec_dt:.2f}')\n",
        "print(f'Recall score: {ohe_rec_dt:.2f}')\n",
        "print(f'F1-score: {ohe_f1_dt:.2f}')"
      ]
    },
    {
      "cell_type": "markdown",
      "metadata": {
        "id": "R7jy3Iw-Kb0t"
      },
      "source": [
        "### Random Forest"
      ]
    },
    {
      "cell_type": "code",
      "execution_count": null,
      "metadata": {
        "id": "glSdAHSUKb0t"
      },
      "outputs": [],
      "source": [
        "from sklearn.ensemble import RandomForestClassifier"
      ]
    },
    {
      "cell_type": "code",
      "execution_count": null,
      "metadata": {
        "id": "YfzpZfxiKb0u"
      },
      "outputs": [],
      "source": [
        "# FOR LABEL ENCODED DATA\n",
        "le_rf_model = RandomForestClassifier(n_estimators=12, criterion ='entropy', random_state=12)\n",
        "le_rf_model.fit(lenX_train, ley_train)\n",
        "le_rf_pred = le_rf_model.predict(lenX_test)"
      ]
    },
    {
      "cell_type": "code",
      "execution_count": null,
      "metadata": {
        "id": "Wmfqcc8HKb0u"
      },
      "outputs": [],
      "source": [
        "# FOR ONE-HOT ENCODED DATA\n",
        "ohe_rf_model = RandomForestClassifier(n_estimators=12, criterion ='entropy', random_state=12)\n",
        "ohe_rf_model.fit(ohenX_train, ohey_train)\n",
        "ohe_rf_pred = ohe_rf_model.predict(ohenX_test)"
      ]
    },
    {
      "cell_type": "code",
      "execution_count": null,
      "metadata": {
        "id": "1epehEbgKb0u",
        "outputId": "89932b5e-b98d-4bfe-cb43-f41f293f9295"
      },
      "outputs": [
        {
          "name": "stdout",
          "output_type": "stream",
          "text": [
            "Classification Report: \n",
            "              precision    recall  f1-score   support\n",
            "\n",
            "           0       0.96      0.93      0.94       921\n",
            "           1       0.94      0.96      0.95       959\n",
            "\n",
            "    accuracy                           0.95      1880\n",
            "   macro avg       0.95      0.95      0.95      1880\n",
            "weighted avg       0.95      0.95      0.95      1880\n",
            "\n",
            "Confusion Matrix: \n",
            "[[858  63]\n",
            " [ 39 920]]\n",
            "Accuracy of Logistic Regression Model: 0.95\n",
            "Precision score: 0.94\n",
            "Recall score: 0.96\n",
            "F1-score: 0.95\n"
          ]
        }
      ],
      "source": [
        "# FOR LABEL ENCODED DATA\n",
        "print(f'Classification Report: \\n{classification_report(ley_test, le_rf_pred)}')\n",
        "print(f'Confusion Matrix: \\n{confusion_matrix(ley_test, le_rf_pred)}')\n",
        "\n",
        "le_acc_rf = accuracy_score(ley_test, le_rf_pred)\n",
        "\n",
        "print(f'Accuracy of Logistic Regression Model: {le_acc_rf:.2f}')\n",
        "\n",
        "le_prec_rf = precision_score(ley_test, le_rf_pred)\n",
        "le_rec_rf = recall_score(ley_test, le_rf_pred)\n",
        "le_f1_rf = f1_score(ley_test, le_rf_pred)\n",
        "\n",
        "print(f'Precision score: {le_prec_rf:.2f}')\n",
        "print(f'Recall score: {le_rec_rf:.2f}')\n",
        "print(f'F1-score: {le_f1_rf:.2f}')"
      ]
    },
    {
      "cell_type": "code",
      "execution_count": null,
      "metadata": {
        "id": "gZUXjOuZKb0u",
        "outputId": "6455ba84-a96b-4033-b534-73d2d03155ff"
      },
      "outputs": [
        {
          "name": "stdout",
          "output_type": "stream",
          "text": [
            "Classification Report: \n",
            "              precision    recall  f1-score   support\n",
            "\n",
            "           0       0.95      0.98      0.97       921\n",
            "           1       0.98      0.95      0.97       959\n",
            "\n",
            "    accuracy                           0.97      1880\n",
            "   macro avg       0.97      0.97      0.97      1880\n",
            "weighted avg       0.97      0.97      0.97      1880\n",
            "\n",
            "Confusion Matrix: \n",
            "[[906  15]\n",
            " [ 45 914]]\n",
            "Accuracy of Logistic Regression Model: 0.97\n",
            "Precision score: 0.98\n",
            "Recall score: 0.95\n",
            "F1-score: 0.97\n"
          ]
        }
      ],
      "source": [
        "# FOR ONE-HOT ENCODED DATA\n",
        "print(f'Classification Report: \\n{classification_report(ohey_test, ohe_rf_pred)}')\n",
        "print(f'Confusion Matrix: \\n{confusion_matrix(ohey_test, ohe_rf_pred)}')\n",
        "\n",
        "ohe_acc_rf = accuracy_score(ohey_test, ohe_rf_pred)\n",
        "\n",
        "print(f'Accuracy of Logistic Regression Model: {ohe_acc_rf:.2f}')\n",
        "\n",
        "ohe_prec_rf = precision_score(ohey_test, ohe_rf_pred)\n",
        "ohe_rec_rf = recall_score(ohey_test, ohe_rf_pred)\n",
        "ohe_f1_rf = f1_score(ohey_test, ohe_rf_pred)\n",
        "\n",
        "print(f'Precision score: {ohe_prec_rf:.2f}')\n",
        "print(f'Recall score: {ohe_rec_rf:.2f}')\n",
        "print(f'F1-score: {ohe_f1_rf:.2f}')"
      ]
    },
    {
      "cell_type": "markdown",
      "metadata": {
        "id": "rBzvd1tnKb0u"
      },
      "source": [
        "## Performance Accross Models\n",
        "- Comparison among precision, recall and f1-score"
      ]
    },
    {
      "cell_type": "code",
      "execution_count": null,
      "metadata": {
        "id": "pnXgtAc_Kb0v",
        "outputId": "0e7e6b35-1081-4411-bacf-e368e0e20a26"
      },
      "outputs": [
        {
          "data": {
            "image/png": "[encoded data removed]",
            "text/plain": [
              "<Figure size 720x576 with 1 Axes>"
            ]
          },
          "metadata": {
            "needs_background": "light"
          },
          "output_type": "display_data"
        }
      ],
      "source": [
        "# FOR LABEL ENCODED DATA\n",
        "models = ['LR', 'SVM', 'KNN', 'GNB', 'DT', 'RF']\n",
        "\n",
        "le_precisions = [le_prec_log, le_prec_svm, le_prec_knn, le_prec_gnb, le_prec_dt, le_prec_rf]\n",
        "le_recalls = [le_rec_log, le_rec_svm, le_rec_knn, le_rec_gnb, le_rec_dt, le_rec_rf]\n",
        "le_f1s = [le_f1_log, le_f1_svm, le_f1_knn, le_f1_gnb, le_f1_dt, le_f1_rf]\n",
        "\n",
        "def autolabel(bars):\n",
        "    \"\"\"Attach a text label above each bar in displaying its height.\"\"\"\n",
        "    for bar in bars:\n",
        "        height = bar.get_height()\n",
        "        ax.annotate('{:.2f}'.format(height),\n",
        "                    xy=(bar.get_x() + bar.get_width() / 2, height),\n",
        "                    xytext=(0, 5),  # 3 points vertical offset\n",
        "                    textcoords=\"offset points\",\n",
        "                    fontsize=12,\n",
        "                    rotation=90,\n",
        "                    ha='center', va='bottom')\n",
        "\n",
        "width = 0.30  \n",
        "\n",
        "x_indices = np.arange(len(models)) \n",
        "x_indices2 = [x + width for x in x_indices]\n",
        "x_indices3 = [x + width for x in x_indices2]\n",
        "\n",
        "fig, ax = plt.subplots(figsize=(10,8))\n",
        "bar1 = ax.bar(x_indices, le_precisions, width, label='Precision')\n",
        "bar2 = ax.bar(x_indices2, le_recalls, width, label='Recall')\n",
        "bar3 = ax.bar(x_indices3, le_f1s, width, label='F1')\n",
        "\n",
        "ax.set_ylim([0, 1.1])\n",
        "ax.set_ylabel('Scores', fontsize=14)\n",
        "ax.set_xticks(x_indices2)\n",
        "ax.set_xticklabels(models)\n",
        "ax.tick_params(axis='both', which='major', labelsize=12)\n",
        "ax.set_xlabel(\"Models\", fontsize=14)\n",
        "ax.legend(loc='lower left', ncol=3, bbox_to_anchor=(0.25,1), fontsize=12)\n",
        "autolabel(bar1)\n",
        "autolabel(bar2)\n",
        "autolabel(bar3)\n",
        "fig.tight_layout()\n",
        "plt.show()"
      ]
    },
    {
      "cell_type": "code",
      "execution_count": null,
      "metadata": {
        "id": "3jdWGbl8Kb0v",
        "outputId": "2e087850-1731-4e46-b240-2351a79fa0c8"
      },
      "outputs": [
        {
          "data": {
            "image/png": "[encoded data removed]",
            "text/plain": [
              "<Figure size 720x576 with 1 Axes>"
            ]
          },
          "metadata": {
            "needs_background": "light"
          },
          "output_type": "display_data"
        }
      ],
      "source": [
        "# FOR ONE-HOT ENCODED DATA\n",
        "models = ['LR', 'SVM', 'KNN', 'GNB', 'DT', 'RF']\n",
        "\n",
        "ohe_precisions = [ohe_prec_log, ohe_prec_svm, ohe_prec_knn, ohe_prec_gnb, ohe_prec_dt, ohe_prec_rf]\n",
        "ohe_recalls = [ohe_rec_log, ohe_rec_svm, ohe_rec_knn, ohe_rec_gnb, ohe_rec_dt, ohe_rec_rf]\n",
        "ohe_f1s = [ohe_f1_log, ohe_f1_svm, ohe_f1_knn, ohe_f1_gnb, ohe_f1_dt, ohe_f1_rf]\n",
        "\n",
        "def autolabel(bars):\n",
        "    \"\"\"Attach a text label above each bar in displaying its height.\"\"\"\n",
        "    for bar in bars:\n",
        "        height = bar.get_height()\n",
        "        ax.annotate('{:.2f}'.format(height),\n",
        "                    xy=(bar.get_x() + bar.get_width() / 2, height),\n",
        "                    xytext=(0, 5),  # 3 points vertical offset\n",
        "                    textcoords=\"offset points\",\n",
        "                    fontsize=12,\n",
        "                    rotation=90,\n",
        "                    ha='center', va='bottom')\n",
        "\n",
        "width = 0.30  \n",
        "\n",
        "x_indices = np.arange(len(models)) \n",
        "x_indices2 = [x + width for x in x_indices]\n",
        "x_indices3 = [x + width for x in x_indices2]\n",
        "\n",
        "fig, ax = plt.subplots(figsize=(10,8))\n",
        "bar1 = ax.bar(x_indices, ohe_precisions, width, label='Precision')\n",
        "bar2 = ax.bar(x_indices2, ohe_recalls, width, label='Recall')\n",
        "bar3 = ax.bar(x_indices3, ohe_f1s, width, label='F1')\n",
        "\n",
        "ax.set_ylim([0, 1.1])\n",
        "ax.set_ylabel('Scores', fontsize=14)\n",
        "ax.set_xticks(x_indices2)\n",
        "ax.set_xticklabels(models)\n",
        "ax.tick_params(axis='both', which='major', labelsize=12)\n",
        "ax.set_xlabel(\"Models\", fontsize=14)\n",
        "ax.legend(loc='lower left', ncol=3, bbox_to_anchor=(0.25,1), fontsize=12)\n",
        "autolabel(bar1)\n",
        "autolabel(bar2)\n",
        "autolabel(bar3)\n",
        "fig.tight_layout()\n",
        "plt.show()"
      ]
    },
    {
      "cell_type": "markdown",
      "metadata": {
        "id": "Gm-jW9izKb0v"
      },
      "source": [
        "- Accuracy comparison among all the models"
      ]
    },
    {
      "cell_type": "code",
      "execution_count": null,
      "metadata": {
        "id": "WFnNIE2CKb0v",
        "outputId": "6495238c-cb10-4af4-937d-e6a6106acf2c"
      },
      "outputs": [
        {
          "data": {
            "image/png": "[encoded data removed]",
            "text/plain": [
              "<Figure size 720x576 with 1 Axes>"
            ]
          },
          "metadata": {
            "needs_background": "light"
          },
          "output_type": "display_data"
        }
      ],
      "source": [
        "# Accuracy Bar Chart\n",
        "models = ['LR', 'SVM', 'KNN', 'GNB', 'DT', 'RF']\n",
        "\n",
        "le_accuracy_scores = [le_acc_log, le_acc_svm, le_acc_knn, le_acc_gnb, le_acc_dt, le_acc_rf]\n",
        "ohe_accuracy_scores = [ohe_acc_log, ohe_acc_svm, ohe_acc_knn, ohe_acc_gnb, ohe_acc_dt, ohe_acc_rf]\n",
        "\n",
        "def autolabel(bars):\n",
        "    \"\"\"Attach a text label above each bar in displaying its height.\"\"\"\n",
        "    for bar in bars:\n",
        "        height = bar.get_height()\n",
        "        ax.annotate('{:.2f}'.format(height),\n",
        "                    xy=(bar.get_x() + bar.get_width() / 2, height),\n",
        "                    xytext=(0, 5),  # 3 points vertical offset\n",
        "                    textcoords=\"offset points\",\n",
        "                    fontsize=12,\n",
        "                    rotation=90,\n",
        "                    ha='center', va='bottom')\n",
        "\n",
        "        \n",
        "width = 0.30  \n",
        "\n",
        "x_indices = np.arange(len(models)) \n",
        "x_indices2 = [x + width for x in x_indices]\n",
        "\n",
        "fig, ax = plt.subplots(figsize=(10,8))\n",
        "bar1 = ax.bar(x_indices, le_accuracy_scores, width, label='Label Encoded Data')\n",
        "bar2 = ax.bar(x_indices2, ohe_accuracy_scores, width, label='One-Hot Encoded Data')\n",
        "\n",
        "ax.set_ylim([0, 1.1])\n",
        "ax.set_ylabel('Scores', fontsize=14)\n",
        "ax.set_xticks(x_indices+(width/2))\n",
        "ax.set_xticklabels(models)\n",
        "ax.tick_params(axis='both', which='major', labelsize=12)\n",
        "ax.set_xlabel(\"Models\", fontsize=14)\n",
        "ax.legend(loc='lower left', ncol=3, bbox_to_anchor=(0.25,1), fontsize=12)\n",
        "autolabel(bar1)\n",
        "autolabel(bar2)\n",
        "fig.tight_layout()\n",
        "plt.show()"
      ]
    },
    {
      "cell_type": "markdown",
      "metadata": {
        "id": "VPjfcqWjKb0v"
      },
      "source": [
        "## Findings\n",
        "- The lowest correlated feature is **work-type** and the highest one is **age**. Morever, **hypertension, heart disease annd avg. glucose level** also showed some correlation.\n",
        "- In the dataset, there were $201$ rows in the **bmi** columns that had **NaN** values which were discarded as the number of rows are neglible compared to the size of the whole dataset.\n",
        "- The dataset is a highly imbalanced dataset consisting only $4.3\\%$ of stroke cases. Hence, there is a possibility of getting a biased model. In fact, primary experimentation showed a biased output of recall $0.0$ for stroke cases which is not useful. Therefore, oversampling was used to balance the dataset.\n",
        "- From the accuracy bar chart, it is seen that some models performed better for label encoded data and some model performed better for one-hot encoded data. However, the highest accuracy was obtained from **random forest** model for label encoded as well as one-hot encoded data which was expected as this is an ensemble learning method."
      ]
    },
    {
      "cell_type": "code",
      "execution_count": null,
      "metadata": {
        "id": "-l6rjOhzKb0w"
      },
      "outputs": [],
      "source": [
        "# FOR SINGLE CLASSIFIER\n",
        "\n",
        "# models = ['LR', 'SVM', 'KNN', 'GNB', 'DT', 'RF']\n",
        "\n",
        "# accuracy_scores = [le_acc_log, le_acc_svm, le_acc_knn, le_acc_gnb, le_acc_dt, le_acc_rf]\n",
        "\n",
        "# fig, ax = plt.subplots(figsize=(10,8))\n",
        "# ax.bar(models, accuracy_scores, color='#AA0C6B')\n",
        "\n",
        "# for idx, value in enumerate(accuracy_scores):\n",
        "#     plt.text(idx-0.1, value+0.01, s=f\"{value:.2f}\", fontsize='x-large')\n",
        "\n",
        "# plt.title('Accuracy of All Models')\n",
        "# plt.xlabel('Models')\n",
        "# plt.ylabel('Accuracy (%)')\n",
        "# plt.tight_layout()\n",
        "# plt.show()"
      ]
    }
  ],
  "metadata": {
    "kernelspec": {
      "display_name": "Python 3",
      "language": "python",
      "name": "python3"
    },
    "language_info": {
      "codemirror_mode": {
        "name": "ipython",
        "version": 3
      },
      "file_extension": ".py",
      "mimetype": "text/x-python",
      "name": "python",
      "nbconvert_exporter": "python",
      "pygments_lexer": "ipython3",
      "version": "3.8.5"
    },
    "colab": {
      "name": "1608012_ETE 456_R02.ipynb",
      "provenance": [],
      "collapsed_sections": [
        "K7L9DoZ0Kb0n",
        "DfRDEtHjKb0n",
        "LpWa6hxEKb0o",
        "jYRE-THHKb0o",
        "wRbhBA9sKb0o",
        "wyDJVKEWKb0p",
        "hm9PXEYmKb0q",
        "9h7UZC3MKb0r",
        "ZlVrLxeGKb0s",
        "R7jy3Iw-Kb0t",
        "rBzvd1tnKb0u",
        "VPjfcqWjKb0v"
      ],
      "include_colab_link": true
    }
  },
  "nbformat": 4,
  "nbformat_minor": 0
}