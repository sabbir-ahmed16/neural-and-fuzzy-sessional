{
  "cells": [
    {
      "cell_type": "markdown",
      "metadata": {
        "id": "view-in-github",
        "colab_type": "text"
      },
      "source": [
        "<a href=\"https://colab.research.google.com/github/sabbir-ahmed16/neural-and-fuzzy-sessional/blob/main/1608012_ETE_456_R03.ipynb\" target=\"_parent\"><img src=\"https://colab.research.google.com/assets/colab-badge.svg\" alt=\"Open In Colab\"/></a>"
      ]
    },
    {
      "cell_type": "markdown",
      "id": "2fd8afed",
      "metadata": {
        "id": "2fd8afed"
      },
      "source": [
        "# Problem Statement\n",
        "- To predict diabetes from patient information using different ML algorithms and neural networks"
      ]
    },
    {
      "cell_type": "markdown",
      "id": "00282f9c",
      "metadata": {
        "id": "00282f9c"
      },
      "source": [
        "## Objectives\n",
        "- To perform classification using deep neural network.\n",
        "- To get familiar with tensorflow and keras frameworks."
      ]
    },
    {
      "cell_type": "markdown",
      "id": "3a09555e",
      "metadata": {
        "id": "3a09555e"
      },
      "source": [
        "## Importing libraries"
      ]
    },
    {
      "cell_type": "code",
      "execution_count": null,
      "id": "43059730",
      "metadata": {
        "id": "43059730"
      },
      "outputs": [],
      "source": [
        "import numpy as np\n",
        "import pandas as pd\n",
        "import matplotlib.pyplot as plt"
      ]
    },
    {
      "cell_type": "markdown",
      "id": "8392279a",
      "metadata": {
        "id": "8392279a"
      },
      "source": [
        "## Importing and Reading the Dataset"
      ]
    },
    {
      "cell_type": "code",
      "execution_count": null,
      "id": "418bac41",
      "metadata": {
        "id": "418bac41"
      },
      "outputs": [],
      "source": [
        "dataset = pd.read_csv(\"https://www.dropbox.com/s/sglreynnyx40pb6/diabetes.csv?dl=1\")"
      ]
    },
    {
      "cell_type": "code",
      "execution_count": null,
      "id": "db71f90c",
      "metadata": {
        "id": "db71f90c",
        "outputId": "b02a8fc3-eaec-4ac0-d271-cb0b91fc3ced"
      },
      "outputs": [
        {
          "data": {
            "text/html": [
              "<div>\n",
              "<style scoped>\n",
              "    .dataframe tbody tr th:only-of-type {\n",
              "        vertical-align: middle;\n",
              "    }\n",
              "\n",
              "    .dataframe tbody tr th {\n",
              "        vertical-align: top;\n",
              "    }\n",
              "\n",
              "    .dataframe thead th {\n",
              "        text-align: right;\n",
              "    }\n",
              "</style>\n",
              "<table border=\"1\" class=\"dataframe\">\n",
              "  <thead>\n",
              "    <tr style=\"text-align: right;\">\n",
              "      <th></th>\n",
              "      <th>Pregnancies</th>\n",
              "      <th>Glucose</th>\n",
              "      <th>BloodPressure</th>\n",
              "      <th>SkinThickness</th>\n",
              "      <th>Insulin</th>\n",
              "      <th>BMI</th>\n",
              "      <th>DiabetesPedigreeFunction</th>\n",
              "      <th>Age</th>\n",
              "      <th>Outcome</th>\n",
              "    </tr>\n",
              "  </thead>\n",
              "  <tbody>\n",
              "    <tr>\n",
              "      <th>0</th>\n",
              "      <td>6</td>\n",
              "      <td>148</td>\n",
              "      <td>72</td>\n",
              "      <td>35</td>\n",
              "      <td>0</td>\n",
              "      <td>33.6</td>\n",
              "      <td>0.627</td>\n",
              "      <td>50</td>\n",
              "      <td>1</td>\n",
              "    </tr>\n",
              "    <tr>\n",
              "      <th>1</th>\n",
              "      <td>1</td>\n",
              "      <td>85</td>\n",
              "      <td>66</td>\n",
              "      <td>29</td>\n",
              "      <td>0</td>\n",
              "      <td>26.6</td>\n",
              "      <td>0.351</td>\n",
              "      <td>31</td>\n",
              "      <td>0</td>\n",
              "    </tr>\n",
              "    <tr>\n",
              "      <th>2</th>\n",
              "      <td>8</td>\n",
              "      <td>183</td>\n",
              "      <td>64</td>\n",
              "      <td>0</td>\n",
              "      <td>0</td>\n",
              "      <td>23.3</td>\n",
              "      <td>0.672</td>\n",
              "      <td>32</td>\n",
              "      <td>1</td>\n",
              "    </tr>\n",
              "    <tr>\n",
              "      <th>3</th>\n",
              "      <td>1</td>\n",
              "      <td>89</td>\n",
              "      <td>66</td>\n",
              "      <td>23</td>\n",
              "      <td>94</td>\n",
              "      <td>28.1</td>\n",
              "      <td>0.167</td>\n",
              "      <td>21</td>\n",
              "      <td>0</td>\n",
              "    </tr>\n",
              "    <tr>\n",
              "      <th>4</th>\n",
              "      <td>0</td>\n",
              "      <td>137</td>\n",
              "      <td>40</td>\n",
              "      <td>35</td>\n",
              "      <td>168</td>\n",
              "      <td>43.1</td>\n",
              "      <td>2.288</td>\n",
              "      <td>33</td>\n",
              "      <td>1</td>\n",
              "    </tr>\n",
              "  </tbody>\n",
              "</table>\n",
              "</div>"
            ],
            "text/plain": [
              "   Pregnancies  Glucose  BloodPressure  SkinThickness  Insulin   BMI  \\\n",
              "0            6      148             72             35        0  33.6   \n",
              "1            1       85             66             29        0  26.6   \n",
              "2            8      183             64              0        0  23.3   \n",
              "3            1       89             66             23       94  28.1   \n",
              "4            0      137             40             35      168  43.1   \n",
              "\n",
              "   DiabetesPedigreeFunction  Age  Outcome  \n",
              "0                     0.627   50        1  \n",
              "1                     0.351   31        0  \n",
              "2                     0.672   32        1  \n",
              "3                     0.167   21        0  \n",
              "4                     2.288   33        1  "
            ]
          },
          "execution_count": 3,
          "metadata": {},
          "output_type": "execute_result"
        }
      ],
      "source": [
        "dataset.head()"
      ]
    },
    {
      "cell_type": "code",
      "execution_count": null,
      "id": "ed16a909",
      "metadata": {
        "id": "ed16a909",
        "outputId": "1e7db4ca-fd73-4ba7-849f-9a63d52a0b2a"
      },
      "outputs": [
        {
          "data": {
            "text/html": [
              "<div>\n",
              "<style scoped>\n",
              "    .dataframe tbody tr th:only-of-type {\n",
              "        vertical-align: middle;\n",
              "    }\n",
              "\n",
              "    .dataframe tbody tr th {\n",
              "        vertical-align: top;\n",
              "    }\n",
              "\n",
              "    .dataframe thead th {\n",
              "        text-align: right;\n",
              "    }\n",
              "</style>\n",
              "<table border=\"1\" class=\"dataframe\">\n",
              "  <thead>\n",
              "    <tr style=\"text-align: right;\">\n",
              "      <th></th>\n",
              "      <th>Pregnancies</th>\n",
              "      <th>Glucose</th>\n",
              "      <th>BloodPressure</th>\n",
              "      <th>SkinThickness</th>\n",
              "      <th>Insulin</th>\n",
              "      <th>BMI</th>\n",
              "      <th>DiabetesPedigreeFunction</th>\n",
              "      <th>Age</th>\n",
              "      <th>Outcome</th>\n",
              "    </tr>\n",
              "  </thead>\n",
              "  <tbody>\n",
              "    <tr>\n",
              "      <th>count</th>\n",
              "      <td>768.000000</td>\n",
              "      <td>768.000000</td>\n",
              "      <td>768.000000</td>\n",
              "      <td>768.000000</td>\n",
              "      <td>768.000000</td>\n",
              "      <td>768.000000</td>\n",
              "      <td>768.000000</td>\n",
              "      <td>768.000000</td>\n",
              "      <td>768.000000</td>\n",
              "    </tr>\n",
              "    <tr>\n",
              "      <th>mean</th>\n",
              "      <td>3.845052</td>\n",
              "      <td>120.894531</td>\n",
              "      <td>69.105469</td>\n",
              "      <td>20.536458</td>\n",
              "      <td>79.799479</td>\n",
              "      <td>31.992578</td>\n",
              "      <td>0.471876</td>\n",
              "      <td>33.240885</td>\n",
              "      <td>0.348958</td>\n",
              "    </tr>\n",
              "    <tr>\n",
              "      <th>std</th>\n",
              "      <td>3.369578</td>\n",
              "      <td>31.972618</td>\n",
              "      <td>19.355807</td>\n",
              "      <td>15.952218</td>\n",
              "      <td>115.244002</td>\n",
              "      <td>7.884160</td>\n",
              "      <td>0.331329</td>\n",
              "      <td>11.760232</td>\n",
              "      <td>0.476951</td>\n",
              "    </tr>\n",
              "    <tr>\n",
              "      <th>min</th>\n",
              "      <td>0.000000</td>\n",
              "      <td>0.000000</td>\n",
              "      <td>0.000000</td>\n",
              "      <td>0.000000</td>\n",
              "      <td>0.000000</td>\n",
              "      <td>0.000000</td>\n",
              "      <td>0.078000</td>\n",
              "      <td>21.000000</td>\n",
              "      <td>0.000000</td>\n",
              "    </tr>\n",
              "    <tr>\n",
              "      <th>25%</th>\n",
              "      <td>1.000000</td>\n",
              "      <td>99.000000</td>\n",
              "      <td>62.000000</td>\n",
              "      <td>0.000000</td>\n",
              "      <td>0.000000</td>\n",
              "      <td>27.300000</td>\n",
              "      <td>0.243750</td>\n",
              "      <td>24.000000</td>\n",
              "      <td>0.000000</td>\n",
              "    </tr>\n",
              "    <tr>\n",
              "      <th>50%</th>\n",
              "      <td>3.000000</td>\n",
              "      <td>117.000000</td>\n",
              "      <td>72.000000</td>\n",
              "      <td>23.000000</td>\n",
              "      <td>30.500000</td>\n",
              "      <td>32.000000</td>\n",
              "      <td>0.372500</td>\n",
              "      <td>29.000000</td>\n",
              "      <td>0.000000</td>\n",
              "    </tr>\n",
              "    <tr>\n",
              "      <th>75%</th>\n",
              "      <td>6.000000</td>\n",
              "      <td>140.250000</td>\n",
              "      <td>80.000000</td>\n",
              "      <td>32.000000</td>\n",
              "      <td>127.250000</td>\n",
              "      <td>36.600000</td>\n",
              "      <td>0.626250</td>\n",
              "      <td>41.000000</td>\n",
              "      <td>1.000000</td>\n",
              "    </tr>\n",
              "    <tr>\n",
              "      <th>max</th>\n",
              "      <td>17.000000</td>\n",
              "      <td>199.000000</td>\n",
              "      <td>122.000000</td>\n",
              "      <td>99.000000</td>\n",
              "      <td>846.000000</td>\n",
              "      <td>67.100000</td>\n",
              "      <td>2.420000</td>\n",
              "      <td>81.000000</td>\n",
              "      <td>1.000000</td>\n",
              "    </tr>\n",
              "  </tbody>\n",
              "</table>\n",
              "</div>"
            ],
            "text/plain": [
              "       Pregnancies     Glucose  BloodPressure  SkinThickness     Insulin  \\\n",
              "count   768.000000  768.000000     768.000000     768.000000  768.000000   \n",
              "mean      3.845052  120.894531      69.105469      20.536458   79.799479   \n",
              "std       3.369578   31.972618      19.355807      15.952218  115.244002   \n",
              "min       0.000000    0.000000       0.000000       0.000000    0.000000   \n",
              "25%       1.000000   99.000000      62.000000       0.000000    0.000000   \n",
              "50%       3.000000  117.000000      72.000000      23.000000   30.500000   \n",
              "75%       6.000000  140.250000      80.000000      32.000000  127.250000   \n",
              "max      17.000000  199.000000     122.000000      99.000000  846.000000   \n",
              "\n",
              "              BMI  DiabetesPedigreeFunction         Age     Outcome  \n",
              "count  768.000000                768.000000  768.000000  768.000000  \n",
              "mean    31.992578                  0.471876   33.240885    0.348958  \n",
              "std      7.884160                  0.331329   11.760232    0.476951  \n",
              "min      0.000000                  0.078000   21.000000    0.000000  \n",
              "25%     27.300000                  0.243750   24.000000    0.000000  \n",
              "50%     32.000000                  0.372500   29.000000    0.000000  \n",
              "75%     36.600000                  0.626250   41.000000    1.000000  \n",
              "max     67.100000                  2.420000   81.000000    1.000000  "
            ]
          },
          "execution_count": 4,
          "metadata": {},
          "output_type": "execute_result"
        }
      ],
      "source": [
        "dataset.describe()"
      ]
    },
    {
      "cell_type": "code",
      "execution_count": null,
      "id": "f873e7df",
      "metadata": {
        "id": "f873e7df",
        "outputId": "b3ff1488-4ae9-4b36-ee8b-cedb6787f5b7"
      },
      "outputs": [
        {
          "data": {
            "text/plain": [
              "Pregnancies                 False\n",
              "Glucose                     False\n",
              "BloodPressure               False\n",
              "SkinThickness               False\n",
              "Insulin                     False\n",
              "BMI                         False\n",
              "DiabetesPedigreeFunction    False\n",
              "Age                         False\n",
              "Outcome                     False\n",
              "dtype: bool"
            ]
          },
          "execution_count": 5,
          "metadata": {},
          "output_type": "execute_result"
        }
      ],
      "source": [
        "dataset.isnull().any()"
      ]
    },
    {
      "cell_type": "code",
      "execution_count": null,
      "id": "5a919aa5",
      "metadata": {
        "id": "5a919aa5",
        "outputId": "2c6ff644-7cfe-4658-f492-889150de23e2"
      },
      "outputs": [
        {
          "data": {
            "text/plain": [
              "Pregnancies                 0\n",
              "Glucose                     0\n",
              "BloodPressure               0\n",
              "SkinThickness               0\n",
              "Insulin                     0\n",
              "BMI                         0\n",
              "DiabetesPedigreeFunction    0\n",
              "Age                         0\n",
              "Outcome                     0\n",
              "dtype: int64"
            ]
          },
          "execution_count": 6,
          "metadata": {},
          "output_type": "execute_result"
        }
      ],
      "source": [
        "dataset.isnull().sum()"
      ]
    },
    {
      "cell_type": "code",
      "execution_count": null,
      "id": "1d50772f",
      "metadata": {
        "id": "1d50772f",
        "outputId": "33725a64-36ee-4121-c8f7-6c0704bacc9c"
      },
      "outputs": [
        {
          "data": {
            "text/plain": [
              "(768, 9)"
            ]
          },
          "execution_count": 7,
          "metadata": {},
          "output_type": "execute_result"
        }
      ],
      "source": [
        "dataset.shape"
      ]
    },
    {
      "cell_type": "markdown",
      "id": "9b8e64f0",
      "metadata": {
        "id": "9b8e64f0"
      },
      "source": [
        "- All the columns contain numerical values.\n",
        "- There are no rows containing `np.nan` values. Hence there is no missing values to be handled."
      ]
    },
    {
      "cell_type": "markdown",
      "id": "4caa4778",
      "metadata": {
        "id": "4caa4778"
      },
      "source": [
        "#### Separating features and target columns"
      ]
    },
    {
      "cell_type": "code",
      "execution_count": null,
      "id": "51155fbd",
      "metadata": {
        "id": "51155fbd"
      },
      "outputs": [],
      "source": [
        "features = dataset.drop(['Outcome'], axis=1)\n",
        "target = dataset[['Outcome']]"
      ]
    },
    {
      "cell_type": "code",
      "execution_count": null,
      "id": "5750a290",
      "metadata": {
        "id": "5750a290",
        "outputId": "362c1de4-6b99-4a21-b70a-a1caea0376cd"
      },
      "outputs": [
        {
          "data": {
            "image/png": "[encoded data removed]",
            "text/plain": [
              "<Figure size 432x288 with 1 Axes>"
            ]
          },
          "metadata": {},
          "output_type": "display_data"
        },
        {
          "name": "stdout",
          "output_type": "stream",
          "text": [
            "Number of no diabetes cases: 500\n",
            "Number of diabetes cases: 268\n"
          ]
        }
      ],
      "source": [
        "# Target class distribution\n",
        "classes = dataset['Outcome'].value_counts()\n",
        "class_labels = ['No Diabetes', 'Diabetes']\n",
        "\n",
        "plt.pie(classes, labels=class_labels, shadow=True, autopct='%1.1f%%', startangle=0)\n",
        "plt.plot('Target Class Distribution')\n",
        "plt.show()\n",
        "\n",
        "print(f'Number of no diabetes cases: {classes[0]}')\n",
        "print(f'Number of diabetes cases: {classes[1]}')"
      ]
    },
    {
      "cell_type": "markdown",
      "id": "4ba5f1b2",
      "metadata": {
        "id": "4ba5f1b2"
      },
      "source": [
        "**Though the number of diabetes and no diabetes are not same. Number of diabetes cases are not neglible too. Hence, resampling to achieve balanced dataset is not performed**"
      ]
    },
    {
      "cell_type": "code",
      "execution_count": null,
      "id": "77fc83e5",
      "metadata": {
        "id": "77fc83e5"
      },
      "outputs": [],
      "source": [
        "import klib"
      ]
    },
    {
      "cell_type": "code",
      "execution_count": null,
      "id": "097a7d06",
      "metadata": {
        "id": "097a7d06",
        "outputId": "8198b593-5cb7-43ea-8f50-fed1e39fc718"
      },
      "outputs": [
        {
          "data": {
            "text/plain": [
              "<AxesSubplot:title={'center':'Feature-correlation (pearson)'}>"
            ]
          },
          "execution_count": 11,
          "metadata": {},
          "output_type": "execute_result"
        },
        {
          "data": {
            "image/png": "[encoded data removed]",
            "text/plain": [
              "<Figure size 864x720 with 2 Axes>"
            ]
          },
          "metadata": {
            "needs_background": "light"
          },
          "output_type": "display_data"
        }
      ],
      "source": [
        "klib.corr_plot(dataset)"
      ]
    },
    {
      "cell_type": "markdown",
      "id": "1e017806",
      "metadata": {
        "id": "1e017806"
      },
      "source": [
        "- The highest correlated feature is **Glucose** having score $0.47$ and the lowest correlated features are **Blood Pressure** and **Skin Thickness**."
      ]
    },
    {
      "cell_type": "markdown",
      "id": "96ace464",
      "metadata": {
        "id": "96ace464"
      },
      "source": [
        "<font color='green'>***As there is no categorical column, encoding is not necessary***</font>"
      ]
    },
    {
      "cell_type": "markdown",
      "id": "59065a15",
      "metadata": {
        "id": "59065a15"
      },
      "source": [
        "## Splitting the Dataset"
      ]
    },
    {
      "cell_type": "code",
      "execution_count": null,
      "id": "d0314b7d",
      "metadata": {
        "id": "d0314b7d"
      },
      "outputs": [],
      "source": [
        "from sklearn.model_selection import train_test_split"
      ]
    },
    {
      "cell_type": "code",
      "execution_count": null,
      "id": "3e0129d7",
      "metadata": {
        "id": "3e0129d7",
        "outputId": "42e0d2f5-69c7-482d-a2c6-4e653a6ce8b0"
      },
      "outputs": [
        {
          "name": "stdout",
          "output_type": "stream",
          "text": [
            "(652, 8)\n",
            "(116, 8)\n"
          ]
        }
      ],
      "source": [
        "X_train, X_test, y_train, y_test = train_test_split(features, target, test_size=0.15, random_state=4)\n",
        "\n",
        "print(X_train.shape)\n",
        "print(X_test.shape)"
      ]
    },
    {
      "cell_type": "markdown",
      "id": "1a33f7f3",
      "metadata": {
        "id": "1a33f7f3"
      },
      "source": [
        "## Feature Scaling"
      ]
    },
    {
      "cell_type": "code",
      "execution_count": null,
      "id": "1027bc2f",
      "metadata": {
        "id": "1027bc2f"
      },
      "outputs": [],
      "source": [
        "from sklearn.preprocessing import StandardScaler"
      ]
    },
    {
      "cell_type": "code",
      "execution_count": null,
      "id": "537ebbd0",
      "metadata": {
        "id": "537ebbd0"
      },
      "outputs": [],
      "source": [
        "scaler = StandardScaler()\n",
        "\n",
        "X_train = scaler.fit_transform(X_train)\n",
        "X_test = scaler.transform(X_test)"
      ]
    },
    {
      "cell_type": "markdown",
      "id": "27027804",
      "metadata": {
        "id": "27027804"
      },
      "source": [
        "## Building Neural Network"
      ]
    },
    {
      "cell_type": "code",
      "execution_count": null,
      "id": "731c3e74",
      "metadata": {
        "id": "731c3e74"
      },
      "outputs": [],
      "source": [
        "import tensorflow as tf\n",
        "from tensorflow.keras import Sequential\n",
        "from tensorflow.keras.layers import Dense"
      ]
    },
    {
      "cell_type": "code",
      "execution_count": null,
      "id": "4544e3fd",
      "metadata": {
        "id": "4544e3fd"
      },
      "outputs": [],
      "source": [
        "model = Sequential()\n",
        "model.add(Dense(12, input_dim=8, activation='relu'))\n",
        "model.add(Dense(8, activation='relu'))\n",
        "model.add(Dense(2, activation='relu'))\n",
        "model.add(Dense(1, activation='sigmoid'))"
      ]
    },
    {
      "cell_type": "code",
      "execution_count": null,
      "id": "6bfc9da0",
      "metadata": {
        "id": "6bfc9da0",
        "outputId": "988faf5d-d594-4dbd-c7d8-08f36e5eeb74"
      },
      "outputs": [
        {
          "name": "stdout",
          "output_type": "stream",
          "text": [
            "Model: \"sequential\"\n",
            "_________________________________________________________________\n",
            "Layer (type)                 Output Shape              Param #   \n",
            "=================================================================\n",
            "dense (Dense)                (None, 12)                108       \n",
            "_________________________________________________________________\n",
            "dense_1 (Dense)              (None, 8)                 104       \n",
            "_________________________________________________________________\n",
            "dense_2 (Dense)              (None, 2)                 18        \n",
            "_________________________________________________________________\n",
            "dense_3 (Dense)              (None, 1)                 3         \n",
            "=================================================================\n",
            "Total params: 233\n",
            "Trainable params: 233\n",
            "Non-trainable params: 0\n",
            "_________________________________________________________________\n"
          ]
        }
      ],
      "source": [
        "model.summary()"
      ]
    },
    {
      "cell_type": "markdown",
      "id": "18d6f726",
      "metadata": {
        "id": "18d6f726"
      },
      "source": [
        "### Compiling the Model (Adam Optimizer)"
      ]
    },
    {
      "cell_type": "code",
      "execution_count": null,
      "id": "a6beebd7",
      "metadata": {
        "id": "a6beebd7"
      },
      "outputs": [],
      "source": [
        "model.compile(loss='binary_crossentropy', optimizer='adam', metrics=['accuracy'])"
      ]
    },
    {
      "cell_type": "markdown",
      "id": "17019b88",
      "metadata": {
        "id": "17019b88"
      },
      "source": [
        "### Training the Model"
      ]
    },
    {
      "cell_type": "code",
      "execution_count": null,
      "id": "bc2e149f",
      "metadata": {
        "id": "bc2e149f",
        "outputId": "d3ea5bd1-b11b-4c93-958e-feb7ac960214"
      },
      "outputs": [
        {
          "name": "stdout",
          "output_type": "stream",
          "text": [
            "Epoch 1/100\n",
            "19/19 [==============================] - 2s 69ms/step - loss: 0.6856 - accuracy: 0.6321 - val_loss: 0.6817 - val_accuracy: 0.6515\n",
            "Epoch 2/100\n",
            "19/19 [==============================] - 0s 8ms/step - loss: 0.6694 - accuracy: 0.6441 - val_loss: 0.6599 - val_accuracy: 0.6515\n",
            "Epoch 3/100\n",
            "19/19 [==============================] - 0s 8ms/step - loss: 0.6290 - accuracy: 0.6703 - val_loss: 0.6403 - val_accuracy: 0.6515\n",
            "Epoch 4/100\n",
            "19/19 [==============================] - 0s 9ms/step - loss: 0.6089 - accuracy: 0.6524 - val_loss: 0.6258 - val_accuracy: 0.6515\n",
            "Epoch 5/100\n",
            "19/19 [==============================] - 0s 9ms/step - loss: 0.6014 - accuracy: 0.6452 - val_loss: 0.6123 - val_accuracy: 0.6515\n",
            "Epoch 6/100\n",
            "19/19 [==============================] - 0s 9ms/step - loss: 0.5705 - accuracy: 0.6491 - val_loss: 0.6036 - val_accuracy: 0.6515\n",
            "Epoch 7/100\n",
            "19/19 [==============================] - 0s 8ms/step - loss: 0.5692 - accuracy: 0.6569 - val_loss: 0.5978 - val_accuracy: 0.6515\n",
            "Epoch 8/100\n",
            "19/19 [==============================] - 0s 8ms/step - loss: 0.5502 - accuracy: 0.6476 - val_loss: 0.5924 - val_accuracy: 0.6515\n",
            "Epoch 9/100\n",
            "19/19 [==============================] - 0s 9ms/step - loss: 0.5487 - accuracy: 0.6625 - val_loss: 0.5885 - val_accuracy: 0.6515\n",
            "Epoch 10/100\n",
            "19/19 [==============================] - 0s 8ms/step - loss: 0.5285 - accuracy: 0.6552 - val_loss: 0.5845 - val_accuracy: 0.6515\n",
            "Epoch 11/100\n",
            "19/19 [==============================] - 0s 9ms/step - loss: 0.5193 - accuracy: 0.6427 - val_loss: 0.5809 - val_accuracy: 0.6515\n",
            "Epoch 12/100\n",
            "19/19 [==============================] - 0s 9ms/step - loss: 0.5148 - accuracy: 0.6535 - val_loss: 0.5785 - val_accuracy: 0.6667\n",
            "Epoch 13/100\n",
            "19/19 [==============================] - 0s 9ms/step - loss: 0.5095 - accuracy: 0.7151 - val_loss: 0.5777 - val_accuracy: 0.6667\n",
            "Epoch 14/100\n",
            "19/19 [==============================] - 0s 9ms/step - loss: 0.5085 - accuracy: 0.7221 - val_loss: 0.5750 - val_accuracy: 0.6364\n",
            "Epoch 15/100\n",
            "19/19 [==============================] - 0s 9ms/step - loss: 0.5207 - accuracy: 0.6959 - val_loss: 0.5730 - val_accuracy: 0.6061\n",
            "Epoch 16/100\n",
            "19/19 [==============================] - 0s 9ms/step - loss: 0.5008 - accuracy: 0.7215 - val_loss: 0.5727 - val_accuracy: 0.6212\n",
            "Epoch 17/100\n",
            "19/19 [==============================] - 0s 8ms/step - loss: 0.4868 - accuracy: 0.7459 - val_loss: 0.5722 - val_accuracy: 0.6667\n",
            "Epoch 18/100\n",
            "19/19 [==============================] - 0s 9ms/step - loss: 0.4978 - accuracy: 0.7229 - val_loss: 0.5692 - val_accuracy: 0.6667\n",
            "Epoch 19/100\n",
            "19/19 [==============================] - 0s 9ms/step - loss: 0.4939 - accuracy: 0.7371 - val_loss: 0.5670 - val_accuracy: 0.6515\n",
            "Epoch 20/100\n",
            "19/19 [==============================] - 0s 9ms/step - loss: 0.4703 - accuracy: 0.7760 - val_loss: 0.5656 - val_accuracy: 0.6667\n",
            "Epoch 21/100\n",
            "19/19 [==============================] - 0s 9ms/step - loss: 0.5018 - accuracy: 0.7442 - val_loss: 0.5628 - val_accuracy: 0.6970\n",
            "Epoch 22/100\n",
            "19/19 [==============================] - 0s 9ms/step - loss: 0.4707 - accuracy: 0.7847 - val_loss: 0.5615 - val_accuracy: 0.6970\n",
            "Epoch 23/100\n",
            "19/19 [==============================] - 0s 9ms/step - loss: 0.4840 - accuracy: 0.7619 - val_loss: 0.5605 - val_accuracy: 0.6818\n",
            "Epoch 24/100\n",
            "19/19 [==============================] - 0s 8ms/step - loss: 0.4835 - accuracy: 0.7466 - val_loss: 0.5595 - val_accuracy: 0.6818\n",
            "Epoch 25/100\n",
            "19/19 [==============================] - 0s 9ms/step - loss: 0.4866 - accuracy: 0.7664 - val_loss: 0.5578 - val_accuracy: 0.7121\n",
            "Epoch 26/100\n",
            "19/19 [==============================] - 0s 10ms/step - loss: 0.4638 - accuracy: 0.7870 - val_loss: 0.5586 - val_accuracy: 0.7273\n",
            "Epoch 27/100\n",
            "19/19 [==============================] - 0s 9ms/step - loss: 0.4651 - accuracy: 0.8015 - val_loss: 0.5589 - val_accuracy: 0.7273\n",
            "Epoch 28/100\n",
            "19/19 [==============================] - 0s 8ms/step - loss: 0.4820 - accuracy: 0.7850 - val_loss: 0.5577 - val_accuracy: 0.7273\n",
            "Epoch 29/100\n",
            "19/19 [==============================] - 0s 9ms/step - loss: 0.4557 - accuracy: 0.7852 - val_loss: 0.5571 - val_accuracy: 0.7273\n",
            "Epoch 30/100\n",
            "19/19 [==============================] - 0s 9ms/step - loss: 0.4638 - accuracy: 0.7760 - val_loss: 0.5583 - val_accuracy: 0.7121\n",
            "Epoch 31/100\n",
            "19/19 [==============================] - 0s 9ms/step - loss: 0.4620 - accuracy: 0.8082 - val_loss: 0.5607 - val_accuracy: 0.6818\n",
            "Epoch 32/100\n",
            "19/19 [==============================] - 0s 9ms/step - loss: 0.4761 - accuracy: 0.7824 - val_loss: 0.5601 - val_accuracy: 0.6818\n",
            "Epoch 33/100\n",
            "19/19 [==============================] - 0s 9ms/step - loss: 0.4449 - accuracy: 0.8165 - val_loss: 0.5598 - val_accuracy: 0.6818\n",
            "Epoch 34/100\n",
            "19/19 [==============================] - 0s 9ms/step - loss: 0.4405 - accuracy: 0.8036 - val_loss: 0.5591 - val_accuracy: 0.7121\n",
            "Epoch 35/100\n",
            "19/19 [==============================] - 0s 8ms/step - loss: 0.4398 - accuracy: 0.8179 - val_loss: 0.5607 - val_accuracy: 0.7121\n",
            "Epoch 36/100\n",
            "19/19 [==============================] - 0s 9ms/step - loss: 0.4390 - accuracy: 0.8121 - val_loss: 0.5618 - val_accuracy: 0.7121\n",
            "Epoch 37/100\n",
            "19/19 [==============================] - 0s 8ms/step - loss: 0.4333 - accuracy: 0.8202 - val_loss: 0.5612 - val_accuracy: 0.7121\n",
            "Epoch 38/100\n",
            "19/19 [==============================] - 0s 9ms/step - loss: 0.4551 - accuracy: 0.7971 - val_loss: 0.5608 - val_accuracy: 0.7121\n",
            "Epoch 39/100\n",
            "19/19 [==============================] - 0s 8ms/step - loss: 0.4328 - accuracy: 0.8246 - val_loss: 0.5605 - val_accuracy: 0.7121\n",
            "Epoch 40/100\n",
            "19/19 [==============================] - 0s 9ms/step - loss: 0.4682 - accuracy: 0.7902 - val_loss: 0.5614 - val_accuracy: 0.7121\n",
            "Epoch 41/100\n",
            "19/19 [==============================] - 0s 8ms/step - loss: 0.4236 - accuracy: 0.8337 - val_loss: 0.5614 - val_accuracy: 0.7121\n",
            "Epoch 42/100\n",
            "19/19 [==============================] - 0s 8ms/step - loss: 0.4452 - accuracy: 0.8006 - val_loss: 0.5637 - val_accuracy: 0.7121\n",
            "Epoch 43/100\n",
            "19/19 [==============================] - 0s 8ms/step - loss: 0.4709 - accuracy: 0.7904 - val_loss: 0.5640 - val_accuracy: 0.7121\n",
            "Epoch 44/100\n",
            "19/19 [==============================] - 0s 8ms/step - loss: 0.4470 - accuracy: 0.7997 - val_loss: 0.5661 - val_accuracy: 0.7273\n",
            "Epoch 45/100\n",
            "19/19 [==============================] - 0s 9ms/step - loss: 0.4571 - accuracy: 0.7956 - val_loss: 0.5670 - val_accuracy: 0.7121\n",
            "Epoch 46/100\n",
            "19/19 [==============================] - 0s 8ms/step - loss: 0.4230 - accuracy: 0.8262 - val_loss: 0.5671 - val_accuracy: 0.6970\n",
            "Epoch 47/100\n",
            "19/19 [==============================] - 0s 8ms/step - loss: 0.4453 - accuracy: 0.8129 - val_loss: 0.5670 - val_accuracy: 0.7121\n",
            "Epoch 48/100\n",
            "19/19 [==============================] - 0s 9ms/step - loss: 0.4401 - accuracy: 0.8001 - val_loss: 0.5719 - val_accuracy: 0.7273\n",
            "Epoch 49/100\n",
            "19/19 [==============================] - 0s 8ms/step - loss: 0.4349 - accuracy: 0.7931 - val_loss: 0.5719 - val_accuracy: 0.7273\n",
            "Epoch 50/100\n",
            "19/19 [==============================] - 0s 8ms/step - loss: 0.4307 - accuracy: 0.7930 - val_loss: 0.5755 - val_accuracy: 0.7424\n",
            "Epoch 51/100\n",
            "19/19 [==============================] - 0s 8ms/step - loss: 0.4311 - accuracy: 0.7962 - val_loss: 0.5728 - val_accuracy: 0.7121\n",
            "Epoch 52/100\n",
            "19/19 [==============================] - 0s 9ms/step - loss: 0.4129 - accuracy: 0.8047 - val_loss: 0.5763 - val_accuracy: 0.7121\n",
            "Epoch 53/100\n",
            "19/19 [==============================] - 0s 8ms/step - loss: 0.4211 - accuracy: 0.8108 - val_loss: 0.5752 - val_accuracy: 0.7121\n",
            "Epoch 54/100\n",
            "19/19 [==============================] - 0s 8ms/step - loss: 0.4295 - accuracy: 0.7904 - val_loss: 0.5777 - val_accuracy: 0.7121\n",
            "Epoch 55/100\n",
            "19/19 [==============================] - 0s 8ms/step - loss: 0.4513 - accuracy: 0.7927 - val_loss: 0.5787 - val_accuracy: 0.7121\n",
            "Epoch 56/100\n",
            "19/19 [==============================] - 0s 8ms/step - loss: 0.3995 - accuracy: 0.8288 - val_loss: 0.5806 - val_accuracy: 0.7121\n",
            "Epoch 57/100\n",
            "19/19 [==============================] - 0s 8ms/step - loss: 0.4203 - accuracy: 0.8164 - val_loss: 0.5771 - val_accuracy: 0.7121\n",
            "Epoch 58/100\n",
            "19/19 [==============================] - 0s 8ms/step - loss: 0.4148 - accuracy: 0.8152 - val_loss: 0.5803 - val_accuracy: 0.7121\n"
          ]
        },
        {
          "name": "stdout",
          "output_type": "stream",
          "text": [
            "Epoch 59/100\n",
            "19/19 [==============================] - 0s 8ms/step - loss: 0.4418 - accuracy: 0.7928 - val_loss: 0.5819 - val_accuracy: 0.7121\n",
            "Epoch 60/100\n",
            "19/19 [==============================] - 0s 8ms/step - loss: 0.4076 - accuracy: 0.8264 - val_loss: 0.5844 - val_accuracy: 0.7273\n",
            "Epoch 61/100\n",
            "19/19 [==============================] - 0s 8ms/step - loss: 0.4221 - accuracy: 0.8093 - val_loss: 0.5841 - val_accuracy: 0.7121\n",
            "Epoch 62/100\n",
            "19/19 [==============================] - 0s 8ms/step - loss: 0.4233 - accuracy: 0.8053 - val_loss: 0.5851 - val_accuracy: 0.7121\n",
            "Epoch 63/100\n",
            "19/19 [==============================] - 0s 8ms/step - loss: 0.4229 - accuracy: 0.7963 - val_loss: 0.5870 - val_accuracy: 0.7121\n",
            "Epoch 64/100\n",
            "19/19 [==============================] - 0s 8ms/step - loss: 0.4164 - accuracy: 0.8001 - val_loss: 0.5864 - val_accuracy: 0.7121\n",
            "Epoch 65/100\n",
            "19/19 [==============================] - 0s 8ms/step - loss: 0.4410 - accuracy: 0.7800 - val_loss: 0.5855 - val_accuracy: 0.7121\n",
            "Epoch 66/100\n",
            "19/19 [==============================] - 0s 8ms/step - loss: 0.4330 - accuracy: 0.8039 - val_loss: 0.5894 - val_accuracy: 0.7121\n",
            "Epoch 67/100\n",
            "19/19 [==============================] - 0s 8ms/step - loss: 0.4288 - accuracy: 0.7894 - val_loss: 0.5927 - val_accuracy: 0.7121\n",
            "Epoch 68/100\n",
            "19/19 [==============================] - 0s 8ms/step - loss: 0.4025 - accuracy: 0.8229 - val_loss: 0.5936 - val_accuracy: 0.7121\n",
            "Epoch 69/100\n",
            "19/19 [==============================] - 0s 8ms/step - loss: 0.4040 - accuracy: 0.8225 - val_loss: 0.5968 - val_accuracy: 0.7121\n",
            "Epoch 70/100\n",
            "19/19 [==============================] - 0s 8ms/step - loss: 0.4226 - accuracy: 0.8016 - val_loss: 0.5908 - val_accuracy: 0.7121\n",
            "Epoch 71/100\n",
            "19/19 [==============================] - 0s 8ms/step - loss: 0.4163 - accuracy: 0.8256 - val_loss: 0.5966 - val_accuracy: 0.6970\n",
            "Epoch 72/100\n",
            "19/19 [==============================] - 0s 9ms/step - loss: 0.4094 - accuracy: 0.7882 - val_loss: 0.5942 - val_accuracy: 0.6970\n",
            "Epoch 73/100\n",
            "19/19 [==============================] - 0s 8ms/step - loss: 0.3960 - accuracy: 0.8150 - val_loss: 0.5973 - val_accuracy: 0.7121\n",
            "Epoch 74/100\n",
            "19/19 [==============================] - 0s 8ms/step - loss: 0.4081 - accuracy: 0.8182 - val_loss: 0.6003 - val_accuracy: 0.6970\n",
            "Epoch 75/100\n",
            "19/19 [==============================] - 0s 8ms/step - loss: 0.3990 - accuracy: 0.8199 - val_loss: 0.6007 - val_accuracy: 0.7121\n",
            "Epoch 76/100\n",
            "19/19 [==============================] - 0s 8ms/step - loss: 0.4206 - accuracy: 0.8061 - val_loss: 0.5947 - val_accuracy: 0.6970\n",
            "Epoch 77/100\n",
            "19/19 [==============================] - 0s 9ms/step - loss: 0.3871 - accuracy: 0.8273 - val_loss: 0.6038 - val_accuracy: 0.7121\n",
            "Epoch 78/100\n",
            "19/19 [==============================] - 0s 8ms/step - loss: 0.3873 - accuracy: 0.8234 - val_loss: 0.6036 - val_accuracy: 0.7121\n",
            "Epoch 79/100\n",
            "19/19 [==============================] - 0s 8ms/step - loss: 0.3878 - accuracy: 0.8414 - val_loss: 0.6064 - val_accuracy: 0.6970\n",
            "Epoch 80/100\n",
            "19/19 [==============================] - 0s 8ms/step - loss: 0.4144 - accuracy: 0.8102 - val_loss: 0.6070 - val_accuracy: 0.7121\n",
            "Epoch 81/100\n",
            "19/19 [==============================] - 0s 8ms/step - loss: 0.4214 - accuracy: 0.7962 - val_loss: 0.6096 - val_accuracy: 0.7121\n",
            "Epoch 82/100\n",
            "19/19 [==============================] - 0s 8ms/step - loss: 0.3914 - accuracy: 0.8212 - val_loss: 0.6107 - val_accuracy: 0.7121\n",
            "Epoch 83/100\n",
            "19/19 [==============================] - 0s 8ms/step - loss: 0.3932 - accuracy: 0.8299 - val_loss: 0.6083 - val_accuracy: 0.6970\n",
            "Epoch 84/100\n",
            "19/19 [==============================] - 0s 8ms/step - loss: 0.3790 - accuracy: 0.8394 - val_loss: 0.6152 - val_accuracy: 0.7121\n",
            "Epoch 85/100\n",
            "19/19 [==============================] - 0s 9ms/step - loss: 0.3985 - accuracy: 0.8291 - val_loss: 0.6169 - val_accuracy: 0.6970\n",
            "Epoch 86/100\n",
            "19/19 [==============================] - 0s 8ms/step - loss: 0.3907 - accuracy: 0.8160 - val_loss: 0.6081 - val_accuracy: 0.6970\n",
            "Epoch 87/100\n",
            "19/19 [==============================] - 0s 8ms/step - loss: 0.3913 - accuracy: 0.8286 - val_loss: 0.6160 - val_accuracy: 0.7121\n",
            "Epoch 88/100\n",
            "19/19 [==============================] - 0s 9ms/step - loss: 0.4114 - accuracy: 0.8093 - val_loss: 0.6163 - val_accuracy: 0.7273\n",
            "Epoch 89/100\n",
            "19/19 [==============================] - 0s 8ms/step - loss: 0.3842 - accuracy: 0.8356 - val_loss: 0.6165 - val_accuracy: 0.7121\n",
            "Epoch 90/100\n",
            "19/19 [==============================] - 0s 8ms/step - loss: 0.3918 - accuracy: 0.8221 - val_loss: 0.6181 - val_accuracy: 0.7121\n",
            "Epoch 91/100\n",
            "19/19 [==============================] - 0s 10ms/step - loss: 0.3822 - accuracy: 0.8372 - val_loss: 0.6205 - val_accuracy: 0.7121\n",
            "Epoch 92/100\n",
            "19/19 [==============================] - 0s 8ms/step - loss: 0.3701 - accuracy: 0.8340 - val_loss: 0.6235 - val_accuracy: 0.7273\n",
            "Epoch 93/100\n",
            "19/19 [==============================] - 0s 8ms/step - loss: 0.3686 - accuracy: 0.8426 - val_loss: 0.6242 - val_accuracy: 0.7121\n",
            "Epoch 94/100\n",
            "19/19 [==============================] - 0s 8ms/step - loss: 0.4025 - accuracy: 0.8145 - val_loss: 0.6223 - val_accuracy: 0.7273\n",
            "Epoch 95/100\n",
            "19/19 [==============================] - 0s 9ms/step - loss: 0.4069 - accuracy: 0.8275 - val_loss: 0.6199 - val_accuracy: 0.7273\n",
            "Epoch 96/100\n",
            "19/19 [==============================] - 0s 8ms/step - loss: 0.4007 - accuracy: 0.8187 - val_loss: 0.6259 - val_accuracy: 0.7273\n",
            "Epoch 97/100\n",
            "19/19 [==============================] - 0s 8ms/step - loss: 0.3697 - accuracy: 0.8327 - val_loss: 0.6349 - val_accuracy: 0.7273\n",
            "Epoch 98/100\n",
            "19/19 [==============================] - 0s 8ms/step - loss: 0.3687 - accuracy: 0.8543 - val_loss: 0.6273 - val_accuracy: 0.7273\n",
            "Epoch 99/100\n",
            "19/19 [==============================] - 0s 8ms/step - loss: 0.3724 - accuracy: 0.8483 - val_loss: 0.6233 - val_accuracy: 0.7273\n",
            "Epoch 100/100\n",
            "19/19 [==============================] - 0s 8ms/step - loss: 0.4064 - accuracy: 0.8317 - val_loss: 0.6254 - val_accuracy: 0.7273\n"
          ]
        }
      ],
      "source": [
        "history = model.fit(X_train, y_train, epochs=100, validation_split=0.1)"
      ]
    },
    {
      "cell_type": "code",
      "execution_count": null,
      "id": "59f63637",
      "metadata": {
        "id": "59f63637",
        "outputId": "c3a743e0-8244-48c0-fef6-86c863c6322a"
      },
      "outputs": [
        {
          "data": {
            "text/plain": [
              "<matplotlib.legend.Legend at 0x193f6f9bf40>"
            ]
          },
          "execution_count": 21,
          "metadata": {},
          "output_type": "execute_result"
        },
        {
          "data": {
            "image/png": "[encoded data removed]",
            "text/plain": [
              "<Figure size 432x288 with 1 Axes>"
            ]
          },
          "metadata": {
            "needs_background": "light"
          },
          "output_type": "display_data"
        }
      ],
      "source": [
        "adam_history_df = pd.DataFrame(history.history)\n",
        "plt.plot(adam_history_df['loss'], label='train_loss')\n",
        "plt.plot(adam_history_df['val_loss'], label='val_loss')\n",
        "\n",
        "plt.legend()"
      ]
    },
    {
      "cell_type": "code",
      "execution_count": null,
      "id": "321ae736",
      "metadata": {
        "id": "321ae736",
        "outputId": "4e8f8ed2-1cc0-4ba4-caa4-9b9dcfb8ecba"
      },
      "outputs": [
        {
          "data": {
            "text/plain": [
              "<matplotlib.legend.Legend at 0x193fcdbe4c0>"
            ]
          },
          "execution_count": 22,
          "metadata": {},
          "output_type": "execute_result"
        },
        {
          "data": {
            "image/png": "[encoded data removed]",
            "text/plain": [
              "<Figure size 432x288 with 1 Axes>"
            ]
          },
          "metadata": {
            "needs_background": "light"
          },
          "output_type": "display_data"
        }
      ],
      "source": [
        "plt.plot(adam_history_df['accuracy'], label='train_acc')\n",
        "plt.plot(adam_history_df['val_accuracy'], label='val_acc')\n",
        "\n",
        "plt.legend()"
      ]
    },
    {
      "cell_type": "markdown",
      "id": "540858ce",
      "metadata": {
        "id": "540858ce"
      },
      "source": [
        "## Performance Measure"
      ]
    },
    {
      "cell_type": "code",
      "execution_count": null,
      "id": "53d1888d",
      "metadata": {
        "id": "53d1888d"
      },
      "outputs": [],
      "source": [
        "from sklearn.metrics import classification_report, confusion_matrix, accuracy_score"
      ]
    },
    {
      "cell_type": "code",
      "execution_count": null,
      "id": "4504922e",
      "metadata": {
        "id": "4504922e"
      },
      "outputs": [],
      "source": [
        "y_pred = model.predict(X_test)"
      ]
    },
    {
      "cell_type": "code",
      "execution_count": null,
      "id": "14a182bf",
      "metadata": {
        "id": "14a182bf",
        "outputId": "f7d02d84-4ef5-4fdf-94fb-09b922a235f8"
      },
      "outputs": [
        {
          "name": "stdout",
          "output_type": "stream",
          "text": [
            "              precision    recall  f1-score   support\n",
            "\n",
            "           0       0.81      0.72      0.76        76\n",
            "           1       0.56      0.68      0.61        40\n",
            "\n",
            "    accuracy                           0.71       116\n",
            "   macro avg       0.69      0.70      0.69       116\n",
            "weighted avg       0.72      0.71      0.71       116\n",
            "\n"
          ]
        }
      ],
      "source": [
        "y_pred = y_pred > 0.5\n",
        "print(classification_report(y_test, y_pred))"
      ]
    },
    {
      "cell_type": "markdown",
      "id": "720b6ac0",
      "metadata": {
        "id": "720b6ac0"
      },
      "source": [
        "### Compiling the Model (SGD Optimizer)"
      ]
    },
    {
      "cell_type": "code",
      "execution_count": null,
      "id": "da89606f",
      "metadata": {
        "id": "da89606f"
      },
      "outputs": [],
      "source": [
        "model.compile(loss='binary_crossentropy', optimizer='SGD', metrics=['accuracy'])"
      ]
    },
    {
      "cell_type": "markdown",
      "id": "bb898af6",
      "metadata": {
        "id": "bb898af6"
      },
      "source": [
        "### Training the Model"
      ]
    },
    {
      "cell_type": "code",
      "execution_count": null,
      "id": "54314e32",
      "metadata": {
        "id": "54314e32",
        "outputId": "b073fef6-c770-405f-85f6-d6d059e055c2"
      },
      "outputs": [
        {
          "name": "stdout",
          "output_type": "stream",
          "text": [
            "Epoch 1/100\n",
            "19/19 [==============================] - 1s 17ms/step - loss: 0.3796 - accuracy: 0.8300 - val_loss: 0.6269 - val_accuracy: 0.7273\n",
            "Epoch 2/100\n",
            "19/19 [==============================] - 0s 9ms/step - loss: 0.3694 - accuracy: 0.8394 - val_loss: 0.6275 - val_accuracy: 0.7273\n",
            "Epoch 3/100\n",
            "19/19 [==============================] - 0s 8ms/step - loss: 0.3784 - accuracy: 0.8372 - val_loss: 0.6314 - val_accuracy: 0.7273\n",
            "Epoch 4/100\n",
            "19/19 [==============================] - 0s 9ms/step - loss: 0.3803 - accuracy: 0.8241 - val_loss: 0.6340 - val_accuracy: 0.7273\n",
            "Epoch 5/100\n",
            "19/19 [==============================] - 0s 8ms/step - loss: 0.3959 - accuracy: 0.8353 - val_loss: 0.6364 - val_accuracy: 0.7273\n",
            "Epoch 6/100\n",
            "19/19 [==============================] - 0s 9ms/step - loss: 0.3791 - accuracy: 0.8464 - val_loss: 0.6361 - val_accuracy: 0.7273\n",
            "Epoch 7/100\n",
            "19/19 [==============================] - 0s 8ms/step - loss: 0.3820 - accuracy: 0.8350 - val_loss: 0.6379 - val_accuracy: 0.7273\n",
            "Epoch 8/100\n",
            "19/19 [==============================] - 0s 8ms/step - loss: 0.3793 - accuracy: 0.8325 - val_loss: 0.6376 - val_accuracy: 0.7273\n",
            "Epoch 9/100\n",
            "19/19 [==============================] - 0s 8ms/step - loss: 0.3845 - accuracy: 0.8426 - val_loss: 0.6390 - val_accuracy: 0.7273\n",
            "Epoch 10/100\n",
            "19/19 [==============================] - 0s 8ms/step - loss: 0.3884 - accuracy: 0.8305 - val_loss: 0.6405 - val_accuracy: 0.7273\n",
            "Epoch 11/100\n",
            "19/19 [==============================] - 0s 8ms/step - loss: 0.3707 - accuracy: 0.8383 - val_loss: 0.6419 - val_accuracy: 0.7273\n",
            "Epoch 12/100\n",
            "19/19 [==============================] - 0s 8ms/step - loss: 0.3916 - accuracy: 0.8309 - val_loss: 0.6401 - val_accuracy: 0.7273\n",
            "Epoch 13/100\n",
            "19/19 [==============================] - 0s 8ms/step - loss: 0.3896 - accuracy: 0.8196 - val_loss: 0.6419 - val_accuracy: 0.7273\n",
            "Epoch 14/100\n",
            "19/19 [==============================] - 0s 8ms/step - loss: 0.4056 - accuracy: 0.8077 - val_loss: 0.6435 - val_accuracy: 0.7273\n",
            "Epoch 15/100\n",
            "19/19 [==============================] - 0s 8ms/step - loss: 0.3933 - accuracy: 0.8350 - val_loss: 0.6424 - val_accuracy: 0.7273\n",
            "Epoch 16/100\n",
            "19/19 [==============================] - 0s 8ms/step - loss: 0.3694 - accuracy: 0.8460 - val_loss: 0.6432 - val_accuracy: 0.7273\n",
            "Epoch 17/100\n",
            "19/19 [==============================] - 0s 9ms/step - loss: 0.3612 - accuracy: 0.8470 - val_loss: 0.6408 - val_accuracy: 0.7273\n",
            "Epoch 18/100\n",
            "19/19 [==============================] - 0s 8ms/step - loss: 0.3699 - accuracy: 0.8508 - val_loss: 0.6401 - val_accuracy: 0.7273\n",
            "Epoch 19/100\n",
            "19/19 [==============================] - 0s 9ms/step - loss: 0.3839 - accuracy: 0.8296 - val_loss: 0.6455 - val_accuracy: 0.7273\n",
            "Epoch 20/100\n",
            "19/19 [==============================] - 0s 8ms/step - loss: 0.3950 - accuracy: 0.8441 - val_loss: 0.6472 - val_accuracy: 0.7273\n",
            "Epoch 21/100\n",
            "19/19 [==============================] - 0s 9ms/step - loss: 0.3695 - accuracy: 0.8496 - val_loss: 0.6462 - val_accuracy: 0.7273\n",
            "Epoch 22/100\n",
            "19/19 [==============================] - 0s 8ms/step - loss: 0.3863 - accuracy: 0.8378 - val_loss: 0.6467 - val_accuracy: 0.7273\n",
            "Epoch 23/100\n",
            "19/19 [==============================] - 0s 9ms/step - loss: 0.4063 - accuracy: 0.8323 - val_loss: 0.6457 - val_accuracy: 0.7273\n",
            "Epoch 24/100\n",
            "19/19 [==============================] - 0s 8ms/step - loss: 0.3618 - accuracy: 0.8351 - val_loss: 0.6483 - val_accuracy: 0.7273\n",
            "Epoch 25/100\n",
            "19/19 [==============================] - 0s 9ms/step - loss: 0.3743 - accuracy: 0.8385 - val_loss: 0.6450 - val_accuracy: 0.7273\n",
            "Epoch 26/100\n",
            "19/19 [==============================] - 0s 8ms/step - loss: 0.3831 - accuracy: 0.8490 - val_loss: 0.6487 - val_accuracy: 0.7273\n",
            "Epoch 27/100\n",
            "19/19 [==============================] - 0s 8ms/step - loss: 0.3827 - accuracy: 0.8323 - val_loss: 0.6503 - val_accuracy: 0.7273\n",
            "Epoch 28/100\n",
            "19/19 [==============================] - 0s 8ms/step - loss: 0.3601 - accuracy: 0.8477 - val_loss: 0.6473 - val_accuracy: 0.7273\n",
            "Epoch 29/100\n",
            "19/19 [==============================] - 0s 8ms/step - loss: 0.3691 - accuracy: 0.8456 - val_loss: 0.6451 - val_accuracy: 0.7273\n",
            "Epoch 30/100\n",
            "19/19 [==============================] - 0s 9ms/step - loss: 0.3906 - accuracy: 0.8369 - val_loss: 0.6482 - val_accuracy: 0.7273\n",
            "Epoch 31/100\n",
            "19/19 [==============================] - 0s 8ms/step - loss: 0.3673 - accuracy: 0.8316 - val_loss: 0.6504 - val_accuracy: 0.7273\n",
            "Epoch 32/100\n",
            "19/19 [==============================] - 0s 9ms/step - loss: 0.3681 - accuracy: 0.8397 - val_loss: 0.6500 - val_accuracy: 0.7121\n",
            "Epoch 33/100\n",
            "19/19 [==============================] - 0s 8ms/step - loss: 0.3658 - accuracy: 0.8364 - val_loss: 0.6484 - val_accuracy: 0.7273\n",
            "Epoch 34/100\n",
            "19/19 [==============================] - 0s 8ms/step - loss: 0.3843 - accuracy: 0.8233 - val_loss: 0.6478 - val_accuracy: 0.7273\n",
            "Epoch 35/100\n",
            "19/19 [==============================] - 0s 8ms/step - loss: 0.3780 - accuracy: 0.8376 - val_loss: 0.6522 - val_accuracy: 0.7273\n",
            "Epoch 36/100\n",
            "19/19 [==============================] - 0s 8ms/step - loss: 0.3964 - accuracy: 0.8307 - val_loss: 0.6500 - val_accuracy: 0.7273\n",
            "Epoch 37/100\n",
            "19/19 [==============================] - 0s 8ms/step - loss: 0.3751 - accuracy: 0.8428 - val_loss: 0.6470 - val_accuracy: 0.7273\n",
            "Epoch 38/100\n",
            "19/19 [==============================] - 0s 8ms/step - loss: 0.3765 - accuracy: 0.8302 - val_loss: 0.6481 - val_accuracy: 0.7273\n",
            "Epoch 39/100\n",
            "19/19 [==============================] - 0s 8ms/step - loss: 0.3616 - accuracy: 0.8530 - val_loss: 0.6491 - val_accuracy: 0.7273\n",
            "Epoch 40/100\n",
            "19/19 [==============================] - 0s 8ms/step - loss: 0.3891 - accuracy: 0.8421 - val_loss: 0.6493 - val_accuracy: 0.7273\n",
            "Epoch 41/100\n",
            "19/19 [==============================] - 0s 8ms/step - loss: 0.3697 - accuracy: 0.8396 - val_loss: 0.6468 - val_accuracy: 0.7273\n",
            "Epoch 42/100\n",
            "19/19 [==============================] - 0s 8ms/step - loss: 0.3759 - accuracy: 0.8404 - val_loss: 0.6510 - val_accuracy: 0.7273\n",
            "Epoch 43/100\n",
            "19/19 [==============================] - 0s 7ms/step - loss: 0.3873 - accuracy: 0.8333 - val_loss: 0.6539 - val_accuracy: 0.7273\n",
            "Epoch 44/100\n",
            "19/19 [==============================] - 0s 8ms/step - loss: 0.3713 - accuracy: 0.8385 - val_loss: 0.6526 - val_accuracy: 0.7273\n",
            "Epoch 45/100\n",
            "19/19 [==============================] - 0s 8ms/step - loss: 0.3636 - accuracy: 0.8320 - val_loss: 0.6554 - val_accuracy: 0.7273\n",
            "Epoch 46/100\n",
            "19/19 [==============================] - 0s 8ms/step - loss: 0.3840 - accuracy: 0.8272 - val_loss: 0.6517 - val_accuracy: 0.7273\n",
            "Epoch 47/100\n",
            "19/19 [==============================] - 0s 8ms/step - loss: 0.3793 - accuracy: 0.8385 - val_loss: 0.6545 - val_accuracy: 0.7273\n",
            "Epoch 48/100\n",
            "19/19 [==============================] - 0s 8ms/step - loss: 0.3895 - accuracy: 0.8320 - val_loss: 0.6555 - val_accuracy: 0.7273\n",
            "Epoch 49/100\n",
            "19/19 [==============================] - 0s 8ms/step - loss: 0.3426 - accuracy: 0.8569 - val_loss: 0.6559 - val_accuracy: 0.7273\n",
            "Epoch 50/100\n",
            "19/19 [==============================] - 0s 7ms/step - loss: 0.3601 - accuracy: 0.8447 - val_loss: 0.6570 - val_accuracy: 0.7273\n",
            "Epoch 51/100\n",
            "19/19 [==============================] - 0s 7ms/step - loss: 0.3479 - accuracy: 0.8617 - val_loss: 0.6620 - val_accuracy: 0.7121\n",
            "Epoch 52/100\n",
            "19/19 [==============================] - 0s 8ms/step - loss: 0.3724 - accuracy: 0.8392 - val_loss: 0.6591 - val_accuracy: 0.7273\n",
            "Epoch 53/100\n",
            "19/19 [==============================] - 0s 8ms/step - loss: 0.3688 - accuracy: 0.8516 - val_loss: 0.6580 - val_accuracy: 0.7273\n",
            "Epoch 54/100\n",
            "19/19 [==============================] - 0s 8ms/step - loss: 0.3749 - accuracy: 0.8473 - val_loss: 0.6615 - val_accuracy: 0.7273\n",
            "Epoch 55/100\n",
            "19/19 [==============================] - 0s 8ms/step - loss: 0.4032 - accuracy: 0.8257 - val_loss: 0.6592 - val_accuracy: 0.7121\n",
            "Epoch 56/100\n",
            "19/19 [==============================] - 0s 8ms/step - loss: 0.3818 - accuracy: 0.8305 - val_loss: 0.6593 - val_accuracy: 0.7121\n",
            "Epoch 57/100\n",
            "19/19 [==============================] - 0s 8ms/step - loss: 0.3763 - accuracy: 0.8445 - val_loss: 0.6617 - val_accuracy: 0.7121\n",
            "Epoch 58/100\n",
            "19/19 [==============================] - 0s 8ms/step - loss: 0.3872 - accuracy: 0.8249 - val_loss: 0.6613 - val_accuracy: 0.7273\n"
          ]
        },
        {
          "name": "stdout",
          "output_type": "stream",
          "text": [
            "Epoch 59/100\n",
            "19/19 [==============================] - 0s 8ms/step - loss: 0.3511 - accuracy: 0.8541 - val_loss: 0.6603 - val_accuracy: 0.7273\n",
            "Epoch 60/100\n",
            "19/19 [==============================] - 0s 8ms/step - loss: 0.3411 - accuracy: 0.8677 - val_loss: 0.6623 - val_accuracy: 0.7273\n",
            "Epoch 61/100\n",
            "19/19 [==============================] - 0s 8ms/step - loss: 0.3814 - accuracy: 0.8432 - val_loss: 0.6627 - val_accuracy: 0.7121\n",
            "Epoch 62/100\n",
            "19/19 [==============================] - 0s 8ms/step - loss: 0.3641 - accuracy: 0.8442 - val_loss: 0.6610 - val_accuracy: 0.7273\n",
            "Epoch 63/100\n",
            "19/19 [==============================] - 0s 8ms/step - loss: 0.3609 - accuracy: 0.8452 - val_loss: 0.6626 - val_accuracy: 0.7273\n",
            "Epoch 64/100\n",
            "19/19 [==============================] - 0s 8ms/step - loss: 0.3567 - accuracy: 0.8598 - val_loss: 0.6636 - val_accuracy: 0.7121\n",
            "Epoch 65/100\n",
            "19/19 [==============================] - 0s 8ms/step - loss: 0.3767 - accuracy: 0.8583 - val_loss: 0.6619 - val_accuracy: 0.7121\n",
            "Epoch 66/100\n",
            "19/19 [==============================] - 0s 8ms/step - loss: 0.3623 - accuracy: 0.8580 - val_loss: 0.6618 - val_accuracy: 0.7121\n",
            "Epoch 67/100\n",
            "19/19 [==============================] - 0s 8ms/step - loss: 0.3494 - accuracy: 0.8671 - val_loss: 0.6635 - val_accuracy: 0.7121\n",
            "Epoch 68/100\n",
            "19/19 [==============================] - 0s 8ms/step - loss: 0.3763 - accuracy: 0.8446 - val_loss: 0.6614 - val_accuracy: 0.7121\n",
            "Epoch 69/100\n",
            "19/19 [==============================] - 0s 8ms/step - loss: 0.3639 - accuracy: 0.8395 - val_loss: 0.6628 - val_accuracy: 0.6970\n",
            "Epoch 70/100\n",
            "19/19 [==============================] - 0s 8ms/step - loss: 0.3687 - accuracy: 0.8442 - val_loss: 0.6627 - val_accuracy: 0.7121\n",
            "Epoch 71/100\n",
            "19/19 [==============================] - 0s 8ms/step - loss: 0.3517 - accuracy: 0.8484 - val_loss: 0.6663 - val_accuracy: 0.6970\n",
            "Epoch 72/100\n",
            "19/19 [==============================] - 0s 8ms/step - loss: 0.3595 - accuracy: 0.8522 - val_loss: 0.6654 - val_accuracy: 0.6970\n",
            "Epoch 73/100\n",
            "19/19 [==============================] - 0s 8ms/step - loss: 0.3607 - accuracy: 0.8488 - val_loss: 0.6660 - val_accuracy: 0.6970\n",
            "Epoch 74/100\n",
            "19/19 [==============================] - 0s 8ms/step - loss: 0.3706 - accuracy: 0.8407 - val_loss: 0.6603 - val_accuracy: 0.7121\n",
            "Epoch 75/100\n",
            "19/19 [==============================] - 0s 8ms/step - loss: 0.3627 - accuracy: 0.8405 - val_loss: 0.6626 - val_accuracy: 0.7121\n",
            "Epoch 76/100\n",
            "19/19 [==============================] - 0s 8ms/step - loss: 0.3793 - accuracy: 0.8378 - val_loss: 0.6639 - val_accuracy: 0.6970\n",
            "Epoch 77/100\n",
            "19/19 [==============================] - 0s 8ms/step - loss: 0.3477 - accuracy: 0.8517 - val_loss: 0.6645 - val_accuracy: 0.7121\n",
            "Epoch 78/100\n",
            "19/19 [==============================] - 0s 8ms/step - loss: 0.3593 - accuracy: 0.8522 - val_loss: 0.6628 - val_accuracy: 0.7121\n",
            "Epoch 79/100\n",
            "19/19 [==============================] - 0s 8ms/step - loss: 0.3869 - accuracy: 0.8325 - val_loss: 0.6653 - val_accuracy: 0.7121\n",
            "Epoch 80/100\n",
            "19/19 [==============================] - 0s 8ms/step - loss: 0.3659 - accuracy: 0.8516 - val_loss: 0.6660 - val_accuracy: 0.6970\n",
            "Epoch 81/100\n",
            "19/19 [==============================] - 0s 7ms/step - loss: 0.3672 - accuracy: 0.8478 - val_loss: 0.6646 - val_accuracy: 0.6970\n",
            "Epoch 82/100\n",
            "19/19 [==============================] - 0s 8ms/step - loss: 0.3617 - accuracy: 0.8519 - val_loss: 0.6661 - val_accuracy: 0.6970\n",
            "Epoch 83/100\n",
            "19/19 [==============================] - 0s 8ms/step - loss: 0.3769 - accuracy: 0.8278 - val_loss: 0.6692 - val_accuracy: 0.6970\n",
            "Epoch 84/100\n",
            "19/19 [==============================] - 0s 8ms/step - loss: 0.3442 - accuracy: 0.8645 - val_loss: 0.6651 - val_accuracy: 0.6970\n",
            "Epoch 85/100\n",
            "19/19 [==============================] - 0s 8ms/step - loss: 0.3471 - accuracy: 0.8609 - val_loss: 0.6693 - val_accuracy: 0.7121\n",
            "Epoch 86/100\n",
            "19/19 [==============================] - 0s 8ms/step - loss: 0.3645 - accuracy: 0.8533 - val_loss: 0.6645 - val_accuracy: 0.6970\n",
            "Epoch 87/100\n",
            "19/19 [==============================] - 0s 8ms/step - loss: 0.3350 - accuracy: 0.8595 - val_loss: 0.6606 - val_accuracy: 0.7121\n",
            "Epoch 88/100\n",
            "19/19 [==============================] - 0s 8ms/step - loss: 0.3761 - accuracy: 0.8331 - val_loss: 0.6635 - val_accuracy: 0.6970\n",
            "Epoch 89/100\n",
            "19/19 [==============================] - 0s 8ms/step - loss: 0.3693 - accuracy: 0.8455 - val_loss: 0.6627 - val_accuracy: 0.6970\n",
            "Epoch 90/100\n",
            "19/19 [==============================] - 0s 8ms/step - loss: 0.3707 - accuracy: 0.8505 - val_loss: 0.6643 - val_accuracy: 0.6970\n",
            "Epoch 91/100\n",
            "19/19 [==============================] - 0s 8ms/step - loss: 0.3499 - accuracy: 0.8556 - val_loss: 0.6599 - val_accuracy: 0.6970\n",
            "Epoch 92/100\n",
            "19/19 [==============================] - 0s 8ms/step - loss: 0.3416 - accuracy: 0.8641 - val_loss: 0.6645 - val_accuracy: 0.6970\n",
            "Epoch 93/100\n",
            "19/19 [==============================] - 0s 8ms/step - loss: 0.3918 - accuracy: 0.8072 - val_loss: 0.6678 - val_accuracy: 0.6970\n",
            "Epoch 94/100\n",
            "19/19 [==============================] - 0s 8ms/step - loss: 0.3805 - accuracy: 0.8342 - val_loss: 0.6647 - val_accuracy: 0.7121\n",
            "Epoch 95/100\n",
            "19/19 [==============================] - 0s 8ms/step - loss: 0.3600 - accuracy: 0.8498 - val_loss: 0.6665 - val_accuracy: 0.6970\n",
            "Epoch 96/100\n",
            "19/19 [==============================] - 0s 8ms/step - loss: 0.3481 - accuracy: 0.8685 - val_loss: 0.6659 - val_accuracy: 0.6970\n",
            "Epoch 97/100\n",
            "19/19 [==============================] - 0s 8ms/step - loss: 0.3643 - accuracy: 0.8400 - val_loss: 0.6678 - val_accuracy: 0.6970\n",
            "Epoch 98/100\n",
            "19/19 [==============================] - 0s 8ms/step - loss: 0.3619 - accuracy: 0.8343 - val_loss: 0.6669 - val_accuracy: 0.6970\n",
            "Epoch 99/100\n",
            "19/19 [==============================] - 0s 8ms/step - loss: 0.3912 - accuracy: 0.8284 - val_loss: 0.6690 - val_accuracy: 0.6970\n",
            "Epoch 100/100\n",
            "19/19 [==============================] - 0s 8ms/step - loss: 0.3581 - accuracy: 0.8607 - val_loss: 0.6686 - val_accuracy: 0.6970\n"
          ]
        }
      ],
      "source": [
        "history = model.fit(X_train, y_train, epochs=100, validation_split=0.1)"
      ]
    },
    {
      "cell_type": "code",
      "execution_count": null,
      "id": "f940cf19",
      "metadata": {
        "id": "f940cf19",
        "outputId": "a2242b3f-bb16-4efe-ad27-c52618105b14"
      },
      "outputs": [
        {
          "data": {
            "text/plain": [
              "<matplotlib.legend.Legend at 0x194838e7400>"
            ]
          },
          "execution_count": 28,
          "metadata": {},
          "output_type": "execute_result"
        },
        {
          "data": {
            "image/png": "[encoded data removed]",
            "text/plain": [
              "<Figure size 432x288 with 1 Axes>"
            ]
          },
          "metadata": {
            "needs_background": "light"
          },
          "output_type": "display_data"
        }
      ],
      "source": [
        "sgd_history_df = pd.DataFrame(history.history)\n",
        "plt.plot(sgd_history_df['loss'], label='train_loss')\n",
        "plt.plot(sgd_history_df['val_loss'], label='val_loss')\n",
        "\n",
        "plt.legend()"
      ]
    },
    {
      "cell_type": "code",
      "execution_count": null,
      "id": "c5db5c98",
      "metadata": {
        "id": "c5db5c98",
        "outputId": "188d126b-cc9f-4b2c-df71-6e7e621a9df4"
      },
      "outputs": [
        {
          "data": {
            "text/plain": [
              "<matplotlib.legend.Legend at 0x19483960c70>"
            ]
          },
          "execution_count": 29,
          "metadata": {},
          "output_type": "execute_result"
        },
        {
          "data": {
            "image/png": "[encoded data removed]",
            "text/plain": [
              "<Figure size 432x288 with 1 Axes>"
            ]
          },
          "metadata": {
            "needs_background": "light"
          },
          "output_type": "display_data"
        }
      ],
      "source": [
        "plt.plot(sgd_history_df['accuracy'], label='train_acc')\n",
        "plt.plot(sgd_history_df['val_accuracy'], label='val_acc')\n",
        "\n",
        "plt.legend()"
      ]
    },
    {
      "cell_type": "markdown",
      "id": "25039aea",
      "metadata": {
        "id": "25039aea"
      },
      "source": [
        "### Performance Measure (SGD)"
      ]
    },
    {
      "cell_type": "code",
      "execution_count": null,
      "id": "3aabc6b4",
      "metadata": {
        "id": "3aabc6b4"
      },
      "outputs": [],
      "source": [
        "y_pred = model.predict(X_test)"
      ]
    },
    {
      "cell_type": "code",
      "execution_count": null,
      "id": "de894efc",
      "metadata": {
        "id": "de894efc",
        "outputId": "297bd2db-2108-4151-afad-da007ef4c476"
      },
      "outputs": [
        {
          "name": "stdout",
          "output_type": "stream",
          "text": [
            "              precision    recall  f1-score   support\n",
            "\n",
            "           0       0.80      0.74      0.77        76\n",
            "           1       0.57      0.65      0.60        40\n",
            "\n",
            "    accuracy                           0.71       116\n",
            "   macro avg       0.68      0.69      0.69       116\n",
            "weighted avg       0.72      0.71      0.71       116\n",
            "\n"
          ]
        }
      ],
      "source": [
        "y_pred = y_pred > 0.5\n",
        "print(classification_report(y_test, y_pred))"
      ]
    },
    {
      "cell_type": "markdown",
      "id": "0f14a2ad",
      "metadata": {
        "id": "0f14a2ad"
      },
      "source": [
        "### Compiling the Model"
      ]
    },
    {
      "cell_type": "code",
      "execution_count": null,
      "id": "3ca8ab80",
      "metadata": {
        "id": "3ca8ab80"
      },
      "outputs": [],
      "source": [
        "model.compile(loss='binary_crossentropy', optimizer='rmsprop', metrics=['accuracy'])"
      ]
    },
    {
      "cell_type": "code",
      "execution_count": null,
      "id": "3f609d5b",
      "metadata": {
        "id": "3f609d5b",
        "outputId": "7545c92c-b32b-4361-f0a5-68f3a4aee560"
      },
      "outputs": [
        {
          "name": "stdout",
          "output_type": "stream",
          "text": [
            "Epoch 1/100\n",
            "19/19 [==============================] - 1s 19ms/step - loss: 0.3745 - accuracy: 0.8401 - val_loss: 0.6706 - val_accuracy: 0.6970\n",
            "Epoch 2/100\n",
            "19/19 [==============================] - 0s 10ms/step - loss: 0.3709 - accuracy: 0.8312 - val_loss: 0.6673 - val_accuracy: 0.6970\n",
            "Epoch 3/100\n",
            "19/19 [==============================] - 0s 10ms/step - loss: 0.3920 - accuracy: 0.8213 - val_loss: 0.6694 - val_accuracy: 0.6970\n",
            "Epoch 4/100\n",
            "19/19 [==============================] - 0s 10ms/step - loss: 0.3684 - accuracy: 0.8397 - val_loss: 0.6603 - val_accuracy: 0.7121\n",
            "Epoch 5/100\n",
            "19/19 [==============================] - 0s 10ms/step - loss: 0.3709 - accuracy: 0.8428 - val_loss: 0.6775 - val_accuracy: 0.7121\n",
            "Epoch 6/100\n",
            "19/19 [==============================] - 0s 10ms/step - loss: 0.3730 - accuracy: 0.8475 - val_loss: 0.6733 - val_accuracy: 0.7121\n",
            "Epoch 7/100\n",
            "19/19 [==============================] - 0s 10ms/step - loss: 0.3861 - accuracy: 0.8348 - val_loss: 0.6798 - val_accuracy: 0.7121\n",
            "Epoch 8/100\n",
            "19/19 [==============================] - 0s 10ms/step - loss: 0.3783 - accuracy: 0.8308 - val_loss: 0.6734 - val_accuracy: 0.7121\n",
            "Epoch 9/100\n",
            "19/19 [==============================] - 0s 10ms/step - loss: 0.3864 - accuracy: 0.8224 - val_loss: 0.6725 - val_accuracy: 0.7121\n",
            "Epoch 10/100\n",
            "19/19 [==============================] - 0s 10ms/step - loss: 0.3562 - accuracy: 0.8498 - val_loss: 0.6687 - val_accuracy: 0.7121\n",
            "Epoch 11/100\n",
            "19/19 [==============================] - 0s 10ms/step - loss: 0.3345 - accuracy: 0.8572 - val_loss: 0.6705 - val_accuracy: 0.7121\n",
            "Epoch 12/100\n",
            "19/19 [==============================] - 0s 10ms/step - loss: 0.3303 - accuracy: 0.8755 - val_loss: 0.6734 - val_accuracy: 0.7121\n",
            "Epoch 13/100\n",
            "19/19 [==============================] - 0s 10ms/step - loss: 0.3768 - accuracy: 0.8331 - val_loss: 0.6760 - val_accuracy: 0.7121\n",
            "Epoch 14/100\n",
            "19/19 [==============================] - 0s 11ms/step - loss: 0.3729 - accuracy: 0.8354 - val_loss: 0.6760 - val_accuracy: 0.7121\n",
            "Epoch 15/100\n",
            "19/19 [==============================] - 0s 10ms/step - loss: 0.3625 - accuracy: 0.8437 - val_loss: 0.6802 - val_accuracy: 0.7273\n",
            "Epoch 16/100\n",
            "19/19 [==============================] - 0s 10ms/step - loss: 0.3398 - accuracy: 0.8453 - val_loss: 0.6736 - val_accuracy: 0.7121\n",
            "Epoch 17/100\n",
            "19/19 [==============================] - 0s 10ms/step - loss: 0.3594 - accuracy: 0.8322 - val_loss: 0.6735 - val_accuracy: 0.7121\n",
            "Epoch 18/100\n",
            "19/19 [==============================] - 0s 10ms/step - loss: 0.3528 - accuracy: 0.8447 - val_loss: 0.6745 - val_accuracy: 0.6970\n",
            "Epoch 19/100\n",
            "19/19 [==============================] - 0s 10ms/step - loss: 0.3362 - accuracy: 0.8567 - val_loss: 0.6714 - val_accuracy: 0.7121\n",
            "Epoch 20/100\n",
            "19/19 [==============================] - 0s 10ms/step - loss: 0.3583 - accuracy: 0.8512 - val_loss: 0.6757 - val_accuracy: 0.6970\n",
            "Epoch 21/100\n",
            "19/19 [==============================] - 0s 10ms/step - loss: 0.3829 - accuracy: 0.8308 - val_loss: 0.6839 - val_accuracy: 0.7121\n",
            "Epoch 22/100\n",
            "19/19 [==============================] - 0s 10ms/step - loss: 0.3742 - accuracy: 0.8493 - val_loss: 0.6871 - val_accuracy: 0.6970\n",
            "Epoch 23/100\n",
            "19/19 [==============================] - 0s 10ms/step - loss: 0.3503 - accuracy: 0.8709 - val_loss: 0.6861 - val_accuracy: 0.7121\n",
            "Epoch 24/100\n",
            "19/19 [==============================] - 0s 10ms/step - loss: 0.3403 - accuracy: 0.8511 - val_loss: 0.6775 - val_accuracy: 0.7121\n",
            "Epoch 25/100\n",
            "19/19 [==============================] - 0s 10ms/step - loss: 0.3357 - accuracy: 0.8641 - val_loss: 0.6730 - val_accuracy: 0.7121\n",
            "Epoch 26/100\n",
            "19/19 [==============================] - 0s 10ms/step - loss: 0.3275 - accuracy: 0.8554 - val_loss: 0.6758 - val_accuracy: 0.7121\n",
            "Epoch 27/100\n",
            "19/19 [==============================] - 0s 10ms/step - loss: 0.3603 - accuracy: 0.8465 - val_loss: 0.6780 - val_accuracy: 0.7121\n",
            "Epoch 28/100\n",
            "19/19 [==============================] - 0s 10ms/step - loss: 0.3522 - accuracy: 0.8540 - val_loss: 0.6787 - val_accuracy: 0.7121\n",
            "Epoch 29/100\n",
            "19/19 [==============================] - 0s 10ms/step - loss: 0.3203 - accuracy: 0.8809 - val_loss: 0.6856 - val_accuracy: 0.6970\n",
            "Epoch 30/100\n",
            "19/19 [==============================] - 0s 10ms/step - loss: 0.3808 - accuracy: 0.8418 - val_loss: 0.6880 - val_accuracy: 0.6970\n",
            "Epoch 31/100\n",
            "19/19 [==============================] - 0s 10ms/step - loss: 0.3456 - accuracy: 0.8585 - val_loss: 0.6905 - val_accuracy: 0.7121\n",
            "Epoch 32/100\n",
            "19/19 [==============================] - 0s 10ms/step - loss: 0.3316 - accuracy: 0.8623 - val_loss: 0.6953 - val_accuracy: 0.7121\n",
            "Epoch 33/100\n",
            "19/19 [==============================] - 0s 10ms/step - loss: 0.3349 - accuracy: 0.8651 - val_loss: 0.6904 - val_accuracy: 0.7121\n",
            "Epoch 34/100\n",
            "19/19 [==============================] - 0s 10ms/step - loss: 0.3585 - accuracy: 0.8383 - val_loss: 0.6877 - val_accuracy: 0.7121\n",
            "Epoch 35/100\n",
            "19/19 [==============================] - 0s 10ms/step - loss: 0.3481 - accuracy: 0.8365 - val_loss: 0.6821 - val_accuracy: 0.7121\n",
            "Epoch 36/100\n",
            "19/19 [==============================] - 0s 11ms/step - loss: 0.3535 - accuracy: 0.8439 - val_loss: 0.6836 - val_accuracy: 0.7273\n",
            "Epoch 37/100\n",
            "19/19 [==============================] - 0s 10ms/step - loss: 0.3447 - accuracy: 0.8549 - val_loss: 0.6798 - val_accuracy: 0.7121\n",
            "Epoch 38/100\n",
            "19/19 [==============================] - 0s 10ms/step - loss: 0.3381 - accuracy: 0.8497 - val_loss: 0.6883 - val_accuracy: 0.7121\n",
            "Epoch 39/100\n",
            "19/19 [==============================] - 0s 10ms/step - loss: 0.3672 - accuracy: 0.8573 - val_loss: 0.6918 - val_accuracy: 0.7121\n",
            "Epoch 40/100\n",
            "19/19 [==============================] - 0s 10ms/step - loss: 0.3310 - accuracy: 0.8545 - val_loss: 0.6908 - val_accuracy: 0.7121\n",
            "Epoch 41/100\n",
            "19/19 [==============================] - 0s 10ms/step - loss: 0.3430 - accuracy: 0.8441 - val_loss: 0.6871 - val_accuracy: 0.7273\n",
            "Epoch 42/100\n",
            "19/19 [==============================] - 0s 11ms/step - loss: 0.3408 - accuracy: 0.8649 - val_loss: 0.6845 - val_accuracy: 0.7121\n",
            "Epoch 43/100\n",
            "19/19 [==============================] - 0s 10ms/step - loss: 0.3760 - accuracy: 0.8428 - val_loss: 0.6888 - val_accuracy: 0.7273\n",
            "Epoch 44/100\n",
            "19/19 [==============================] - 0s 9ms/step - loss: 0.3354 - accuracy: 0.8576 - val_loss: 0.6888 - val_accuracy: 0.7273\n",
            "Epoch 45/100\n",
            "19/19 [==============================] - 0s 10ms/step - loss: 0.3301 - accuracy: 0.8695 - val_loss: 0.6963 - val_accuracy: 0.7121\n",
            "Epoch 46/100\n",
            "19/19 [==============================] - 0s 10ms/step - loss: 0.3650 - accuracy: 0.8512 - val_loss: 0.6977 - val_accuracy: 0.7121\n",
            "Epoch 47/100\n",
            "19/19 [==============================] - 0s 15ms/step - loss: 0.3311 - accuracy: 0.8495 - val_loss: 0.6916 - val_accuracy: 0.7273\n",
            "Epoch 48/100\n",
            "19/19 [==============================] - 0s 10ms/step - loss: 0.3280 - accuracy: 0.8695 - val_loss: 0.6977 - val_accuracy: 0.7121\n",
            "Epoch 49/100\n",
            "19/19 [==============================] - 0s 10ms/step - loss: 0.3447 - accuracy: 0.8556 - val_loss: 0.7057 - val_accuracy: 0.6970\n",
            "Epoch 50/100\n",
            "19/19 [==============================] - 0s 10ms/step - loss: 0.3199 - accuracy: 0.8705 - val_loss: 0.7002 - val_accuracy: 0.7121\n",
            "Epoch 51/100\n",
            "19/19 [==============================] - 0s 10ms/step - loss: 0.3496 - accuracy: 0.8618 - val_loss: 0.7029 - val_accuracy: 0.6970\n",
            "Epoch 52/100\n",
            "19/19 [==============================] - 0s 9ms/step - loss: 0.3183 - accuracy: 0.8617 - val_loss: 0.6911 - val_accuracy: 0.7273\n",
            "Epoch 53/100\n",
            "19/19 [==============================] - 0s 9ms/step - loss: 0.3402 - accuracy: 0.8583 - val_loss: 0.6939 - val_accuracy: 0.7121\n",
            "Epoch 54/100\n",
            "19/19 [==============================] - 0s 9ms/step - loss: 0.3363 - accuracy: 0.8697 - val_loss: 0.7055 - val_accuracy: 0.7121\n",
            "Epoch 55/100\n",
            "19/19 [==============================] - 0s 9ms/step - loss: 0.3442 - accuracy: 0.8466 - val_loss: 0.7082 - val_accuracy: 0.7121\n",
            "Epoch 56/100\n",
            "19/19 [==============================] - 0s 10ms/step - loss: 0.3511 - accuracy: 0.8532 - val_loss: 0.7025 - val_accuracy: 0.7121\n",
            "Epoch 57/100\n",
            "19/19 [==============================] - 0s 9ms/step - loss: 0.3643 - accuracy: 0.8459 - val_loss: 0.7123 - val_accuracy: 0.6970\n",
            "Epoch 58/100\n"
          ]
        },
        {
          "name": "stdout",
          "output_type": "stream",
          "text": [
            "19/19 [==============================] - 0s 9ms/step - loss: 0.3275 - accuracy: 0.8608 - val_loss: 0.7103 - val_accuracy: 0.6970\n",
            "Epoch 59/100\n",
            "19/19 [==============================] - 0s 10ms/step - loss: 0.3107 - accuracy: 0.8704 - val_loss: 0.7025 - val_accuracy: 0.6970\n",
            "Epoch 60/100\n",
            "19/19 [==============================] - 0s 9ms/step - loss: 0.3526 - accuracy: 0.8604 - val_loss: 0.7233 - val_accuracy: 0.6970\n",
            "Epoch 61/100\n",
            "19/19 [==============================] - 0s 9ms/step - loss: 0.3170 - accuracy: 0.8635 - val_loss: 0.6997 - val_accuracy: 0.7121\n",
            "Epoch 62/100\n",
            "19/19 [==============================] - 0s 9ms/step - loss: 0.3710 - accuracy: 0.8415 - val_loss: 0.7073 - val_accuracy: 0.6970\n",
            "Epoch 63/100\n",
            "19/19 [==============================] - 0s 10ms/step - loss: 0.3455 - accuracy: 0.8628 - val_loss: 0.7081 - val_accuracy: 0.7121\n",
            "Epoch 64/100\n",
            "19/19 [==============================] - 0s 9ms/step - loss: 0.3366 - accuracy: 0.8771 - val_loss: 0.7193 - val_accuracy: 0.6970\n",
            "Epoch 65/100\n",
            "19/19 [==============================] - 0s 9ms/step - loss: 0.3507 - accuracy: 0.8516 - val_loss: 0.6997 - val_accuracy: 0.7121\n",
            "Epoch 66/100\n",
            "19/19 [==============================] - 0s 10ms/step - loss: 0.3410 - accuracy: 0.8731 - val_loss: 0.7175 - val_accuracy: 0.6970\n",
            "Epoch 67/100\n",
            "19/19 [==============================] - 0s 10ms/step - loss: 0.3283 - accuracy: 0.8788 - val_loss: 0.7104 - val_accuracy: 0.7121\n",
            "Epoch 68/100\n",
            "19/19 [==============================] - 0s 10ms/step - loss: 0.2970 - accuracy: 0.8831 - val_loss: 0.7108 - val_accuracy: 0.7273\n",
            "Epoch 69/100\n",
            "19/19 [==============================] - 0s 9ms/step - loss: 0.3308 - accuracy: 0.8656 - val_loss: 0.7121 - val_accuracy: 0.7121\n",
            "Epoch 70/100\n",
            "19/19 [==============================] - 0s 10ms/step - loss: 0.3398 - accuracy: 0.8711 - val_loss: 0.7189 - val_accuracy: 0.6970\n",
            "Epoch 71/100\n",
            "19/19 [==============================] - 0s 9ms/step - loss: 0.3380 - accuracy: 0.8550 - val_loss: 0.7290 - val_accuracy: 0.6970\n",
            "Epoch 72/100\n",
            "19/19 [==============================] - 0s 10ms/step - loss: 0.3351 - accuracy: 0.8655 - val_loss: 0.7221 - val_accuracy: 0.6970\n",
            "Epoch 73/100\n",
            "19/19 [==============================] - 0s 10ms/step - loss: 0.3183 - accuracy: 0.8828 - val_loss: 0.7207 - val_accuracy: 0.7121\n",
            "Epoch 74/100\n",
            "19/19 [==============================] - 0s 10ms/step - loss: 0.3313 - accuracy: 0.8613 - val_loss: 0.7169 - val_accuracy: 0.7273\n",
            "Epoch 75/100\n",
            "19/19 [==============================] - 0s 9ms/step - loss: 0.3592 - accuracy: 0.8495 - val_loss: 0.7200 - val_accuracy: 0.7273\n",
            "Epoch 76/100\n",
            "19/19 [==============================] - 0s 9ms/step - loss: 0.3310 - accuracy: 0.8665 - val_loss: 0.7274 - val_accuracy: 0.6970\n",
            "Epoch 77/100\n",
            "19/19 [==============================] - 0s 9ms/step - loss: 0.3441 - accuracy: 0.8621 - val_loss: 0.7216 - val_accuracy: 0.7121\n",
            "Epoch 78/100\n",
            "19/19 [==============================] - 0s 11ms/step - loss: 0.3160 - accuracy: 0.8690 - val_loss: 0.7178 - val_accuracy: 0.7273\n",
            "Epoch 79/100\n",
            "19/19 [==============================] - 0s 10ms/step - loss: 0.3252 - accuracy: 0.8759 - val_loss: 0.7246 - val_accuracy: 0.7121\n",
            "Epoch 80/100\n",
            "19/19 [==============================] - 0s 9ms/step - loss: 0.3088 - accuracy: 0.8760 - val_loss: 0.7237 - val_accuracy: 0.7121\n",
            "Epoch 81/100\n",
            "19/19 [==============================] - 0s 10ms/step - loss: 0.2986 - accuracy: 0.8902 - val_loss: 0.7185 - val_accuracy: 0.7121\n",
            "Epoch 82/100\n",
            "19/19 [==============================] - 0s 9ms/step - loss: 0.3342 - accuracy: 0.8574 - val_loss: 0.7162 - val_accuracy: 0.7273\n",
            "Epoch 83/100\n",
            "19/19 [==============================] - 0s 12ms/step - loss: 0.3696 - accuracy: 0.8519 - val_loss: 0.7300 - val_accuracy: 0.7121\n",
            "Epoch 84/100\n",
            "19/19 [==============================] - 0s 11ms/step - loss: 0.3274 - accuracy: 0.8736 - val_loss: 0.7314 - val_accuracy: 0.7121\n",
            "Epoch 85/100\n",
            "19/19 [==============================] - 0s 11ms/step - loss: 0.3140 - accuracy: 0.8717 - val_loss: 0.7358 - val_accuracy: 0.7121\n",
            "Epoch 86/100\n",
            "19/19 [==============================] - 0s 10ms/step - loss: 0.3059 - accuracy: 0.8843 - val_loss: 0.7223 - val_accuracy: 0.7121\n",
            "Epoch 87/100\n",
            "19/19 [==============================] - 0s 10ms/step - loss: 0.3408 - accuracy: 0.8555 - val_loss: 0.7307 - val_accuracy: 0.7121\n",
            "Epoch 88/100\n",
            "19/19 [==============================] - 0s 10ms/step - loss: 0.3550 - accuracy: 0.8672 - val_loss: 0.7281 - val_accuracy: 0.7273\n",
            "Epoch 89/100\n",
            "19/19 [==============================] - 0s 10ms/step - loss: 0.3515 - accuracy: 0.8535 - val_loss: 0.7310 - val_accuracy: 0.7121\n",
            "Epoch 90/100\n",
            "19/19 [==============================] - 0s 10ms/step - loss: 0.3098 - accuracy: 0.8673 - val_loss: 0.7395 - val_accuracy: 0.7273\n",
            "Epoch 91/100\n",
            "19/19 [==============================] - 0s 10ms/step - loss: 0.3220 - accuracy: 0.8766 - val_loss: 0.7265 - val_accuracy: 0.7121\n",
            "Epoch 92/100\n",
            "19/19 [==============================] - 0s 10ms/step - loss: 0.2958 - accuracy: 0.8919 - val_loss: 0.7277 - val_accuracy: 0.7121\n",
            "Epoch 93/100\n",
            "19/19 [==============================] - 0s 10ms/step - loss: 0.3201 - accuracy: 0.8738 - val_loss: 0.7455 - val_accuracy: 0.7273\n",
            "Epoch 94/100\n",
            "19/19 [==============================] - 0s 14ms/step - loss: 0.3215 - accuracy: 0.8602 - val_loss: 0.7402 - val_accuracy: 0.7273\n",
            "Epoch 95/100\n",
            "19/19 [==============================] - 0s 10ms/step - loss: 0.3363 - accuracy: 0.8663 - val_loss: 0.7489 - val_accuracy: 0.7273\n",
            "Epoch 96/100\n",
            "19/19 [==============================] - 0s 10ms/step - loss: 0.3690 - accuracy: 0.8527 - val_loss: 0.7532 - val_accuracy: 0.7273\n",
            "Epoch 97/100\n",
            "19/19 [==============================] - 0s 10ms/step - loss: 0.3225 - accuracy: 0.8705 - val_loss: 0.7418 - val_accuracy: 0.7273\n",
            "Epoch 98/100\n",
            "19/19 [==============================] - 0s 10ms/step - loss: 0.3498 - accuracy: 0.8501 - val_loss: 0.7552 - val_accuracy: 0.7273\n",
            "Epoch 99/100\n",
            "19/19 [==============================] - 0s 10ms/step - loss: 0.3472 - accuracy: 0.8560 - val_loss: 0.7558 - val_accuracy: 0.7273\n",
            "Epoch 100/100\n",
            "19/19 [==============================] - 0s 10ms/step - loss: 0.3205 - accuracy: 0.8848 - val_loss: 0.7473 - val_accuracy: 0.7273\n"
          ]
        }
      ],
      "source": [
        "history = model.fit(X_train, y_train, epochs=100, validation_split=0.1)"
      ]
    },
    {
      "cell_type": "code",
      "execution_count": null,
      "id": "fd737d53",
      "metadata": {
        "id": "fd737d53",
        "outputId": "5801d002-6ce9-4fef-fc8a-feac2ec92be8"
      },
      "outputs": [
        {
          "data": {
            "text/plain": [
              "<matplotlib.legend.Legend at 0x19484df58b0>"
            ]
          },
          "execution_count": 34,
          "metadata": {},
          "output_type": "execute_result"
        },
        {
          "data": {
            "image/png": "[encoded data removed]",
            "text/plain": [
              "<Figure size 432x288 with 1 Axes>"
            ]
          },
          "metadata": {
            "needs_background": "light"
          },
          "output_type": "display_data"
        }
      ],
      "source": [
        "rms_history_df = pd.DataFrame(history.history)\n",
        "plt.plot(rms_history_df['loss'], label='train_loss')\n",
        "plt.plot(rms_history_df['val_loss'], label='val_loss')\n",
        "\n",
        "plt.legend()"
      ]
    },
    {
      "cell_type": "code",
      "execution_count": null,
      "id": "a5a42ff9",
      "metadata": {
        "id": "a5a42ff9",
        "outputId": "21a11a8c-3fa3-4a90-b5b6-d1410290e229"
      },
      "outputs": [
        {
          "data": {
            "text/plain": [
              "<matplotlib.legend.Legend at 0x19484e70550>"
            ]
          },
          "execution_count": 35,
          "metadata": {},
          "output_type": "execute_result"
        },
        {
          "data": {
            "image/png": "[encoded data removed]",
            "text/plain": [
              "<Figure size 432x288 with 1 Axes>"
            ]
          },
          "metadata": {
            "needs_background": "light"
          },
          "output_type": "display_data"
        }
      ],
      "source": [
        "plt.plot(rms_history_df['accuracy'], label='train_acc')\n",
        "plt.plot(rms_history_df['val_accuracy'], label='val_acc')\n",
        "\n",
        "plt.legend()"
      ]
    },
    {
      "cell_type": "markdown",
      "id": "6cbd9144",
      "metadata": {
        "id": "6cbd9144"
      },
      "source": [
        "### Performance Measure (RMSProp)"
      ]
    },
    {
      "cell_type": "code",
      "execution_count": null,
      "id": "5038872b",
      "metadata": {
        "id": "5038872b"
      },
      "outputs": [],
      "source": [
        "y_pred = model.predict(X_test)"
      ]
    },
    {
      "cell_type": "code",
      "execution_count": null,
      "id": "72060a19",
      "metadata": {
        "id": "72060a19",
        "outputId": "e5455825-1bd8-43b8-9cbb-08b72541ba52"
      },
      "outputs": [
        {
          "name": "stdout",
          "output_type": "stream",
          "text": [
            "              precision    recall  f1-score   support\n",
            "\n",
            "           0       0.80      0.74      0.77        76\n",
            "           1       0.57      0.65      0.60        40\n",
            "\n",
            "    accuracy                           0.71       116\n",
            "   macro avg       0.68      0.69      0.69       116\n",
            "weighted avg       0.72      0.71      0.71       116\n",
            "\n"
          ]
        }
      ],
      "source": [
        "y_pred = y_pred > 0.5\n",
        "print(classification_report(y_test, y_pred))"
      ]
    },
    {
      "cell_type": "markdown",
      "id": "209b25e0",
      "metadata": {
        "id": "209b25e0"
      },
      "source": [
        "## Importing ML Models"
      ]
    },
    {
      "cell_type": "code",
      "execution_count": null,
      "id": "c0819ce1",
      "metadata": {
        "id": "c0819ce1"
      },
      "outputs": [],
      "source": [
        "from sklearn.linear_model import LogisticRegression\n",
        "from sklearn.svm import SVC\n",
        "from sklearn.neighbors import KNeighborsClassifier\n",
        "from sklearn.naive_bayes import GaussianNB\n",
        "from sklearn.tree import DecisionTreeClassifier\n",
        "from sklearn.ensemble import RandomForestClassifier"
      ]
    },
    {
      "cell_type": "code",
      "execution_count": null,
      "id": "fe08c3c4",
      "metadata": {
        "id": "fe08c3c4",
        "outputId": "bd45e34c-f851-4991-9627-4fb57fff67b2"
      },
      "outputs": [
        {
          "name": "stdout",
          "output_type": "stream",
          "text": [
            "Classification Report: \n",
            "              precision    recall  f1-score   support\n",
            "\n",
            "           0       0.82      0.84      0.83        76\n",
            "           1       0.68      0.65      0.67        40\n",
            "\n",
            "    accuracy                           0.78       116\n",
            "   macro avg       0.75      0.75      0.75       116\n",
            "weighted avg       0.77      0.78      0.77       116\n",
            "\n",
            "Confusion Matrix: \n",
            "[[64 12]\n",
            " [14 26]]\n",
            "Accuracy of Logistic Regression Model: 0.78\n"
          ]
        }
      ],
      "source": [
        "# LOGISTIC REGRESSION\n",
        "log_model = LogisticRegression(solver='lbfgs', random_state=4)\n",
        "log_model.fit(X_train, y_train.values.ravel())\n",
        "log_model_pred = log_model.predict(X_test)\n",
        "\n",
        "\n",
        "print(f'Classification Report: \\n{classification_report(y_test, log_model_pred)}')\n",
        "print(f'Confusion Matrix: \\n{confusion_matrix(y_test, log_model_pred)}')\n",
        "\n",
        "log_model_acc = accuracy_score(y_test, log_model_pred)\n",
        "\n",
        "print(f'Accuracy of Logistic Regression Model: {log_model_acc:.2f}')"
      ]
    },
    {
      "cell_type": "code",
      "execution_count": null,
      "id": "f664a73b",
      "metadata": {
        "id": "f664a73b",
        "outputId": "f5f38dfb-30ec-4f69-ba60-49c4bad44e6a"
      },
      "outputs": [
        {
          "name": "stdout",
          "output_type": "stream",
          "text": [
            "Classification Report: \n",
            "              precision    recall  f1-score   support\n",
            "\n",
            "           0       0.81      0.86      0.83        76\n",
            "           1       0.69      0.62      0.66        40\n",
            "\n",
            "    accuracy                           0.78       116\n",
            "   macro avg       0.75      0.74      0.75       116\n",
            "weighted avg       0.77      0.78      0.77       116\n",
            "\n",
            "Confusion Matrix: \n",
            "[[65 11]\n",
            " [15 25]]\n",
            "Accuracy of Logistic Regression Model: 0.78\n"
          ]
        }
      ],
      "source": [
        "# SUPPORT VECTOR MACHINE\n",
        "svm_model = SVC(kernel = 'linear', random_state=4, C=1)\n",
        "svm_model.fit(X_train, y_train.values.ravel())\n",
        "svm_model_pred = svm_model.predict(X_test)\n",
        "\n",
        "\n",
        "print(f'Classification Report: \\n{classification_report(y_test, svm_model_pred)}')\n",
        "print(f'Confusion Matrix: \\n{confusion_matrix(y_test, svm_model_pred)}')\n",
        "\n",
        "svm_model_acc = accuracy_score(y_test, svm_model_pred)\n",
        "\n",
        "print(f'Accuracy of Logistic Regression Model: {svm_model_acc:.2f}')"
      ]
    },
    {
      "cell_type": "code",
      "execution_count": null,
      "id": "3eeee6bf",
      "metadata": {
        "id": "3eeee6bf",
        "outputId": "31864299-aee7-4f5c-f024-37543d283fc3"
      },
      "outputs": [
        {
          "name": "stdout",
          "output_type": "stream",
          "text": [
            "Classification Report: \n",
            "              precision    recall  f1-score   support\n",
            "\n",
            "           0       0.82      0.84      0.83        76\n",
            "           1       0.68      0.65      0.67        40\n",
            "\n",
            "    accuracy                           0.78       116\n",
            "   macro avg       0.75      0.75      0.75       116\n",
            "weighted avg       0.77      0.78      0.77       116\n",
            "\n",
            "Confusion Matrix: \n",
            "[[64 12]\n",
            " [14 26]]\n",
            "Accuracy of Logistic Regression Model: 0.78\n"
          ]
        }
      ],
      "source": [
        "# K-NEAREST NEIGHBOR MODEL\n",
        "knn_model = KNeighborsClassifier(n_neighbors=7)\n",
        "knn_model.fit(X_train, y_train.values.ravel())\n",
        "knn_model_pred = knn_model.predict(X_test)\n",
        "\n",
        "\n",
        "print(f'Classification Report: \\n{classification_report(y_test, knn_model_pred)}')\n",
        "print(f'Confusion Matrix: \\n{confusion_matrix(y_test, knn_model_pred)}')\n",
        "\n",
        "knn_model_acc = accuracy_score(y_test, knn_model_pred)\n",
        "\n",
        "print(f'Accuracy of Logistic Regression Model: {knn_model_acc:.2f}')"
      ]
    },
    {
      "cell_type": "code",
      "execution_count": null,
      "id": "06eb86de",
      "metadata": {
        "id": "06eb86de",
        "outputId": "9be844b2-e02a-43c1-8025-330c519aa535"
      },
      "outputs": [
        {
          "name": "stdout",
          "output_type": "stream",
          "text": [
            "Classification Report: \n",
            "              precision    recall  f1-score   support\n",
            "\n",
            "           0       0.80      0.80      0.80        76\n",
            "           1       0.62      0.62      0.62        40\n",
            "\n",
            "    accuracy                           0.74       116\n",
            "   macro avg       0.71      0.71      0.71       116\n",
            "weighted avg       0.74      0.74      0.74       116\n",
            "\n",
            "Confusion Matrix: \n",
            "[[61 15]\n",
            " [15 25]]\n",
            "Accuracy of Logistic Regression Model: 0.74\n"
          ]
        }
      ],
      "source": [
        "# GAUSSIAN NAIVE BAYES MODEL\n",
        "gnb_model = GaussianNB()\n",
        "gnb_model.fit(X_train, y_train.values.ravel())\n",
        "gnb_model_pred = gnb_model.predict(X_test)\n",
        "\n",
        "print(f'Classification Report: \\n{classification_report(y_test, gnb_model_pred)}')\n",
        "print(f'Confusion Matrix: \\n{confusion_matrix(y_test, gnb_model_pred)}')\n",
        "\n",
        "gnb_model_acc = accuracy_score(y_test, gnb_model_pred)\n",
        "\n",
        "print(f'Accuracy of Logistic Regression Model: {gnb_model_acc:.2f}')"
      ]
    },
    {
      "cell_type": "code",
      "execution_count": null,
      "id": "813381f1",
      "metadata": {
        "id": "813381f1",
        "outputId": "7503d02d-8289-410a-99d9-b3406a711085"
      },
      "outputs": [
        {
          "name": "stdout",
          "output_type": "stream",
          "text": [
            "Classification Report: \n",
            "              precision    recall  f1-score   support\n",
            "\n",
            "           0       0.75      0.72      0.74        76\n",
            "           1       0.51      0.55      0.53        40\n",
            "\n",
            "    accuracy                           0.66       116\n",
            "   macro avg       0.63      0.64      0.63       116\n",
            "weighted avg       0.67      0.66      0.67       116\n",
            "\n",
            "Confusion Matrix: \n",
            "[[55 21]\n",
            " [18 22]]\n",
            "Accuracy of Logistic Regression Model: 0.66\n"
          ]
        }
      ],
      "source": [
        "# DECISION TREE MODEL\n",
        "dt_model = DecisionTreeClassifier(criterion = 'entropy', random_state=12)\n",
        "dt_model.fit(X_train, y_train.values.ravel())\n",
        "dt_model_pred = dt_model.predict(X_test)\n",
        "\n",
        "print(f'Classification Report: \\n{classification_report(y_test, dt_model_pred)}')\n",
        "print(f'Confusion Matrix: \\n{confusion_matrix(y_test, dt_model_pred)}')\n",
        "\n",
        "dt_model_acc = accuracy_score(y_test, dt_model_pred)\n",
        "\n",
        "print(f'Accuracy of Logistic Regression Model: {dt_model_acc:.2f}')"
      ]
    },
    {
      "cell_type": "code",
      "execution_count": null,
      "id": "83f0fb52",
      "metadata": {
        "id": "83f0fb52",
        "outputId": "7594ce66-280d-490c-fe98-d51b866d4019"
      },
      "outputs": [
        {
          "name": "stdout",
          "output_type": "stream",
          "text": [
            "Classification Report: \n",
            "              precision    recall  f1-score   support\n",
            "\n",
            "           0       0.84      0.86      0.85        76\n",
            "           1       0.72      0.70      0.71        40\n",
            "\n",
            "    accuracy                           0.80       116\n",
            "   macro avg       0.78      0.78      0.78       116\n",
            "weighted avg       0.80      0.80      0.80       116\n",
            "\n",
            "Confusion Matrix: \n",
            "[[65 11]\n",
            " [12 28]]\n",
            "Accuracy of Logistic Regression Model: 0.80\n"
          ]
        }
      ],
      "source": [
        "# RANDOM FOREST MODEL\n",
        "rf_model = RandomForestClassifier(n_estimators=12, criterion ='entropy', random_state=12)\n",
        "rf_model.fit(X_train, y_train.values.ravel())\n",
        "rf_model_pred = rf_model.predict(X_test)\n",
        "\n",
        "\n",
        "print(f'Classification Report: \\n{classification_report(y_test, rf_model_pred)}')\n",
        "print(f'Confusion Matrix: \\n{confusion_matrix(y_test, rf_model_pred)}')\n",
        "\n",
        "rf_model_acc = accuracy_score(y_test, rf_model_pred)\n",
        "\n",
        "print(f'Accuracy of Logistic Regression Model: {rf_model_acc:.2f}')"
      ]
    },
    {
      "cell_type": "markdown",
      "id": "1a688ba9",
      "metadata": {
        "id": "1a688ba9"
      },
      "source": [
        "## Findings\n",
        "- The loss curve shows that with increase in number of iterations, validation loss increases and the validation accuracy in accuracy plot is decreasing which is called overfitting.\n",
        "- Comparing accuracy of the neural network with ML models, it is seen that the accuracy of logistic regression, svm, knn, gaussian naive bayes, decision tree and random forest models are $78\\%$, $78\\%$, $78\\%$, $74\\%$, $66\\%$, $80\\%$ respectively whereas the highest accuracy obtained from neural network is $71\\%$. That means, the ML models are performing better here. This is due to reason that, neural network is a data hungry algorithm. Its accuracy increases with increase in number of samples whereas machine learning models are suitable for comparatively less and complex and small size dataset. Moreover, the problem of overfitting can also be removed to a large extent if the number of samples could be increased."
      ]
    },
    {
      "cell_type": "code",
      "execution_count": null,
      "id": "cca09cd8",
      "metadata": {
        "id": "cca09cd8"
      },
      "outputs": [],
      "source": [
        ""
      ]
    }
  ],
  "metadata": {
    "kernelspec": {
      "display_name": "Python(tfgpu)",
      "language": "python",
      "name": "tfgpu"
    },
    "language_info": {
      "codemirror_mode": {
        "name": "ipython",
        "version": 3
      },
      "file_extension": ".py",
      "mimetype": "text/x-python",
      "name": "python",
      "nbconvert_exporter": "python",
      "pygments_lexer": "ipython3",
      "version": "3.8.5"
    },
    "colab": {
      "name": "1608012_ETE 456_R03.ipynb",
      "provenance": [],
      "collapsed_sections": [
        "18d6f726",
        "17019b88",
        "720b6ac0",
        "bb898af6",
        "25039aea",
        "0f14a2ad",
        "6cbd9144"
      ],
      "include_colab_link": true
    }
  },
  "nbformat": 4,
  "nbformat_minor": 5
}